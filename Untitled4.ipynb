{
  "nbformat": 4,
  "nbformat_minor": 0,
  "metadata": {
    "colab": {
      "name": "Untitled4.ipynb",
      "version": "0.3.2",
      "provenance": []
    },
    "kernelspec": {
      "name": "python3",
      "display_name": "Python 3"
    }
  },
  "cells": [
    {
      "metadata": {
        "id": "0J8RYtllY2JL",
        "colab_type": "code",
        "colab": {}
      },
      "cell_type": "code",
      "source": [
        "import numpy as np\n",
        "import tensorflow as tf\n",
        "import matplotlib.pyplot as plt"
      ],
      "execution_count": 0,
      "outputs": []
    },
    {
      "metadata": {
        "id": "MnTBaADkZu70",
        "colab_type": "code",
        "colab": {
          "base_uri": "https://localhost:8080/",
          "height": 479
        },
        "outputId": "a6efe60f-7379-4b3c-9785-5221ef0cf50d"
      },
      "cell_type": "code",
      "source": [
        "from tensorflow.examples.tutorials.mnist import input_data\n",
        "\n",
        "mnist = input_data.read_data_sets(\"/tmp/data/\")"
      ],
      "execution_count": 3,
      "outputs": [
        {
          "output_type": "stream",
          "text": [
            "WARNING:tensorflow:From <ipython-input-3-4141630e56b4>:3: read_data_sets (from tensorflow.contrib.learn.python.learn.datasets.mnist) is deprecated and will be removed in a future version.\n",
            "Instructions for updating:\n",
            "Please use alternatives such as official/mnist/dataset.py from tensorflow/models.\n",
            "WARNING:tensorflow:From /usr/local/lib/python3.6/dist-packages/tensorflow/contrib/learn/python/learn/datasets/mnist.py:260: maybe_download (from tensorflow.contrib.learn.python.learn.datasets.base) is deprecated and will be removed in a future version.\n",
            "Instructions for updating:\n",
            "Please write your own downloading logic.\n",
            "WARNING:tensorflow:From /usr/local/lib/python3.6/dist-packages/tensorflow/contrib/learn/python/learn/datasets/base.py:252: _internal_retry.<locals>.wrap.<locals>.wrapped_fn (from tensorflow.contrib.learn.python.learn.datasets.base) is deprecated and will be removed in a future version.\n",
            "Instructions for updating:\n",
            "Please use urllib or similar directly.\n",
            "Successfully downloaded train-images-idx3-ubyte.gz 9912422 bytes.\n",
            "WARNING:tensorflow:From /usr/local/lib/python3.6/dist-packages/tensorflow/contrib/learn/python/learn/datasets/mnist.py:262: extract_images (from tensorflow.contrib.learn.python.learn.datasets.mnist) is deprecated and will be removed in a future version.\n",
            "Instructions for updating:\n",
            "Please use tf.data to implement this functionality.\n",
            "Extracting /tmp/data/train-images-idx3-ubyte.gz\n",
            "Successfully downloaded train-labels-idx1-ubyte.gz 28881 bytes.\n",
            "WARNING:tensorflow:From /usr/local/lib/python3.6/dist-packages/tensorflow/contrib/learn/python/learn/datasets/mnist.py:267: extract_labels (from tensorflow.contrib.learn.python.learn.datasets.mnist) is deprecated and will be removed in a future version.\n",
            "Instructions for updating:\n",
            "Please use tf.data to implement this functionality.\n",
            "Extracting /tmp/data/train-labels-idx1-ubyte.gz\n",
            "Successfully downloaded t10k-images-idx3-ubyte.gz 1648877 bytes.\n",
            "Extracting /tmp/data/t10k-images-idx3-ubyte.gz\n",
            "Successfully downloaded t10k-labels-idx1-ubyte.gz 4542 bytes.\n",
            "Extracting /tmp/data/t10k-labels-idx1-ubyte.gz\n",
            "WARNING:tensorflow:From /usr/local/lib/python3.6/dist-packages/tensorflow/contrib/learn/python/learn/datasets/mnist.py:290: DataSet.__init__ (from tensorflow.contrib.learn.python.learn.datasets.mnist) is deprecated and will be removed in a future version.\n",
            "Instructions for updating:\n",
            "Please use alternatives such as official/mnist/dataset.py from tensorflow/models.\n"
          ],
          "name": "stdout"
        }
      ]
    },
    {
      "metadata": {
        "id": "qP_QXoepa8-3",
        "colab_type": "code",
        "colab": {
          "base_uri": "https://localhost:8080/",
          "height": 146
        },
        "outputId": "b77c978b-9b7e-43ac-ae58-17c4767eba47"
      },
      "cell_type": "code",
      "source": [
        "\n",
        "n_samples = 5\n",
        "\n",
        "plt.figure(figsize=(n_samples * 2, 3))\n",
        "for index in range(n_samples):\n",
        "    plt.subplot(1, n_samples, index + 1)\n",
        "    sample_image = mnist.train.images[index].reshape(28, 28)\n",
        "    plt.imshow(sample_image, cmap=\"binary\")\n",
        "    plt.axis(\"off\")\n",
        "\n",
        "plt.show()"
      ],
      "execution_count": 4,
      "outputs": [
        {
          "output_type": "display_data",
          "data": {
            "image/png": "iVBORw0KGgoAAAANSUhEUgAAAk4AAACBCAYAAAA2eDW9AAAABHNCSVQICAgIfAhkiAAAAAlwSFlz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\nRU5ErkJggg==\n",
            "text/plain": [
              "<Figure size 720x216 with 5 Axes>"
            ]
          },
          "metadata": {
            "tags": []
          }
        }
      ]
    },
    {
      "metadata": {
        "id": "bi_hjTSWbO6u",
        "colab_type": "code",
        "colab": {}
      },
      "cell_type": "code",
      "source": [
        "x = tf.placeholder(shape = [None, 28, 28, 1], dtype = tf.float32)\n",
        "caps1_n_maps = 32\n",
        "caps1_n_caps = caps1_n_maps * 6 * 6  # 1152 primary capsules\n",
        "caps1_n_dims = 8"
      ],
      "execution_count": 0,
      "outputs": []
    },
    {
      "metadata": {
        "id": "bZ6vudt3fZ58",
        "colab_type": "code",
        "colab": {}
      },
      "cell_type": "code",
      "source": [
        "conv1_params = {\n",
        "    \"filters\": 256,\n",
        "    \"kernel_size\": 9,\n",
        "    \"strides\": 1,\n",
        "    \"padding\": \"valid\",\n",
        "    \"activation\": tf.nn.relu,\n",
        "}\n",
        "\n",
        "conv2_params = {\n",
        "    \"filters\": caps1_n_maps * caps1_n_dims, # 256 convolutional filters\n",
        "    \"kernel_size\": 9,\n",
        "    \"strides\": 2,\n",
        "    \"padding\": \"valid\",\n",
        "    \"activation\": tf.nn.relu\n",
        "}"
      ],
      "execution_count": 0,
      "outputs": []
    },
    {
      "metadata": {
        "id": "Q5wwBpnqfvGT",
        "colab_type": "code",
        "colab": {}
      },
      "cell_type": "code",
      "source": [
        "conv1 = tf.layers.conv2d(x, name=\"conv1\", **conv1_params)\n",
        "conv2 = tf.layers.conv2d(conv1, name=\"conv2\", **conv2_params)\n",
        "caps1_raw = tf.reshape(conv2, [-1, caps1_n_caps, caps1_n_dims],\n",
        "                       name=\"caps1_raw\")"
      ],
      "execution_count": 0,
      "outputs": []
    },
    {
      "metadata": {
        "id": "OjN3Q6-Lg4OY",
        "colab_type": "code",
        "colab": {
          "base_uri": "https://localhost:8080/",
          "height": 34
        },
        "outputId": "6c5fab77-0262-491c-bcc0-21863346b70e"
      },
      "cell_type": "code",
      "source": [
        "def squash_fn(s, epsilon = 1e-7, axis= -1):\n",
        "    squared_norm = tf.reduce_sum(tf.square(s), axis = axis, keep_dims = True)\n",
        "    safe_norm = tf.sqrt(squared_norm + epsilon)\n",
        "    squash_factor = squared_norm / (1.0 + squared_norm)\n",
        "    unit_vector = s / safe_norm\n",
        "    return squash_factor * unit_vector\n",
        "caps1_out = squash_fn(caps1_raw)\n",
        "caps1_out.shape"
      ],
      "execution_count": 13,
      "outputs": [
        {
          "output_type": "execute_result",
          "data": {
            "text/plain": [
              "TensorShape([Dimension(None), Dimension(1152), Dimension(8)])"
            ]
          },
          "metadata": {
            "tags": []
          },
          "execution_count": 13
        }
      ]
    },
    {
      "metadata": {
        "id": "A4sBTLjjo1Af",
        "colab_type": "code",
        "colab": {
          "base_uri": "https://localhost:8080/",
          "height": 34
        },
        "outputId": "86a7a8c8-cd6a-413d-8598-3dd7e748d5b5"
      },
      "cell_type": "code",
      "source": [
        "caps2_n_caps = 10\n",
        "caps2_n_dims = 16\n",
        "init_sigma = 0.1\n",
        "\n",
        "W_init = tf.random_normal(\n",
        "    shape=(1, caps1_n_caps, caps2_n_caps, caps2_n_dims, caps1_n_dims),\n",
        "    stddev=init_sigma, dtype=tf.float32)\n",
        "w = tf.Variable(W_init)\n",
        "batch_size = tf.shape(x)[0]\n",
        "w_tiled = tf.tile(w, [batch_size, 1, 1, 1, 1])\n",
        "w_tiled"
      ],
      "execution_count": 17,
      "outputs": [
        {
          "output_type": "execute_result",
          "data": {
            "text/plain": [
              "<tf.Tensor 'Tile:0' shape=(?, 1152, 10, 16, 8) dtype=float32>"
            ]
          },
          "metadata": {
            "tags": []
          },
          "execution_count": 17
        }
      ]
    },
    {
      "metadata": {
        "id": "ooKjWMybpKgj",
        "colab_type": "code",
        "colab": {
          "base_uri": "https://localhost:8080/",
          "height": 34
        },
        "outputId": "3eb445ca-f955-4833-d757-6d407830a90c"
      },
      "cell_type": "code",
      "source": [
        "caps1_output_expanded = tf.expand_dims(caps1_out, -1)\n",
        "caps1_output_tile = tf.expand_dims(caps1_output_expanded, 2)\n",
        "caps1_output_tiled = tf.tile(caps1_output_tile, [1, 1, caps2_n_caps, 1, 1])\n",
        "caps1_output_tiled"
      ],
      "execution_count": 21,
      "outputs": [
        {
          "output_type": "execute_result",
          "data": {
            "text/plain": [
              "<tf.Tensor 'Tile_1:0' shape=(?, 1152, 10, 8, 1) dtype=float32>"
            ]
          },
          "metadata": {
            "tags": []
          },
          "execution_count": 21
        }
      ]
    },
    {
      "metadata": {
        "id": "zDMd6PRIo912",
        "colab_type": "code",
        "colab": {
          "base_uri": "https://localhost:8080/",
          "height": 258
        },
        "outputId": "6c574602-e8f0-43ad-93db-19a945f6ae93"
      },
     
