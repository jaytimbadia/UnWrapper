{
  "nbformat": 4,
  "nbformat_minor": 0,
  "metadata": {
    "colab": {
      "name": "Untitled4.ipynb",
      "version": "0.3.2",
      "provenance": []
    },
    "kernelspec": {
      "name": "python3",
      "display_name": "Python 3"
    }
  },
  "cells": [
    {
      "metadata": {
        "id": "0J8RYtllY2JL",
        "colab_type": "code",
        "colab": {}
      },
      "cell_type": "code",
      "source": [
        "import numpy as np\n",
        "import tensorflow as tf\n",
        "import matplotlib.pyplot as plt"
      ],
      "execution_count": 0,
      "outputs": []
    },
    {
      "metadata": {
        "id": "MnTBaADkZu70",
        "colab_type": "code",
        "colab": {
          "base_uri": "https://localhost:8080/",
          "height": 479
        },
        "outputId": "a6efe60f-7379-4b3c-9785-5221ef0cf50d"
      },
      "cell_type": "code",
      "source": [
        "from tensorflow.examples.tutorials.mnist import input_data\n",
        "\n",
        "mnist = input_data.read_data_sets(\"/tmp/data/\")"
      ],
      "execution_count": 3,
      "outputs": [
        {
          "output_type": "stream",
          "text": [
            "WARNING:tensorflow:From <ipython-input-3-4141630e56b4>:3: read_data_sets (from tensorflow.contrib.learn.python.learn.datasets.mnist) is deprecated and will be removed in a future version.\n",
            "Instructions for updating:\n",
            "Please use alternatives such as official/mnist/dataset.py from tensorflow/models.\n",
            "WARNING:tensorflow:From /usr/local/lib/python3.6/dist-packages/tensorflow/contrib/learn/python/learn/datasets/mnist.py:260: maybe_download (from tensorflow.contrib.learn.python.learn.datasets.base) is deprecated and will be removed in a future version.\n",
            "Instructions for updating:\n",
            "Please write your own downloading logic.\n",
            "WARNING:tensorflow:From /usr/local/lib/python3.6/dist-packages/tensorflow/contrib/learn/python/learn/datasets/base.py:252: _internal_retry.<locals>.wrap.<locals>.wrapped_fn (from tensorflow.contrib.learn.python.learn.datasets.base) is deprecated and will be removed in a future version.\n",
            "Instructions for updating:\n",
            "Please use urllib or similar directly.\n",
            "Successfully downloaded train-images-idx3-ubyte.gz 9912422 bytes.\n",
            "WARNING:tensorflow:From /usr/local/lib/python3.6/dist-packages/tensorflow/contrib/learn/python/learn/datasets/mnist.py:262: extract_images (from tensorflow.contrib.learn.python.learn.datasets.mnist) is deprecated and will be removed in a future version.\n",
            "Instructions for updating:\n",
            "Please use tf.data to implement this functionality.\n",
            "Extracting /tmp/data/train-images-idx3-ubyte.gz\n",
            "Successfully downloaded train-labels-idx1-ubyte.gz 28881 bytes.\n",
            "WARNING:tensorflow:From /usr/local/lib/python3.6/dist-packages/tensorflow/contrib/learn/python/learn/datasets/mnist.py:267: extract_labels (from tensorflow.contrib.learn.python.learn.datasets.mnist) is deprecated and will be removed in a future version.\n",
            "Instructions for updating:\n",
            "Please use tf.data to implement this functionality.\n",
            "Extracting /tmp/data/train-labels-idx1-ubyte.gz\n",
            "Successfully downloaded t10k-images-idx3-ubyte.gz 1648877 bytes.\n",
            "Extracting /tmp/data/t10k-images-idx3-ubyte.gz\n",
            "Successfully downloaded t10k-labels-idx1-ubyte.gz 4542 bytes.\n",
            "Extracting /tmp/data/t10k-labels-idx1-ubyte.gz\n",
            "WARNING:tensorflow:From /usr/local/lib/python3.6/dist-packages/tensorflow/contrib/learn/python/learn/datasets/mnist.py:290: DataSet.__init__ (from tensorflow.contrib.learn.python.learn.datasets.mnist) is deprecated and will be removed in a future version.\n",
            "Instructions for updating:\n",
            "Please use alternatives such as official/mnist/dataset.py from tensorflow/models.\n"
          ],
          "name": "stdout"
        }
      ]
    },
    {
      "metadata": {
        "id": "qP_QXoepa8-3",
        "colab_type": "code",
        "colab": {
          "base_uri": "https://localhost:8080/",
          "height": 146
        },
        "outputId": "b77c978b-9b7e-43ac-ae58-17c4767eba47"
      },
      "cell_type": "code",
      "source": [
        "\n",
        "n_samples = 5\n",
        "\n",
        "plt.figure(figsize=(n_samples * 2, 3))\n",
        "for index in range(n_samples):\n",
        "    plt.subplot(1, n_samples, index + 1)\n",
        "    sample_image = mnist.train.images[index].reshape(28, 28)\n",
        "    plt.imshow(sample_image, cmap=\"binary\")\n",
        "    plt.axis(\"off\")\n",
        "\n",
        "plt.show()"
      ],
      "execution_count": 4,
      "outputs": [
        {
          "output_type": "display_data",
          "data": {
            "image/png": "[encoded data removed]",
            "text/plain": [
              "<Figure size 720x216 with 5 Axes>"
            ]
          },
          "metadata": {
            "tags": []
          }
        }
      ]
    },
    {
      "metadata": {
        "id": "bi_hjTSWbO6u",
        "colab_type": "code",
        "colab": {}
      },
      "cell_type": "code",
      "source": [
        "x = tf.placeholder(shape = [None, 28, 28, 1], dtype = tf.float32)\n",
        "caps1_n_maps = 32\n",
        "caps1_n_caps = caps1_n_maps * 6 * 6  # 1152 primary capsules\n",
        "caps1_n_dims = 8"
      ],
      "execution_count": 0,
      "outputs": []
    },
    {
      "metadata": {
        "id": "bZ6vudt3fZ58",
        "colab_type": "code",
        "colab": {}
      },
      "cell_type": "code",
      "source": [
        "conv1_params = {\n",
        "    \"filters\": 256,\n",
        "    \"kernel_size\": 9,\n",
        "    \"strides\": 1,\n",
        "    \"padding\": \"valid\",\n",
        "    \"activation\": tf.nn.relu,\n",
        "}\n",
        "\n",
        "conv2_params = {\n",
        "    \"filters\": caps1_n_maps * caps1_n_dims, # 256 convolutional filters\n",
        "    \"kernel_size\": 9,\n",
        "    \"strides\": 2,\n",
        "    \"padding\": \"valid\",\n",
        "    \"activation\": tf.nn.relu\n",
        "}"
      ],
      "execution_count": 0,
      "outputs": []
    },
    {
      "metadata": {
        "id": "Q5wwBpnqfvGT",
        "colab_type": "code",
        "colab": {}
      },
      "cell_type": "code",
      "source": [
        "conv1 = tf.layers.conv2d(x, name=\"conv1\", **conv1_params)\n",
        "conv2 = tf.layers.conv2d(conv1, name=\"conv2\", **conv2_params)\n",
        "caps1_raw = tf.reshape(conv2, [-1, caps1_n_caps, caps1_n_dims],\n",
        "                       name=\"caps1_raw\")"
      ],
      "execution_count": 0,
      "outputs": []
    },
    {
      "metadata": {
        "id": "OjN3Q6-Lg4OY",
        "colab_type": "code",
        "colab": {
          "base_uri": "https://localhost:8080/",
          "height": 34
        },
        "outputId": "6c5fab77-0262-491c-bcc0-21863346b70e"
      },
      "cell_type": "code",
      "source": [
        "def squash_fn(s, epsilon = 1e-7, axis= -1):\n",
        "    squared_norm = tf.reduce_sum(tf.square(s), axis = axis, keep_dims = True)\n",
        "    safe_norm = tf.sqrt(squared_norm + epsilon)\n",
        "    squash_factor = squared_norm / (1.0 + squared_norm)\n",
        "    unit_vector = s / safe_norm\n",
        "    return squash_factor * unit_vector\n",
        "caps1_out = squash_fn(caps1_raw)\n",
        "caps1_out.shape"
      ],
      "execution_count": 13,
      "outputs": [
        {
          "output_type": "execute_result",
          "data": {
            "text/plain": [
              "TensorShape([Dimension(None), Dimension(1152), Dimension(8)])"
            ]
          },
          "metadata": {
            "tags": []
          },
          "execution_count": 13
        }
      ]
    },
    {
      "metadata": {
        "id": "A4sBTLjjo1Af",
        "colab_type": "code",
        "colab": {
          "base_uri": "https://localhost:8080/",
          "height": 34
        },
        "outputId": "86a7a8c8-cd6a-413d-8598-3dd7e748d5b5"
      },
      "cell_type": "code",
      "source": [
        "caps2_n_caps = 10\n",
        "caps2_n_dims = 16\n",
        "init_sigma = 0.1\n",
        "\n",
        "W_init = tf.random_normal(\n",
        "    shape=(1, caps1_n_caps, caps2_n_caps, caps2_n_dims, caps1_n_dims),\n",
        "    stddev=init_sigma, dtype=tf.float32)\n",
        "w = tf.Variable(W_init)\n",
        "batch_size = tf.shape(x)[0]\n",
        "w_tiled = tf.tile(w, [batch_size, 1, 1, 1, 1])\n",
        "w_tiled"
      ],
      "execution_count": 17,
      "outputs": [
        {
          "output_type": "execute_result",
          "data": {
            "text/plain": [
              "<tf.Tensor 'Tile:0' shape=(?, 1152, 10, 16, 8) dtype=float32>"
            ]
          },
          "metadata": {
            "tags": []
          },
          "execution_count": 17
        }
      ]
    },
    {
      "metadata": {
        "id": "ooKjWMybpKgj",
        "colab_type": "code",
        "colab": {
          "base_uri": "https://localhost:8080/",
          "height": 34
        },
        "outputId": "3eb445ca-f955-4833-d757-6d407830a90c"
      },
      "cell_type": "code",
      "source": [
        "caps1_output_expanded = tf.expand_dims(caps1_out, -1)\n",
        "caps1_output_tile = tf.expand_dims(caps1_output_expanded, 2)\n",
        "caps1_output_tiled = tf.tile(caps1_output_tile, [1, 1, caps2_n_caps, 1, 1])\n",
        "caps1_output_tiled"
      ],
      "execution_count": 21,
      "outputs": [
        {
          "output_type": "execute_result",
          "data": {
            "text/plain": [
              "<tf.Tensor 'Tile_1:0' shape=(?, 1152, 10, 8, 1) dtype=float32>"
            ]
          },
          "metadata": {
            "tags": []
          },
          "execution_count": 21
        }
      ]
    },
    {
      "metadata": {
        "id": "zDMd6PRIo912",
        "colab_type": "code",
        "colab": {
          "base_uri": "https://localhost:8080/",
          "height": 258
        },
        "outputId": "6c574602-e8f0-43ad-93db-19a945f6ae93"
      },
      "cell_type": "code",
      "source": [
        "c=open('Multiutility_lrclassifier.txt', encoding='utf-8', errors='ignore')\n",
        "import pandas as pd\n",
        "import re\n",
        "p = c.readlines()\n",
        "# print(p)\n",
        "y = p[0].split('LRRetain ')\n",
        "print(y[1])\n",
        "# t = re.findall(r'(LRRetain|LRReview)', p)\n",
        "dataf = pd.DataFrame()\n",
        "for i in p:\n",
        "    t = re.findall(r'(LRRetain|LRReview)', i)\n",
        "    if t[0] == 'LRReview':\n",
        "        o = i.split('LRReview ')\n",
        "        sentence = o[1]\n",
        "        label = 'LRReview'\n",
        "        dataf = dataf.append({'Sentence': sentence, 'Labels': label}, ignore_index=True)\n",
        "        \n",
        "    elif t[0] == 'LRRetain':\n",
        "        o = i.split('LRRetain ')\n",
        "        sentence = o[1]\n",
        "        label = 'LRRetain'\n",
        "        dataf = dataf.append({'Sentence': sentence, 'Labels': label}, ignore_index=True)\n",
        "        \n",
        "dataf['Labels'] = dataf['Labels'].map({'LRReview':1, 'LRRetain':0})\n",
        "\n",
        "lab = [1, 0]\n",
        "\n",
        "train = []\n",
        "for index, row in dataf.iterrows():\n",
        "    train.append((row['Sentence'], row['Labels']))\n",
        "dataf.head()"
      ],
      "execution_count": 106,
      "outputs": [
        {
          "output_type": "stream",
          "text": [
            "Handelsblatt reported, earlier this week that Deutsche Telekom is having Board level discussions regarding an all-stock deal to merge T-Mobile with Sprint.\n",
            "\n"
          ],
          "name": "stdout"
        },
        {
          "output_type": "execute_result",
          "data": {
            "text/html": [
              "<div>\n",
              "<style scoped>\n",
              "    .dataframe tbody tr th:only-of-type {\n",
              "        vertical-align: middle;\n",
              "    }\n",
              "\n",
              "    .dataframe tbody tr th {\n",
              "        vertical-align: top;\n",
              "    }\n",
              "\n",
              "    .dataframe thead th {\n",
              "        text-align: right;\n",
              "    }\n",
              "</style>\n",
              "<table border=\"1\" class=\"dataframe\">\n",
              "  <thead>\n",
              "    <tr style=\"text-align: right;\">\n",
              "      <th></th>\n",
              "      <th>Labels</th>\n",
              "      <th>Sentence</th>\n",
              "    </tr>\n",
              "  </thead>\n",
              "  <tbody>\n",
              "    <tr>\n",
              "      <th>0</th>\n",
              "      <td>0</td>\n",
              "      <td>Handelsblatt reported, earlier this week that ...</td>\n",
              "    </tr>\n",
              "    <tr>\n",
              "      <th>1</th>\n",
              "      <td>0</td>\n",
              "      <td>Handelsblatt a German publication reported, ea...</td>\n",
              "    </tr>\n",
              "    <tr>\n",
              "      <th>2</th>\n",
              "      <td>0</td>\n",
              "      <td>The WSJ reported, the ELM will be located in t...</td>\n",
              "    </tr>\n",
              "    <tr>\n",
              "      <th>3</th>\n",
              "      <td>0</td>\n",
              "      <td>The deal is expected to close by early 2Q17 an...</td>\n",
              "    </tr>\n",
              "    <tr>\n",
              "      <th>4</th>\n",
              "      <td>0</td>\n",
              "      <td>We believe, however, that before TMUS can shut...</td>\n",
              "    </tr>\n",
              "  </tbody>\n",
              "</table>\n",
              "</div>"
            ],
            "text/plain": [
              "   Labels                                           Sentence\n",
              "0       0  Handelsblatt reported, earlier this week that ...\n",
              "1       0  Handelsblatt a German publication reported, ea...\n",
              "2       0  The WSJ reported, the ELM will be located in t...\n",
              "3       0  The deal is expected to close by early 2Q17 an...\n",
              "4       0  We believe, however, that before TMUS can shut..."
            ]
          },
          "metadata": {
            "tags": []
          },
          "execution_count": 106
        }
      ]
    },
    {
      "metadata": {
        "id": "3tMXYugWTYtJ",
        "colab_type": "code",
        "colab": {}
      },
      "cell_type": "code",
      "source": [
        "import nltk\n",
        "nltk.download('all')"
      ],
      "execution_count": 0,
      "outputs": []
    },
    {
      "metadata": {
        "id": "YVzRY7YTTLIB",
        "colab_type": "code",
        "colab": {}
      },
      "cell_type": "code",
      "source": [
        ""
      ],
      "execution_count": 0,
      "outputs": []
    },
    {
      "metadata": {
        "id": "F-V6xNMRUw6k",
        "colab_type": "code",
        "colab": {}
      },
      "cell_type": "code",
      "source": [
        "from nltk.tokenize import word_tokenize \n",
        "all_words = set(word.lower() for passage in train for word in word_tokenize(passage[0]))\n",
        "t = [({word: (word in word_tokenize(x[0])) for word in all_words}, x[1]) for x in train]"
      ],
      "execution_count": 0,
      "outputs": []
    },
    {
      "metadata": {
        "id": "4iC4kSiUV87M",
        "colab_type": "code",
        "colab": {
          "base_uri": "https://localhost:8080/",
          "height": 204
        },
        "outputId": "3ccad1fd-808e-47ce-d247-d79b96b91793"
      },
      "cell_type": "code",
      "source": [
        "import nltk\n",
        "classifier = nltk.NaiveBayesClassifier.train(t)\n",
        "classifier.show_most_informative_features()"
      ],
      "execution_count": 89,
      "outputs": [
        {
          "output_type": "stream",
          "text": [
            "Most Informative Features\n",
            "                 believe = True                0 : 1      =     37.9 : 1.0\n",
            "                  expect = True                0 : 1      =     23.8 : 1.0\n",
            "                   could = True                0 : 1      =     13.1 : 1.0\n",
            "                    view = True                0 : 1      =      6.6 : 1.0\n",
            "                      we = True                0 : 1      =      6.2 : 1.0\n",
            "                    note = True                0 : 1      =      5.7 : 1.0\n",
            "                proposed = True                0 : 1      =      5.7 : 1.0\n",
            "                     may = True                0 : 1      =      5.5 : 1.0\n",
            "                  likely = True                0 : 1      =      5.3 : 1.0\n",
            "                reported = True                0 : 1      =      5.3 : 1.0\n"
          ],
          "name": "stdout"
        }
      ]
    },
    {
      "metadata": {
        "id": "-ZhV6rpFbZx8",
        "colab_type": "code",
        "colab": {
          "base_uri": "https://localhost:8080/",
          "height": 153
        },
        "outputId": "24a577e7-ac10-4c5d-e042-a790207a366c"
      },
      "cell_type": "code",
      "source": [
        "from nltk.classify import MaxentClassifier\n",
        "me_classifier = MaxentClassifier.train(t, algorithm='iis', trace=0, max_iter=1, min_lldelta=0.5)"
      ],
      "execution_count": 99,
      "outputs": [
        {
          "output_type": "stream",
          "text": [
            "/usr/local/lib/python3.6/dist-packages/nltk/classify/maxent.py:1313: RuntimeWarning: overflow encountered in power\n",
            "  exp_nf_delta = 2 ** nf_delta\n",
            "/usr/local/lib/python3.6/dist-packages/nltk/classify/maxent.py:1315: RuntimeWarning: invalid value encountered in multiply\n",
            "  sum1 = numpy.sum(exp_nf_delta * A, axis=0)\n",
            "/usr/local/lib/python3.6/dist-packages/nltk/classify/maxent.py:1316: RuntimeWarning: invalid value encountered in multiply\n",
            "  sum2 = numpy.sum(nf_exp_nf_delta * A, axis=0)\n",
            "/usr/local/lib/python3.6/dist-packages/nltk/classify/maxent.py:1323: RuntimeWarning: invalid value encountered in true_divide\n",
            "  deltas -= (ffreq_empirical - sum1) / -sum2\n"
          ],
          "name": "stderr"
        }
      ]
    },
    {
      "metadata": {
        "id": "D5-bPe1bbjAj",
        "colab_type": "code",
        "colab": {
          "base_uri": "https://localhost:8080/",
          "height": 187
        },
        "outputId": "83aa9dd8-8757-463f-e4ca-3f8d8200ba68"
      },
      "cell_type": "code",
      "source": [
        "me_classifier.show_most_informative_features()"
      ],
      "execution_count": 100,
      "outputs": [
        {
          "output_type": "stream",
          "text": [
            "     nan assistance==False and label is 0\n",
            "     nan has==False and label is 0\n",
            "     nan minority==False and label is 0\n",
            "     nan secondary==False and label is 0\n",
            "     nan rational==False and label is 0\n",
            "     nan win==False and label is 0\n",
            "     nan poised==False and label is 0\n",
            "     nan pre-election==False and label is 0\n",
            "     nan hear==False and label is 0\n",
            "     nan seems==False and label is 0\n"
          ],
          "name": "stdout"
        }
      ]
    },
    {
      "metadata": {
        "id": "KtYMHrFjWSKf",
        "colab_type": "code",
        "colab": {}
      },
      "cell_type": "code",
      "source": [
        "list2 =[]\n",
        "for i in test_sent:\n",
        "    test_sent_features = {word.lower(): (word in word_tokenize(i.lower())) for word in all_words}\n",
        "    list2.append(test_sent_features)"
      ],
      "execution_count": 0,
      "outputs": []
    },
    {
      "metadata": {
        "id": "v-HUcag9WrD2",
        "colab_type": "code",
        "colab": {}
      },
      "cell_type": "code",
      "source": [
        "li = []\n",
        "for i in list2:\n",
        "    li.append(classifier.classify(i))\n",
        "\n",
        "li2 = []\n",
        "for i in list2:\n",
        "    li2.append(me_classifier.classify(i))"
      ],
      "execution_count": 0,
      "outputs": []
    },
    {
      "metadata": {
        "id": "QUQ5oyEeW63l",
        "colab_type": "code",
        "colab": {
          "base_uri": "https://localhost:8080/",
          "height": 638
        },
        "outputId": "00a1f866-9cca-4f5e-f3a0-cde512299306"
      },
      "cell_type": "code",
      "source": [
        "res = pd.DataFrame({'Sentence':test_sent, 'Actual_res':labelstest, 'predicted_res_naive':li})\n",
        "\n",
        "res['Actual_res'] = res['Actual_res'].map({0:'Retain', 1:'Review'})\n",
        "res['predicted_res_naive'] = res['predicted_res_naive'].map({0:'Retain', 1:'Review'})\n",
        "res\n"
      ],
      "execution_count": 105,
      "outputs": [
        {
          "output_type": "execute_result",
          "data": {
            "text/html": [
              "<div>\n",
              "<style scoped>\n",
              "    .dataframe tbody tr th:only-of-type {\n",
              "        vertical-align: middle;\n",
              "    }\n",
              "\n",
              "    .dataframe tbody tr th {\n",
              "        vertical-align: top;\n",
              "    }\n",
              "\n",
              "    .dataframe thead th {\n",
              "        text-align: right;\n",
              "    }\n",
              "</style>\n",
              "<table border=\"1\" class=\"dataframe\">\n",
              "  <thead>\n",
              "    <tr style=\"text-align: right;\">\n",
              "      <th></th>\n",
              "      <th>Actual_res</th>\n",
              "      <th>Sentence</th>\n",
              "      <th>predicted_res_naive</th>\n",
              "    </tr>\n",
              "  </thead>\n",
              "  <tbody>\n",
              "    <tr>\n",
              "      <th>0</th>\n",
              "      <td>Retain</td>\n",
              "      <td>we conservatively estimate that flows into ESG...</td>\n",
              "      <td>Retain</td>\n",
              "    </tr>\n",
              "    <tr>\n",
              "      <th>1</th>\n",
              "      <td>Review</td>\n",
              "      <td>we assure that the flows into ESG-type funds o...</td>\n",
              "      <td>Retain</td>\n",
              "    </tr>\n",
              "    <tr>\n",
              "      <th>2</th>\n",
              "      <td>Retain</td>\n",
              "      <td>Amid a rise in ESG investing, we could see a d...</td>\n",
              "      <td>Retain</td>\n",
              "    </tr>\n",
              "    <tr>\n",
              "      <th>3</th>\n",
              "      <td>Review</td>\n",
              "      <td>Amid a rise in ESG investing, there is a drama...</td>\n",
              "      <td>Review</td>\n",
              "    </tr>\n",
              "    <tr>\n",
              "      <th>4</th>\n",
              "      <td>Retain</td>\n",
              "      <td>our work suggests that signalling power improv...</td>\n",
              "      <td>Retain</td>\n",
              "    </tr>\n",
              "    <tr>\n",
              "      <th>5</th>\n",
              "      <td>Review</td>\n",
              "      <td>our work proves that signalling power improves...</td>\n",
              "      <td>Retain</td>\n",
              "    </tr>\n",
              "    <tr>\n",
              "      <th>6</th>\n",
              "      <td>Retain</td>\n",
              "      <td>Based on our analysis, Environmental Innovatio...</td>\n",
              "      <td>Retain</td>\n",
              "    </tr>\n",
              "    <tr>\n",
              "      <th>7</th>\n",
              "      <td>Review</td>\n",
              "      <td>Environmental Innovation (a Thomson Reuters sc...</td>\n",
              "      <td>Review</td>\n",
              "    </tr>\n",
              "    <tr>\n",
              "      <th>8</th>\n",
              "      <td>Retain</td>\n",
              "      <td>Trends in the US investment landscape indicate...</td>\n",
              "      <td>Retain</td>\n",
              "    </tr>\n",
              "    <tr>\n",
              "      <th>9</th>\n",
              "      <td>Review</td>\n",
              "      <td>Trends in the US investment landscape will mak...</td>\n",
              "      <td>Retain</td>\n",
              "    </tr>\n",
              "    <tr>\n",
              "      <th>10</th>\n",
              "      <td>Retain</td>\n",
              "      <td>Assuming an increase in wealth in the US of ar...</td>\n",
              "      <td>Retain</td>\n",
              "    </tr>\n",
              "    <tr>\n",
              "      <th>11</th>\n",
              "      <td>Review</td>\n",
              "      <td>Increase in wealth in the US of around $4tn pe...</td>\n",
              "      <td>Retain</td>\n",
              "    </tr>\n",
              "    <tr>\n",
              "      <th>12</th>\n",
              "      <td>Retain</td>\n",
              "      <td>Based on our analysis, investors would have in...</td>\n",
              "      <td>Retain</td>\n",
              "    </tr>\n",
              "    <tr>\n",
              "      <th>13</th>\n",
              "      <td>Retain</td>\n",
              "      <td>In our view, analyzing stocks using non-fundam...</td>\n",
              "      <td>Retain</td>\n",
              "    </tr>\n",
              "    <tr>\n",
              "      <th>14</th>\n",
              "      <td>Retain</td>\n",
              "      <td>According to our surveys, US companies estimat...</td>\n",
              "      <td>Retain</td>\n",
              "    </tr>\n",
              "    <tr>\n",
              "      <th>15</th>\n",
              "      <td>Retain</td>\n",
              "      <td>A 2016 PwC report revealed that 100% of corpor...</td>\n",
              "      <td>Retain</td>\n",
              "    </tr>\n",
              "    <tr>\n",
              "      <th>16</th>\n",
              "      <td>Retain</td>\n",
              "      <td>In our 2018 survey of institutional investors,...</td>\n",
              "      <td>Retain</td>\n",
              "    </tr>\n",
              "    <tr>\n",
              "      <th>17</th>\n",
              "      <td>Retain</td>\n",
              "      <td>ESG saw a surge in popularity among our instit...</td>\n",
              "      <td>Review</td>\n",
              "    </tr>\n",
              "    <tr>\n",
              "      <th>18</th>\n",
              "      <td>Review</td>\n",
              "      <td>Corporate America is waking up to ESG as it pe...</td>\n",
              "      <td>Review</td>\n",
              "    </tr>\n",
              "  </tbody>\n",
              "</table>\n",
              "</div>"
            ],
            "text/plain": [
              "   Actual_res                                           Sentence  \\\n",
              "0      Retain  we conservatively estimate that flows into ESG...   \n",
              "1      Review  we assure that the flows into ESG-type funds o...   \n",
              "2      Retain  Amid a rise in ESG investing, we could see a d...   \n",
              "3      Review  Amid a rise in ESG investing, there is a drama...   \n",
              "4      Retain  our work suggests that signalling power improv...   \n",
              "5      Review  our work proves that signalling power improves...   \n",
              "6      Retain  Based on our analysis, Environmental Innovatio...   \n",
              "7      Review  Environmental Innovation (a Thomson Reuters sc...   \n",
              "8      Retain  Trends in the US investment landscape indicate...   \n",
              "9      Review  Trends in the US investment landscape will mak...   \n",
              "10     Retain  Assuming an increase in wealth in the US of ar...   \n",
              "11     Review  Increase in wealth in the US of around $4tn pe...   \n",
              "12     Retain  Based on our analysis, investors would have in...   \n",
              "13     Retain  In our view, analyzing stocks using non-fundam...   \n",
              "14     Retain  According to our surveys, US companies estimat...   \n",
              "15     Retain  A 2016 PwC report revealed that 100% of corpor...   \n",
              "16     Retain  In our 2018 survey of institutional investors,...   \n",
              "17     Retain  ESG saw a surge in popularity among our instit...   \n",
              "18     Review  Corporate America is waking up to ESG as it pe...   \n",
              "\n",
              "   predicted_res_naive  \n",
              "0               Retain  \n",
              "1               Retain  \n",
              "2               Retain  \n",
              "3               Review  \n",
              "4               Retain  \n",
              "5               Retain  \n",
              "6               Retain  \n",
              "7               Review  \n",
              "8               Retain  \n",
              "9               Retain  \n",
              "10              Retain  \n",
              "11              Retain  \n",
              "12              Retain  \n",
              "13              Retain  \n",
              "14              Retain  \n",
              "15              Retain  \n",
              "16              Retain  \n",
              "17              Review  \n",
              "18              Review  "
            ]
          },
          "metadata": {
            "tags": []
          },
          "execution_count": 105
        }
      ]
    },
    {
      "metadata": {
        "id": "s1LofRSJInDN",
        "colab_type": "code",
        "colab": {
          "base_uri": "https://localhost:8080/",
          "height": 479
        },
        "outputId": "6e4276a4-4c09-4566-c25e-96bc10271a38"
      },
      "cell_type": "code",
      "source": [
        "import pandas as pd\n",
        "from sklearn.preprocessing import LabelEncoder\n",
        "import os\n",
        "import nltk\n",
        "import re\n",
        "from nltk.tokenize import word_tokenize\n",
        "from sklearn.metrics import recall_score,precision_score,accuracy_score\n",
        "from sklearn.model_selection import GridSearchCV\n",
        "from sklearn.pipeline import Pipeline\n",
        "from sklearn.preprocessing import StandardScaler\n",
        "from sklearn.svm import SVC\n",
        "from sklearn.feature_extraction.text import TfidfTransformer, CountVectorizer\n",
        "\n",
        "\n",
        "le=LabelEncoder()\n",
        "df_lr= dataf\n",
        "\n",
        "def process_content(sentences):\n",
        "    try:\n",
        "        clean_text = []\n",
        "        for sentence in sentences:\n",
        "            sentence = re.sub('[\\W]+',' ',sentence)\n",
        "            parsed_sent = ''\n",
        "            words=nltk.pos_tag(word_tokenize(sentence))\n",
        "            accepted_tags=['J','V','M']\n",
        "            for word,tag in words:\n",
        "                if tag[0] in accepted_tags:\n",
        "                    parsed_sent += word + ' '\n",
        "            clean_text.append(parsed_sent)\n",
        "            #print(\"clean text\", clean_text)\n",
        "        return clean_text\n",
        "\n",
        "    except Exception as e:\n",
        "        print(str(e))\n",
        "\n",
        "\n",
        "X_train = df_lr.loc[:, 'Sentence'].values\n",
        "y_train = le.fit_transform(df_lr.loc[:, 'Labels'].values)\n",
        "\n",
        "X_train = process_content(X_train)\n",
        "print(X_train)\n",
        "print(y_train)\n",
        "\n",
        "X_test = df_lr.loc[:, 'Sentence'].values[:100]\n",
        "y_test = le.fit_transform(df_lr.loc[:, 'Labels'].values[:100])\n",
        "\n",
        "X_test = process_content(X_test)\n",
        "\n",
        "vectorizer = CountVectorizer()\n",
        "# tokenize and build vocab\n",
        "vectorizer.fit(X_train)\n",
        "# summarize\n",
        "print(vectorizer.vocabulary_)\n",
        "\n",
        "\n",
        "pipe_svc = Pipeline([('vect', CountVectorizer()),('tfidf',  TfidfTransformer()),\n",
        "                     ('svmc', SVC(random_state = 0))])\n",
        "\n",
        "param_range = [0.001, 0.01, 0.1, 1.0, 10.0, 100.0, 1000.0]\n",
        "param_grid = [{'vect__max_df': (0.5, 0.75, 1.0),\n",
        "               'vect__ngram_range': ((1, 2), (2, 2)),\n",
        "               'tfidf__use_idf': (True, False),\n",
        "               'svmc__C' : param_range,\n",
        "               'svmc__gamma' : param_range,\n",
        "               'svmc__kernel' : ['rbf','poly','sigmoid']}]\n",
        "if __name__ == \"__main__\":\n",
        "    gs = GridSearchCV(pipe_svc,\n",
        "                  param_grid,\n",
        "                  scoring = 'accuracy',\n",
        "                  cv = 10,\n",
        "                  n_jobs = -1)\n",
        "\n",
        "\n",
        "    gs.fit(X_train, y_train)\n",
        "\n",
        "    print(gs.best_params_)\n",
        "    print(gs.best_score_)\n",
        "\n"
      ],
      "execution_count": 107,
      "outputs": [
        {
          "output_type": "stream",
          "text": [
            "['reported is having regarding merge ', 'German reported is having regarding merge ', 'reported will be located central ', 'is expected close early is subject ', 'believe can shut will have augment own accommodate multi ', 'is s relative will remain wide due is greater ', 'view main low have dampened Iranian domestic ', 'reported would fit ', 'view systemic implicit central needed tweeted was missing major tweeting is thinking ', 'same tweeted is is headquartered ', 'think reported would imply limited rerating indicated previous published ', 'seems be c ', 'limited do see obvious large illustrated suggested is would have been implied c ', 'has higher absolute better vs has greater c vs c ', 'Proposed largest highest based proprietary ', 'has reported are active potential ', 'deal have reported has approached potential ', 'is reporting are merge ', 'enjoy cheapest has paid paid unlimited ', 'new will impact ', 'special are suggested working would be important ', 'past few past few particular has been increased relating tie ', 'is having regarding merge ', 'is having merge ', 'will close early is subject ', 'can shut will have augment own accommodate multi ', 's relative will remain wide due is greater ', 'will be main low have dampened Iranian domestic ', 'would fit ', 'systemic implicit central needed tweeted was missing major tweeting is thinking ', 'same is is headquartered ', 'reported would imply limited rerating indicated previous published ', 'has be c ', 'do see obvious large illustrated suggested is would have been implied c ', 'largest highest based proprietary ', 'are active potential ', 'deal has approached potential ', 'are merge ', 'positive would diversify shareholding secure premium organic paving future organic integrated ', 'said believe relative remain long reaching ', 'relative remain long reaching ', 'believe is potential ', 'is potential ', 'discount assuming close could be valued ', 'discount assuming close will be valued ', 'Assuming pre could be valued ', 'Assuming pre will be valued ', 'believe are major including lower reduced ', 'would be major including lower reduced ', 'regulatory will focus anti competitive expect would try address major including ', 'regulatory will focus anti competitive would try address major including ', 'could be grandfather current cheapest comparable ', 'will be grandfather current cheapest comparable ', 'expect were announced pro would evangelize investing combined could catch ', 'were announced pro would evangelize investing combined could catch ', 'Based is clear are motivated advertise largest possible ', 'is clear are motivated advertise largest possible ', 'was predicated sh based s discounted should be ', 'was predicated sh based s discounted would be ', 'would require vs current s diluting existing c creative allows control consolidate does ', 'Closing would require vs current s diluting existing c creative allows control consolidate does ', 'believe current has priced ', 'current has priced ', 'estimate s potential be worth c could therefore support ', 'potential be worth c support ', 'has fallen previous peaked ', 'proposed will be converted issued ', 'will be converted issued ', 'are positive proposed ', 'are positive ', 'proposed should make largest highest ', 'would make largest highest ', 'believe would have difficult piecing individual replicate ', 'will have difficult piecing individual replicate ', 'proposed will retain ', 'will retain ', 'believe comes attractive more s current ', 'comes attractive more s current ', 'believe realize s is enhanced ', 'realize s is enhanced ', 'According announced definitive will merge creating largest anchored ', 'announced definitive will merge creating largest anchored ', 'particular proposes private third existing buy least key ', 'particular private third existing buy least key ', 'view proposed positive would diversify shareholding secure premium organic paving future organic integrated ', 'are positive would diversify shareholding secure premium organic paving future organic integrated ', 'intends issue new current gross ', 'issue new current gross ', 'calculate maximum could buy be enlarged ', 'calculate maximum will buy be enlarged ', 'suggest proposed can help reduce ', 'proposed can help reduce ', 'can be vested ', 'will be vested ', 'expect current would face significant professional healthcare ', 'current would face significant professional healthcare ', 'could be potential inorganic abound ', 'will be potential inorganic abound ', 'believe may be easy fix financial ', 'is easy fix financial ', 'expects will rise stay healthy post going ', 'will rise stay healthy post going ', 'seems expect strong continue ', 'see strong continue ', 'various suggest financial may be serious ', 'financial would be serious ', 'hypothetical were be sold see strategic potential consider s ', 'see strategic potential consider s ', 'believe combined is large potential may be good remaining ', 'combined is large potential would be good remaining ', 'understand public have been shut run reduced due working ', 'have been shut run reduced due working ', 'has reported are active potential ', 'are active potential ', 'reported are active potential ', 'are active potential ', 'are reported have been frequent would make created ', 'have been frequent would make created ', 'recent suggests increasing positive mirroring expressed ', 'recent increasing positive mirroring expressed ', 'believe further US is likely support short initial ', 'US support short initial ', 'According joined would be higher current previous would appear have been rising recent ', 'According joined would be higher current previous would appear have been rising recent ', 'views doable ', 'will happen ', 'think has priced ', 'has priced ', 'could be finalizing potential being main ', 'are finalizing potential being main ', 'would be new have new becoming combined according ', 'would be new have new becoming combined ', 'believe is optimistic ', 'is optimistic future ', 'believe strong past was driven high low are sustainable ', 'strong past was driven high low are sustainable ', 'Based seem believe is undervalued considering was strong is ', 'is undervalued considering was strong is ', 'listing is expected acquired distressed have given ', 'listing will be acquired distressed have given ', 'agree could help replenish s ', 'agree will help replenish s ', 'Stable could reduce ', 'Stable will reduce ', 'believe are could be optimistic ', 'would will be optimistic ', 'Distressed distressed distressed accounted s total significant would expect ', 'Distressed distressed distressed will account s total significant will be expecting ', 'highlight distressed real s past has been are ', 'distressed real s past was are ', 'announced has submitted confidential possible ', 'announced has submitted confidential possible ', 'is provide s is led private including believe should be selling existing ', 'key is provide s is led private including should be selling existing ', 'new are involved could use reduce is use potential ', 'new are involved will use reduce is use potential ', 'Given is third believe is likely commend is trading ', 'Given is third will commend is trading ', 'expect be ', 'be ', 'believe has do net will rise most is reasonable ', 'has do net will rise most ', 'could reduce s pay special short believe would view could buy remove long ', 'will reduce s pay special short will view can buy remove long ', 'potential would be positive would facilitate complete enhance ', 'potential is be positive facilitate complete enhance ', 'deal have reported has approached potential ', 'deal has approached potential ', 'likely wants ', 'wants ', 's commented regarding is likely coming near ', 's commented regarding near ', 'is is excessive places higher is unlikely ', 'is is excessive places higher is unlikely ', 'late reported was regarding augment invest ended have hear ', 'was regarding augment invest ended have hear ', 'believe is likely could create cheaper national ease regulatory s d formidable ', 'will be will create cheaper national ease regulatory s d formidable ', 'has stated does want acquire ', 'does want acquire ', 'Given large reported potential view unlikely ', 'Given large reported potential is unlikely ', 'believe are aspirational best ', 'find are aspirational best ', 'largest identifiable come tie ', 'largest identifiable come tie ', 'believe left s regarding due high has been put public is s respond ', 'left s regarding due high has been put public is s respond ', 'believe is ultimate following recent ', 'is ultimate following recent ', 'near believe will help attract improve reported reduce wealth will lead higher further ', 'near will help attract improve reported reduce wealth will lead higher further ', 'can have fixed floating determined ', 'must have fixed floating determined ', 'can be purchased e similar ', 'must be purchased e similar ', 'can be purchased third ', 'must be purchased third ', 'will replace ', 'will replace ', 'believe will be priced ', 'will be priced ', 'Compared better lower can be transferred redeemed earlier are guaranteed ', 'Compared better lower are transferred redeemed earlier are guaranteed ', 'is likely be lower could use replace high offered corporate private high individual ', 'is lower would use replace high offered corporate private high individual ', 'will accelerate fixed deposits priced can quicken ', 'will accelerate fixed deposits priced quicken ', 'could argue foreign are more skeptical expect correct second due ', 's correct second due ', 'think may turn be clash level ', 'will turn be clash level ', 'expect further ', 'is further ', 'looking make US next looking invest near believe would remain big international near is miniscule ', 'looking make US next looking invest near would remain big international near is miniscule ', 'expect show exponential matures ', 'will show exponential matures ', 'long believe is co given huge ', 'is co given huge ', 'expect remain high next continues achieve curtail ', 'remain high next continues achieve curtail ', 'could be remain ', 'will be remain ', 'note has remain unsure will remain longer ', 'has will remain longer ', 'will list mn keeping will act ', 'will list mn keeping will act ', 'hence expect remain high near ', 'remain high near ', 'think is co ', 'is co ', 'Given Indian is nascent remains possible global may look compete local ', 'Given Indian is nascent global will look compete local ', 'estimate organized retail be total retail expect increase ', 'organized is be total retail increase ', 'get changed future believe may follow hybrid could control entire ', 'get changed future will follow hybrid can control entire ', 'Based short comes is having broader cheaper ', 'is having broader cheaper ', 'expect continued high near ', 'offer continued high near ', 'mentioned standard will spend ', 'will spend ', 'per planned will be could be Indian foreign ', 'planned will be is going be Indian foreign ', 'intends touch US may look inorganic grow ', 'intends touch US will look inorganic grow ', 'estimate coming semi urban ', 'coming semi urban ', 'consider be sensitive pricing vs urban shop online get prefer shop shops do have ', 'subs are sensitive pricing vs urban shop online get prefer shop shops do have ', 'leverage huge offline tied leading ', 'leverage huge offline will tie leading next ', 'Given limited think is big international is focusing ', 'Given limited is big international is focusing ', 'expect continue make replicate best required suit Indian ', 'will continue make replicate best required suit Indian ', 'note is long focused international exemplified ', 'is long focused international exemplified ', 's announced will invest ', 'will invest ', 'per helps bridge key reduces launch helps manage ', 'helps bridge key reduces launch helps manage ', 'expects total cross open retail long will be able load mobile ', 'total will cross open retail long will be able load mobile ', 'expects increase current c ', 'increase current c ', 'mobile moving see moving risks cannibalizing ', 'mobile moving are moving risks cannibalizing ', 'intends foray offline retail is tying quick QSRs ', 'foray offline retail is tying quick QSRs ', 'next few expect e expand high improve move ', 'expand high improve move ', 'will help smaller will either ', 'will help smaller will either ', 'are raising forecasts improving faster due increasing ', 'be higher improving faster due increasing ', 'big had larger compared existing due aggressive ', 'big had larger compared existing due aggressive ', 'is expecting entire ', 'will earn entire ', 'hence expect hyper continue see further coming online ', 'hyper will continue is further coming online ', 'are expected be top followed large ', 'will be top followed large ', 'big are estimated have spent ', 'big have spent ', 'continue view rational focused growing see new continue affect ', 'will be focused growing new continue affect ', 'previous had highlighted top e are looking grow led improving mobile ', 'top e are looking grow led improving mobile ', 'flag innovative taken expand addressable current urban high non mobile non low tying leveraging developed ', 'is innovative taken expand addressable current urban high non mobile non low tying leveraging developed ', 'tie is able expand addressable effective fortify rural ', 'tie is able expand addressable effective has potential fortify rural ', 'gives increase rural current urban ', 'gives potential increase rural current urban ', 'is successful may accelerate extend ', 'is successful may accelerate extend ', 'Going will experiment alternate would see playing deeper ', 'Going may experiment alternate would see playing deeper ', 'favorable is will see being able expand is expected contribute larger going ', 'believes favorable is will see being able expand is expected contribute larger going ', 'next recharges continue increase other new ', 'next expects recharges continue increase other new ', 'other will grow will be stable ', 'other are expected grow may be stable ', 'will increase leading robust ', 'is likely increase leading robust ', 's will be normal will be shared resulting ', 'expects be normal will be shared resulting ', 'has potential fortify s rural amongst low improving addressable ', 'believe has potential fortify s rural amongst low improving addressable ', 'has wants extend s will come ', 'has wants extend expects c come ', 'allows increase rural effective ', 'gives potential increase rural effective ', 'can approach ', 'can approach ', 'will help expand addressable ', 'is likely help expand addressable ', 'is able expand addressable do own mobile helps low end ', 'is able expand addressable do own mobile helps low end ', 'continues show strong ', 'note continues show strong ', 'has overtaken become s largest online ', 'unconfirmed have suggested has overtaken become s largest online ', 'is successful may accelerate extend ', 'is successful may accelerate extend ', 'will derive annual medium ', 'is likely derive annual medium ', 'will divest key European settle anti trust ', 'has proposed divest key European settle anti trust ', 'are vital maintain face potential was weak ', 'are vital believe maintain face potential was weak ', 'italian owned will take will be auctioned values ', 'italian owned will take will be auctioned values ', 'has taken significant past solving should allow re focus addressing key strategic eg faces ', 'has taken significant past solving should allow re focus addressing key strategic eg faces ', 'will have limited Italian near maintains is limited third ', 'believe will have limited Italian near maintains is limited third ', 'Italian will start eroding will be gradual given continues have ', 'expect see Italian start eroding think will be gradual given continues have ', 'commissioned would put extra is large change competitive ', 'commissioned could put extra beleive is large change competitive ', 'continue see challenged recent failed would put extra corporate ', 'continue see challenged believe recent failed could put extra corporate ', 'Indian is given rising evolving improving ', 'consider Indian be given rising evolving improving ', 'will be hyper coming led maturing support etc initiate bullish dial local leading online ', 'expect hyper coming led maturing support etc initiate bullish dial local leading online ', 'following will evolve ', 'following may evolve ', 'expect show similar ', 'will show similar ', 'will be different given larger fragmented higher Chinese entering linguistic mobile being key ', 'believe will be different given larger fragmented higher Chinese entering linguistic mobile being key ', 'OTA achieve US less s ', 'estimate OTA achieve US less s ', 'is attractive offers free new current ', 'find Just dial attractive believe offers free new current ', 'is missing operational led moving high ', 'believe is missing operational led moving high ', 'would look invest would surprise would drive ', 'would look invest can surprise drive ', 's would help improve mobile estimate ', 'implements could help improve mobile estimate ', 'will achieve annualized ', 'expect achieve annualized ', 'will benefit is horizontal would have expand ', 'find Just benefit is horizontal would have expand ', 'poised benefit hyper coming led maturing ', 'find poised benefit hyper coming led maturing ', 'is will achieve coming similar past few led improving evolving improving ', 'believe is will achieve coming similar past few led improving evolving improving ', 'key are maturing support ', 'note key are maturing support ', 'listed are positioned benefit coming respective sizes given competitive positioning ', 'consider listed positioned benefit coming respective sizes given competitive positioning ', 'will be contracting expanding are trying convert incremental advertising more educating ', 'near might see contracting expanding are trying convert incremental advertising more educating ', 'is supportive improving more being released push get US improve ', 'is supportive improving more being released push get US improve ', 'implements would improve accelerate benefiting listed ', 'believe implements would improve accelerate benefiting listed ', 'will achieve annualized ', 'expect achieve annualized ', 'will benefit given s would have expand ', 'find Just benefit given s would have expand ', 'would focus investing would surprise would drive ', 'would focus investing can surprise drive ', 'most have strong net third is expected be net positive next ', 'most internet note have strong net third is expected be net positive next ', 'would be able evolve address is key ', 'may be able evolve address is key ', 'Given are evolving foreign new stronger financial better will lead potential ', 'Given are evolving do rule foreign new stronger financial better leading potential ', 'dial is justified given higher estimated ', 'believe dial is justified given higher estimated ', 'implements would help improve accelerate benefiting listed ', 'implements would help improve accelerate benefiting listed ', 'will complete be completed ', 'is expected be completed be completed ', 'implemented guided will improve current ', 'implemented guided believe will improve current ', 'will benefit listed ', 'believe will benefit listed ', 'will benefit given is horizontal would have expand ', 'find Just benefit given is horizontal would have expand ', 'Indian is given declining increasing improving evolving ', 'Indian is given declining increasing improving evolving ', 'will be key internet given lower fixed ', 'expect mobile be key internet given lower fixed ', 'rising declining improving is going improve ', 'rising declining improving expect broadband improve ', 'help improve would improve respond ', 'expect help improve would improve respond ', 'Indian will be open use new i e accessing would find easier evolve compared ageing ', 'believe Indian will be open use new i e accessing would find easier evolve compared ageing ', 'more will come tier semi urban have purchasing buy newer do have required nearby ', 'believe more will come tier semi urban have purchasing buy newer do have required nearby ', 'Going be dominated ', 'Going expect online be dominated ', 'are funded will remain intense near ', 'are funded see remaining near ', 'cater niche are going generate higher given specialized ', 'cater niche can generate higher given specialized ', 'will touch believe will be proxy have higher ', 'estimate touch believe will be proxy have higher ', 'Given are happening e are keen moving will take evolve ', 'Given are happening e are keen moving believe will take evolve ', 'several Indian will gain achieve ', 'expect several Indian gain achieve ', '', 'Neutral ', 'unlocking will continue ', 'unlocking may continue ', 's contributes grow steady driven improving ', 'expect s contributes grow steady driven improving ', 'will offer s ', 'will offer s ', 'raised other higher may lead potential ', 'believe further raised other higher may lead potential ', 'real increase declining ', 'expect real increase declining ', 's aggressive international will lead higher ', 'believe s aggressive international will lead higher ', 'will help garner better stronger ', 'will help garner better stronger ', 'raised higher current would lead unlocking s ', 'raised higher current would lead unlocking s ', 'continue dominate generate providing ', 'expect continue dominate generate providing ', 'will be total is estimated grow c ', 'is expected be total is estimated grow c ', 'has sustainable competitive given strong helps have ', 'believe has sustainable competitive given strong helps have ', 'will continue limited competitive Indian ', 'expect continue limited competitive Indian ', 'has being gaining offlate is used more less seeking ', 'has being gaining note is used more less seeking ', 'will improve coming led improving s be vs ', 'expect s improve coming led improving s be vs ', 'should help contributes ', 'should help contributes ', 'gaining material s new will lead ', 'gaining material s new Semantic should lead ', 'lower will widen less higher contrary ', 'lower should widen less higher contrary ', '', '', 'own combined is be special combined ', 'highlighted regarding potential citing familiar own combined is be special combined ', '', '', 'will be hyper coming led improving evolving improving online ', 'expect see hyper coming led improving evolving improving online ', 'most are decided most will follow takes ', 'most are decided expect follow takes ', 'are cheap hence have show stronger gross ', 'Most met believe are cheap hence have show stronger gross ', 'shifting low high margin s will improve ', 'shifting low high margin expect s improve ', 'experience hyper similar ', 'expect will experience hyper similar ', 'will be different given larger fragmented higher linguistic key ', 'believe will be different given larger fragmented higher linguistic key ', 'is will achieve hyper coming led improving evolving improving ', 'is will achieve hyper coming led improving evolving improving ', 'telco declining improving trust current transacting will increase next ', 'expected telco declining improving expect current transacting increase next ', 's provide high rural is executed would lead further ', 's provide high rural is executed may lead further ', 'popular was would prefer contributes ', 'popular was might prefer contributes ', 'most would have been decided click ', 'most have been decided click ', 'would see new entering will be difficult displace would be material ', 'may see new entering believe will be difficult displace are material ', 'will be takes making difficult smaller survive ', 'Most met believe will be takes making difficult smaller survive ', 'find placed improve competitive most struggling obtain ', 'is placed improve competitive most struggling obtain ', 'most are funded remain positioned meet future ', 'note most are funded remain positioned meet future ', 'Most met believe are cheap ', 'are cheap ', 'is increasing limited would improve ', 'is increasing limited could improve ', 'has been forced most will scale acquire ', 'has been met think was forced most scaling acquiring ', 'will be takes making difficult smaller survive ', 'Most met believe will be takes making difficult smaller survive ', 'Most would be funded remain positioned meet future ', 'note most are funded remain positioned meet future ', 'would see new entering will be difficult displace would be material ', 'may see new entering believe will be difficult displace are material ', 'will require hybrid combining providing interactive ', 'may require hybrid combining providing interactive ', 'will require hybrid combining providing interactive ', 'may require hybrid combining providing interactive ', 'will continue dominate preferred ', 'may continue dominate preferred ', 'gaming has being big increasing youth improving will be few emerge ', 'gaming has being big increasing youth improving see few emerge ', 'would be support appears short driving targeted ', 'should be support appears short driving targeted ', 'would be correlated exposure high low ', 'should be correlated exposure high low ', 'would drive positive ', 'should drive positive ', 's solid remains above would least sustain focuses leverages global ', 's solid remains above should least sustain focuses leverages global ', 'will be most losing lags ', 'appears be most losing lags ', 'next will replace based ', 'next estimate will replace based ', 'affirm based ', 'reiterate based ', 'will go offset modest economic ', 'have lowered underlying offset modest economic ', 'have highlighted earlier tend do ', 'tend do ', 'will reinforce current show leading ', 'think will reinforce current show leading ', 'are important boosting attracting ', 'Past suggests are important boosting attracting ', 'will become major may emerge serious traditional ', 'believe can become major may emerge serious traditional ', 'has clear ', 'has clear ', 'will help avoid high ', 'has been reported may help avoid high ', 'has considerable will hinder ascending international ', 'has considerable believe will hinder ascending international ', 'given digital are easier carry would be particular large scale are conducted ', 'given digital are easier carry could be particular large scale are conducted ', 'will seek do covered ', 'could seek do covered ', 'offered would be printing etc ', 'offered are printing etc ', 'would grow high ', 'is growing high ', 'superior operating caused would move ', 'superior operating caused operating move ', 'operating would imply higher due gross ', 'operating should imply higher due gross ', 'working will shrink next ', 'working can shrink next ', 'would be last ', 'should be last ', 'will be missing major ', 'tweeted was missing major ', 'will be tie ', 'past few past few particular has been increased relating tie ', 'would be imposed ', 'suggested would be imposed ', 'would introduce monthly sponsored foreign total ', 'has introduced monthly sponsored foreign total ', 'shipping increasing would favour large deep going ', 'shipping increasing has favoured large deep going ', 'wins would be drastic ', 'wins could be drastic ', 'collaborate would go ', 'collaborate can go ', 'is calculated final would go ', 'is calculated final could go ', 'discount assuming close XYZ would trade ', 'discount assuming close could trade ', 'are will submit annual notify central ', 'are should submit annual notify central ', 'indirect lower regional domestic real would be pronounced remains low ', 'indirect lower regional domestic real should be pronounced remains low ', 'is predicated sh discounted would be ', 'is predicated sh discounted could be ', 'Assuming goes would be ', 'Assuming goes should be ', 'discount assuming close would trade ', 'discount assuming close could trade ', 'will decelerate higher financial ', 'has decelerated higher financial ', 'will be justify further ', 'may be justify further ', 'had indicated will be close ', 'will indicate be close ', 'Adding unaffected would generate ', 'Adding unaffected should generate ', 'were announced pro would evangelize investing combined could catch ', 'proposed were announced pro would evangelize investing combined could catch ', 'would be noted will be realized low will have strong ', 'should be noted can be realized low is likely have strong ', 'would be correlated exposure high low ', 'have been correlated exposure high low ', 'would translate better new short recurring long ', 'should translate better new short recurring long ', 'will imply valuing implied ', 'has implied valuing implied ', 'will stipulate least ', 'could stipulate least ', 'Private will dilute ', 'Private should dilute ', 'will announce new ', 'reported will announce new ', 'reported will announce new ', 'will announce new ', 'has decided will need step new ', 'reported has decided will need step new ', 'Such strong has taken are focusing improving mobile ', 'Such strong will take will focus improving mobile ', 'sell secondary has increased past few ', 'secondary will increase past few ', 'mobile has overtaken entire Indian ', 'will overtake entire Indian ', 'has dominated online c ', 'will dominate online c ', 'has been able change ', 'will be able change ', 'Traditional have increased adapting cater specific ', 'Traditional will increase will adapt cater specific ', 'has amongst lowest emerging giving immense ', 'will lowest emerging giving immense ', 'given overall muted new new has surged higher ', 'new will surge higher ', 'highest youngest relative have gained ', 'highest youngest relative will gain ', 'are looking increase ', 'will look increase ', 'eyewear are looking open improve competitive ', 'eyewear will look open improve competitive ', 'Given weak immature tailing are finding costlier deliver ', 'tailing will find costlier deliver ', 'are focused same urban look reduce deliver tier ', 'will focus same urban look reduce deliver tier ', 'are focused offer cheaper online ', 'will focus will offer cheaper online ', 'are investing own ensure better lower ', 'will invest own ensure better lower ', 'increasing big tailing are focusing better drive competitive ', 'Big tailing will focus better drive competitive ', 'has strong is looking expand improve ', 'strong will look expand improve ', 'is increasing are open buying selling used ', 'are open buy sell used ', 'are overweight sweeping ', 'will overweight ', 'has replaced has done ', 'will replace will do ', 'is driven high including ', 'will drive high including ', 'has resulted strengthening new ', 'will result strengthening new ', 'emerge more are aiming spur launching fresh discounting stale ', 'emerge more are aiming spur launching fresh discounting stale ', 'has been steady early replace aging ', 'will be steady replace aging ', 's is skewed due large ', 's will skew due large ', 'had raised ', 'will raise ', 'large have seen do better ', 'large will see do ', 'have indicated will make form ', 'indicates will make form ', 'Employed non is registered qualified ', 'Employed non will register ', 'Overall return optimistic are offering disrupting existing ', 'will offer disrupting existing ', 'have been increased second prime being hiked Rs compared regular ', 'will increase second prime will hike compared regular ', 'Indian coming are seeing foreign ', 'will see foreign ', 'is similar ', 'will be ', 'Using historical devised rank estimate particular will reach particular including ', 'devised rank are certain particular will reach particular including ', 'provide likely will unfold ', 'will be based likely will unfold ', 'says has winning followed ', 'will win is followed ', 'plus considers stochastic using statistical ', 'confirm stochastic using statistical ', 'assume scored is described called explained following statistical ', 'scored is described called explained following statistical ', 'will re run using updated historical generate new new ', 'will be re run using updated historical generate new new ', 'has highest Elo is favored ', 'has highest Elo will be favored ', 'was devised rank ', 'will be used rank ']\n",
            "[0 0 0 0 0 0 0 0 0 0 0 0 0 0 0 0 0 0 0 1 1 1 1 1 1 1 1 1 1 1 1 1 1 1 1 1 1\n",
            " 1 1 0 1 0 1 0 1 0 1 0 1 0 1 0 1 0 1 0 1 0 1 0 1 0 1 0 1 1 0 1 0 1 0 1 0 1\n",
            " 0 1 0 1 0 1 0 1 0 1 0 1 0 1 0 1 0 1 0 1 0 1 0 1 0 1 0 1 0 1 0 1 0 1 0 1 0\n",
            " 1 0 1 0 1 0 1 0 1 0 1 0 1 0 1 0 1 0 1 0 1 0 1 0 1 0 1 0 1 0 1 0 1 0 1 0 1\n",
            " 0 1 0 1 0 1 0 1 0 1 0 1 0 1 0 1 0 1 0 1 0 1 0 1 0 1 0 1 0 1 0 1 0 1 0 1 0\n",
            " 1 0 1 0 1 0 1 0 1 0 1 0 1 0 1 0 1 0 1 0 1 0 1 0 1 0 1 0 1 0 1 0 1 0 1 0 1\n",
            " 0 1 0 1 0 1 0 1 0 1 0 1 0 1 0 1 0 1 0 1 0 1 0 1 0 1 0 1 0 1 0 1 0 1 0 1 0\n",
            " 1 0 1 0 1 0 1 0 1 0 1 0 1 0 1 0 1 0 1 0 1 0 1 0 1 0 1 0 1 0 1 0 1 0 1 1 0\n",
            " 1 0 1 0 1 0 1 0 1 0 1 0 1 0 1 0 1 0 1 0 1 0 1 0 1 0 1 0 1 0 1 0 1 0 1 0 1\n",
            " 0 1 0 1 0 1 0 1 0 1 0 1 0 1 0 1 0 1 0 1 0 1 0 1 0 1 0 1 0 1 0 1 0 1 0 1 0\n",
            " 1 0 1 0 1 0 1 0 1 0 1 0 1 0 1 0 1 0 1 0 1 0 1 0 1 0 1 0 1 0 1 0 1 0 1 0 1\n",
            " 0 1 0 1 0 1 0 1 0 1 0 1 0 1 0 1 0 1 0 1 0 1 0 1 0 1 0 1 0 1 0 1 0 1 0 1 0\n",
            " 1 0 1 0 1 0 1 0 1 0 1 0 1 0 1 0 1 0 1 0 1 0 1 0 1 0 1 0 1 0 1 0 1 0 1 0 1\n",
            " 0 1 0 1 0 1 0 1 0 1 0 1 0 1 0 1 0 1 0 1 0 0 1 0 1 0 1 1 0 1 0 1 0 1 0 1 0\n",
            " 1 0 1 0 1 0 1 0 1 0 1 0 1 0 1 0 1 0 1 0 0 1 1 0 0 1 1 0 1 0 1 0 1 0 1 0 1\n",
            " 0 1 0 1 0 1 0 1 0 1 0 1 0 1 0 1 0 1 0 1 0 1 0 1 0 1 0 1 0 1 0 1 0 1 0 1 0\n",
            " 1 0 1 0 1 0 1 0 1 0 1 0 0 1 1 0 1 0 0 1 1 0 1 0 1 0 1 0 1 0 1 0 0 1 1 0 0\n",
            " 1 0 1 0 1 0 1 0 1 0 1 0 1 0 1 0 1 0 1 0 1 0 1 0 1 0 1 0 1 0 1 0 1 0 1 0 1\n",
            " 0 1 0 1 0 1 0 1 0 1 0 1 0 1 0 1 0 1 0 1 0 1 0 1 0 1 0 1 0 1 0 1 0 1 0 1 0\n",
            " 1 0 1 0 1 0 1]\n",
            "{'reported': 588, 'is': 377, 'having': 314, 'regarding': 569, 'merge': 440, 'german': 291, 'will': 763, 'be': 58, 'located': 414, 'central': 87, 'expected': 230, 'close': 100, 'early': 192, 'subject': 678, 'believe': 64, 'can': 81, 'shut': 644, 'have': 313, 'augment': 55, 'own': 497, 'accommodate': 6, 'multi': 455, 'relative': 578, 'remain': 580, 'wide': 761, 'due': 190, 'greater': 303, 'view': 751, 'main': 424, 'low': 420, 'dampened': 149, 'iranian': 376, 'domestic': 182, 'would': 769, 'fit': 259, 'systemic': 698, 'implicit': 343, 'needed': 463, 'tweeted': 726, 'was': 757, 'missing': 445, 'major': 427, 'tweeting': 727, 'thinking': 708, 'same': 610, 'headquartered': 315, 'think': 707, 'imply': 345, 'limited': 407, 'rerating': 592, 'indicated': 357, 'previous': 525, 'published': 541, 'seems': 623, 'do': 179, 'see': 618, 'obvious': 476, 'large': 389, 'illustrated': 337, 'suggested': 685, 'been': 61, 'implied': 344, 'has': 312, 'higher': 323, 'absolute': 3, 'better': 69, 'vs': 754, 'proposed': 534, 'largest': 391, 'highest': 324, 'based': 57, 'proprietary': 536, 'are': 45, 'active': 15, 'potential': 519, 'deal': 150, 'approached': 44, 'reporting': 589, 'enjoy': 210, 'cheapest': 94, 'paid': 499, 'unlimited': 737, 'new': 466, 'impact': 340, 'special': 655, 'working': 767, 'important': 346, 'past': 501, 'few': 253, 'particular': 500, 'increased': 352, 'relating': 577, 'tie': 710, 'positive': 516, 'diversify': 177, 'shareholding': 635, 'secure': 617, 'premium': 524, 'organic': 489, 'paving': 502, 'future': 284, 'integrated': 365, 'said': 609, 'long': 415, 'reaching': 557, 'discount': 171, 'assuming': 50, 'could': 140, 'valued': 746, 'pre': 520, 'including': 350, 'lower': 421, 'reduced': 567, 'regulatory': 574, 'focus': 264, 'anti': 40, 'competitive': 115, 'expect': 229, 'try': 723, 'address': 19, 'grandfather': 302, 'current': 147, 'comparable': 112, 'were': 760, 'announced': 37, 'pro': 531, 'evangelize': 220, 'investing': 374, 'combined': 104, 'catch': 84, 'clear': 98, 'motivated': 452, 'advertise': 22, 'possible': 517, 'predicated': 521, 'sh': 633, 'discounted': 172, 'should': 641, 'require': 590, 'diluting': 170, 'existing': 226, 'creative': 145, 'allows': 32, 'control': 133, 'consolidate': 125, 'does': 181, 'closing': 101, 'priced': 526, 'estimate': 216, 'worth': 768, 'therefore': 706, 'support': 689, 'fallen': 246, 'peaked': 504, 'converted': 135, 'issued': 379, 'make': 428, 'difficult': 167, 'piecing': 506, 'individual': 360, 'replicate': 587, 'retain': 599, 'comes': 107, 'attractive': 53, 'more': 450, 'realize': 559, 'enhanced': 209, 'according': 7, 'definitive': 157, 'creating': 144, 'anchored': 35, 'proposes': 535, 'private': 530, 'third': 709, 'buy': 76, 'least': 398, 'key': 387, 'intends': 366, 'issue': 378, 'gross': 304, 'calculate': 78, 'maximum': 435, 'enlarged': 211, 'suggest': 684, 'help': 319, 'reduce': 566, 'vested': 750, 'face': 242, 'significant': 645, 'professional': 532, 'healthcare': 316, 'inorganic': 364, 'abound': 1, 'may': 436, 'easy': 196, 'fix': 260, 'financial': 256, 'expects': 232, 'rise': 601, 'stay': 668, 'healthy': 317, 'post': 518, 'going': 299, 'strong': 675, 'continue': 126, 'various': 749, 'serious': 630, 'hypothetical': 335, 'sold': 652, 'strategic': 673, 'consider': 121, 'good': 300, 'remaining': 581, 'understand': 733, 'public': 540, 'run': 607, 'frequent': 280, 'created': 143, 'recent': 562, 'suggests': 686, 'increasing': 353, 'mirroring': 444, 'expressed': 238, 'further': 283, 'us': 742, 'likely': 406, 'short': 640, 'initial': 361, 'joined': 381, 'appear': 41, 'rising': 602, 'views': 752, 'doable': 180, 'happen': 310, 'finalizing': 255, 'being': 62, 'becoming': 60, 'optimistic': 488, 'driven': 188, 'high': 322, 'sustainable': 696, 'seem': 622, 'undervalued': 734, 'considering': 123, 'listing': 411, 'acquired': 12, 'distressed': 176, 'given': 293, 'agree': 29, 'replenish': 586, 'stable': 662, 'accounted': 9, 'total': 714, 'account': 8, 'expecting': 231, 'highlight': 325, 'real': 558, 'submitted': 680, 'confidential': 119, 'provide': 537, 'led': 399, 'selling': 626, 'involved': 375, 'use': 743, 'commend': 109, 'trading': 717, 'net': 464, 'most': 451, 'reasonable': 561, 'pay': 503, 'remove': 583, 'facilitate': 244, 'complete': 116, 'enhance': 208, 'wants': 756, 'commented': 110, 'coming': 108, 'near': 460, 'excessive': 223, 'places': 508, 'unlikely': 736, 'late': 393, 'invest': 373, 'ended': 207, 'hear': 318, 'create': 142, 'cheaper': 93, 'national': 459, 'ease': 194, 'formidable': 276, 'stated': 666, 'want': 755, 'acquire': 11, 'aspirational': 48, 'best': 68, 'find': 257, 'identifiable': 336, 'come': 106, 'left': 400, 'put': 545, 'respond': 594, 'ultimate': 729, 'following': 270, 'attract': 51, 'improve': 348, 'wealth': 759, 'lead': 396, 'fixed': 261, 'floating': 263, 'determined': 162, 'must': 456, 'purchased': 542, 'similar': 646, 'replace': 584, 'compared': 113, 'transferred': 720, 'redeemed': 565, 'earlier': 191, 'guaranteed': 307, 'offered': 478, 'corporate': 136, 'accelerate': 4, 'deposits': 159, 'quicken': 549, 'argue': 46, 'foreign': 274, 'skeptical': 648, 'correct': 137, 'second': 615, 'turn': 725, 'clash': 97, 'level': 402, 'looking': 418, 'next': 468, 'big': 70, 'international': 369, 'miniscule': 443, 'show': 642, 'exponential': 236, 'matures': 433, 'co': 102, 'huge': 332, 'continues': 128, 'achieve': 10, 'curtail': 148, 'note': 472, 'unsure': 739, 'longer': 416, 'list': 409, 'mn': 446, 'keeping': 386, 'act': 14, 'hence': 321, 'indian': 355, 'nascent': 458, 'remains': 582, 'global': 296, 'look': 417, 'compete': 114, 'local': 413, 'organized': 490, 'retail': 598, 'increase': 351, 'get': 292, 'changed': 91, 'follow': 268, 'hybrid': 333, 'entire': 214, 'broader': 74, 'continued': 127, 'offer': 477, 'mentioned': 439, 'standard': 664, 'spend': 658, 'per': 505, 'planned': 509, 'touch': 715, 'grow': 305, 'semi': 628, 'urban': 741, 'sensitive': 629, 'pricing': 527, 'shop': 638, 'online': 484, 'prefer': 522, 'shops': 639, 'subs': 681, 'leverage': 403, 'offline': 482, 'tied': 711, 'leading': 397, 'focusing': 267, 'required': 591, 'suit': 687, 'focused': 265, 'exemplified': 225, 'helps': 320, 'bridge': 72, 'reduces': 568, 'launch': 394, 'manage': 430, 'cross': 146, 'open': 485, 'able': 0, 'load': 412, 'mobile': 447, 'moving': 454, 'risks': 603, 'cannibalizing': 82, 'foray': 271, 'tying': 728, 'quick': 548, 'qsrs': 546, 'expand': 227, 'move': 453, 'smaller': 651, 'either': 201, 'raising': 552, 'forecasts': 273, 'improving': 349, 'faster': 248, 'had': 309, 'larger': 390, 'aggressive': 27, 'earn': 193, 'hyper': 334, 'top': 713, 'followed': 269, 'estimated': 217, 'spent': 659, 'rational': 554, 'growing': 306, 'affect': 24, 'highlighted': 326, 'flag': 262, 'innovative': 363, 'taken': 701, 'addressable': 20, 'non': 470, 'leveraging': 405, 'developed': 163, 'effective': 199, 'fortify': 277, 'rural': 608, 'gives': 294, 'successful': 682, 'extend': 239, 'experiment': 234, 'alternate': 33, 'playing': 510, 'deeper': 156, 'favorable': 249, 'contribute': 131, 'believes': 65, 'recharges': 563, 'other': 492, 'robust': 604, 'normal': 471, 'shared': 634, 'resulting': 597, 'amongst': 34, 'approach': 43, 'end': 206, 'overtaken': 495, 'become': 59, 'unconfirmed': 731, 'derive': 160, 'annual': 38, 'medium': 437, 'divest': 178, 'european': 219, 'settle': 631, 'trust': 722, 'vital': 753, 'maintain': 425, 'weak': 758, 'italian': 380, 'owned': 498, 'take': 700, 'auctioned': 54, 'values': 747, 'solving': 654, 'allow': 31, 're': 555, 'addressing': 21, 'eg': 200, 'faces': 243, 'maintains': 426, 'start': 665, 'eroding': 215, 'gradual': 301, 'commissioned': 111, 'extra': 240, 'change': 90, 'beleive': 63, 'challenged': 89, 'failed': 245, 'evolving': 222, 'maturing': 434, 'etc': 218, 'initiate': 362, 'bullish': 75, 'dial': 165, 'evolve': 221, 'different': 166, 'fragmented': 278, 'chinese': 95, 'entering': 213, 'linguistic': 408, 'ota': 491, 'less': 401, 'offers': 480, 'free': 279, 'just': 382, 'operational': 487, 'surprise': 693, 'drive': 187, 'implements': 342, 'annualized': 39, 'benefit': 66, 'horizontal': 331, 'poised': 512, 'listed': 410, 'positioned': 514, 'respective': 593, 'sizes': 647, 'positioning': 515, 'contracting': 129, 'expanding': 228, 'trying': 724, 'convert': 134, 'incremental': 354, 'advertising': 23, 'educating': 198, 'might': 442, 'supportive': 690, 'released': 579, 'push': 544, 'benefiting': 67, 'internet': 370, 'stronger': 676, 'rule': 606, 'justified': 383, 'completed': 117, 'implemented': 341, 'guided': 308, 'declining': 154, 'broadband': 73, 'accessing': 5, 'easier': 195, 'ageing': 26, 'tier': 712, 'purchasing': 543, 'newer': 467, 'nearby': 461, 'dominated': 184, 'funded': 282, 'intense': 367, 'cater': 85, 'niche': 469, 'generate': 290, 'specialized': 656, 'proxy': 539, 'happening': 311, 'keen': 385, 'several': 632, 'gain': 285, 'neutral': 465, 'unlocking': 738, 'contributes': 132, 'steady': 669, 'raised': 551, 'garner': 289, 'dominate': 183, 'providing': 538, 'gaining': 287, 'offlate': 481, 'used': 744, 'seeking': 621, 'material': 432, 'semantic': 627, 'widen': 762, 'contrary': 130, 'citing': 96, 'familiar': 247, 'decided': 153, 'takes': 702, 'cheap': 92, 'met': 441, 'shifting': 636, 'margin': 431, 'experience': 233, 'telco': 704, 'transacting': 719, 'executed': 224, 'popular': 513, 'click': 99, 'displace': 174, 'making': 429, 'survive': 694, 'placed': 507, 'struggling': 677, 'obtain': 475, 'meet': 438, 'forced': 272, 'scale': 612, 'scaling': 613, 'acquiring': 13, 'combining': 105, 'interactive': 368, 'preferred': 523, 'gaming': 288, 'youth': 772, 'emerge': 203, 'appears': 42, 'driving': 189, 'targeted': 703, 'correlated': 138, 'exposure': 237, 'solid': 653, 'above': 2, 'sustain': 695, 'focuses': 266, 'leverages': 404, 'losing': 419, 'lags': 388, 'affirm': 25, 'reiterate': 576, 'go': 297, 'offset': 483, 'modest': 448, 'economic': 197, 'lowered': 422, 'underlying': 732, 'tend': 705, 'reinforce': 575, 'boosting': 71, 'attracting': 52, 'traditional': 718, 'avoid': 56, 'considerable': 122, 'hinder': 329, 'ascending': 47, 'digital': 168, 'carry': 83, 'conducted': 118, 'seek': 620, 'covered': 141, 'printing': 529, 'superior': 688, 'operating': 486, 'caused': 86, 'shrink': 643, 'last': 392, 'imposed': 347, 'introduce': 371, 'monthly': 449, 'sponsored': 660, 'introduced': 372, 'shipping': 637, 'favour': 251, 'deep': 155, 'favoured': 252, 'wins': 766, 'drastic': 186, 'collaborate': 103, 'calculated': 79, 'final': 254, 'xyz': 770, 'trade': 716, 'submit': 679, 'notify': 474, 'indirect': 359, 'regional': 570, 'pronounced': 533, 'goes': 298, 'decelerate': 151, 'decelerated': 152, 'justify': 384, 'indicate': 356, 'adding': 18, 'unaffected': 730, 'noted': 473, 'realized': 560, 'translate': 721, 'recurring': 564, 'valuing': 748, 'stipulate': 671, 'dilute': 169, 'announce': 36, 'need': 462, 'step': 670, 'such': 683, 'sell': 625, 'secondary': 616, 'overtake': 494, 'adapting': 17, 'specific': 657, 'adapt': 16, 'lowest': 423, 'emerging': 204, 'giving': 295, 'immense': 339, 'overall': 493, 'muted': 457, 'surged': 692, 'surge': 691, 'youngest': 771, 'gained': 286, 'eyewear': 241, 'immature': 338, 'tailing': 699, 'finding': 258, 'costlier': 139, 'deliver': 158, 'ensure': 212, 'buying': 77, 'overweight': 496, 'sweeping': 697, 'replaced': 585, 'done': 185, 'resulted': 596, 'strengthening': 674, 'result': 595, 'aiming': 30, 'spur': 661, 'launching': 395, 'fresh': 281, 'discounting': 173, 'stale': 663, 'aging': 28, 'skewed': 650, 'skew': 649, 'raise': 550, 'seen': 624, 'form': 275, 'indicates': 358, 'employed': 205, 'registered': 572, 'qualified': 547, 'register': 571, 'return': 600, 'offering': 479, 'disrupting': 175, 'prime': 528, 'hiked': 328, 'rs': 605, 'regular': 573, 'hike': 327, 'seeing': 619, 'using': 745, 'historical': 330, 'devised': 164, 'rank': 553, 'reach': 556, 'certain': 88, 'unfold': 735, 'says': 611, 'winning': 765, 'win': 764, 'plus': 511, 'considers': 124, 'stochastic': 672, 'statistical': 667, 'confirm': 120, 'assume': 49, 'scored': 614, 'described': 161, 'called': 80, 'explained': 235, 'updated': 740, 'elo': 202, 'favored': 250}\n",
            "{'svmc__C': 10.0, 'svmc__gamma': 1.0, 'svmc__kernel': 'sigmoid', 'tfidf__use_idf': False, 'vect__max_df': 0.5, 'vect__ngram_range': (1, 2)}\n",
            "0.7816901408450704\n"
          ],
          "name": "stdout"
        },
        {
          "output_type": "stream",
          "text": [
            "/usr/local/lib/python3.6/dist-packages/sklearn/model_selection/_search.py:841: DeprecationWarning: The default of the `iid` parameter will change from True to False in version 0.22 and will be removed in 0.24. This will change numeric results when test-set sizes are unequal.\n",
            "  DeprecationWarning)\n"
          ],
          "name": "stderr"
        }
      ]
    },
    {
      "metadata": {
        "id": "bPO1Nc9lkb_e",
        "colab_type": "code",
        "colab": {
          "base_uri": "https://localhost:8080/",
          "height": 85
        },
        "outputId": "9716614f-7bab-4122-b458-13f99976c4d1"
      },
      "cell_type": "code",
      "source": [
        "vectorizer = CountVectorizer(ngram_range=(1,2), max_df = 0.5)\n",
        "X = vectorizer.fit_transform(dataf['Sentence'])\n",
        "y= dataf['Labels'].tolist()\n",
        "from sklearn.model_selection import train_test_split  \n",
        "X_train, X_test, y_train, y_test = train_test_split(X.toarray(), y, test_size = 0.20) \n",
        "from sklearn import svm\n",
        "clf = svm.SVC(C=10.0, kernel = 'sigmoid', gamma=1.0)\n",
        "clf.fit(X_train, y_train)  "
      ],
      "execution_count": 125,
      "outputs": [
        {
          "output_type": "execute_result",
          "data": {
            "text/plain": [
              "SVC(C=10.0, cache_size=200, class_weight=None, coef0=0.0,\n",
              "  decision_function_shape='ovr', degree=3, gamma=1.0, kernel='sigmoid',\n",
              "  max_iter=-1, probability=False, random_state=None, shrinking=True,\n",
              "  tol=0.001, verbose=False)"
            ]
          },
          "metadata": {
            "tags": []
          },
          "execution_count": 125
        }
      ]
    },
    {
      "metadata": {
        "id": "ZP8oKwE4mzBm",
        "colab_type": "code",
        "colab": {
          "base_uri": "https://localhost:8080/",
          "height": 221
        },
        "outputId": "093c96ad-bb19-4685-9972-90dc0fedb3e6"
      },
      "cell_type": "code",
      "source": [
        "print(X_test.shape)\n",
        "y_pred = clf.predict(X_test) \n",
        "from sklearn.metrics import classification_report, confusion_matrix  \n",
        "print(confusion_matrix(y_test,y_pred))  \n",
        "print(classification_report(y_test,y_pred))  \n"
      ],
      "execution_count": 126,
      "outputs": [
        {
          "output_type": "stream",
          "text": [
            "(142, 8296)\n",
            "[[49 24]\n",
            " [31 38]]\n",
            "              precision    recall  f1-score   support\n",
            "\n",
            "           0       0.61      0.67      0.64        73\n",
            "           1       0.61      0.55      0.58        69\n",
            "\n",
            "   micro avg       0.61      0.61      0.61       142\n",
            "   macro avg       0.61      0.61      0.61       142\n",
            "weighted avg       0.61      0.61      0.61       142\n",
            "\n"
          ],
          "name": "stdout"
        }
      ]
    },
    {
      "metadata": {
        "id": "PDHlzWlRIsgc",
        "colab_type": "code",
        "colab": {
          "base_uri": "https://localhost:8080/",
          "height": 34
        },
        "outputId": "853faf4d-f0f4-416c-edb4-c5dd874f6139"
      },
      "cell_type": "code",
      "source": [
        "X_new = vectorizer.transform(test_sent)\n",
        "X_new.toarray().shape"
      ],
      "execution_count": 127,
      "outputs": [
        {
          "output_type": "execute_result",
          "data": {
            "text/plain": [
              "(19, 8296)"
            ]
          },
          "metadata": {
            "tags": []
          },
          "execution_count": 127
        }
      ]
    },
    {
      "metadata": {
        "id": "5M47mT6XnU41",
        "colab_type": "code",
        "colab": {
          "base_uri": "https://localhost:8080/",
          "height": 34
        },
        "outputId": "78964c44-4351-40e8-b10e-e689d31e9100"
      },
      "cell_type": "code",
      "source": [
        "y_pred_new = clf.predict(X_new.toarray())\n",
        "u = y_pred_new.tolist()\n",
        "u"
      ],
      "execution_count": 130,
      "outputs": [
        {
          "output_type": "execute_result",
          "data": {
            "text/plain": [
              "[0, 0, 1, 1, 0, 0, 0, 0, 0, 0, 0, 0, 0, 1, 1, 0, 1, 1, 0]"
            ]
          },
          "metadata": {
            "tags": []
          },
          "execution_count": 130
        }
      ]
    },
    {
      "metadata": {
        "id": "gxW6rrlNogJl",
        "colab_type": "code",
        "colab": {
          "base_uri": "https://localhost:8080/",
          "height": 638
        },
        "outputId": "fc09f823-2b7d-48a9-b2ae-36d312c8c309"
      },
      "cell_type": "code",
      "source": [
        "res = pd.DataFrame({'Sentence':test_sent, 'Actual_res':labelstest, 'predicted_res_naive':li, 'predicted_svm':u})\n",
        "\n",
        "res['Actual_res'] = res['Actual_res'].map({0:'Retain', 1:'Review'})\n",
        "res['predicted_res_naive'] = res['predicted_res_naive'].map({0:'Retain', 1:'Review'})\n",
        "res['predicted_svm'] = res['predicted_svm'].map({0:'Retain', 1:'Review'})\n",
        "res"
      ],
      "execution_count": 131,
      "outputs": [
        {
          "output_type": "execute_result",
          "data": {
            "text/html": [
              "<div>\n",
              "<style scoped>\n",
              "    .dataframe tbody tr th:only-of-type {\n",
              "        vertical-align: middle;\n",
              "    }\n",
              "\n",
              "    .dataframe tbody tr th {\n",
              "        vertical-align: top;\n",
              "    }\n",
              "\n",
              "    .dataframe thead th {\n",
              "        text-align: right;\n",
              "    }\n",
              "</style>\n",
              "<table border=\"1\" class=\"dataframe\">\n",
              "  <thead>\n",
              "    <tr style=\"text-align: right;\">\n",
              "      <th></th>\n",
              "      <th>Actual_res</th>\n",
              "      <th>Sentence</th>\n",
              "      <th>predicted_res_naive</th>\n",
              "      <th>predicted_svm</th>\n",
              "    </tr>\n",
              "  </thead>\n",
              "  <tbody>\n",
              "    <tr>\n",
              "      <th>0</th>\n",
              "      <td>Retain</td>\n",
              "      <td>we conservatively estimate that flows into ESG...</td>\n",
              "      <td>Retain</td>\n",
              "      <td>Retain</td>\n",
              "    </tr>\n",
              "    <tr>\n",
              "      <th>1</th>\n",
              "      <td>Review</td>\n",
              "      <td>we assure that the flows into ESG-type funds o...</td>\n",
              "      <td>Retain</td>\n",
              "      <td>Retain</td>\n",
              "    </tr>\n",
              "    <tr>\n",
              "      <th>2</th>\n",
              "      <td>Retain</td>\n",
              "      <td>Amid a rise in ESG investing, we could see a d...</td>\n",
              "      <td>Retain</td>\n",
              "      <td>Review</td>\n",
              "    </tr>\n",
              "    <tr>\n",
              "      <th>3</th>\n",
              "      <td>Review</td>\n",
              "      <td>Amid a rise in ESG investing, there is a drama...</td>\n",
              "      <td>Review</td>\n",
              "      <td>Review</td>\n",
              "    </tr>\n",
              "    <tr>\n",
              "      <th>4</th>\n",
              "      <td>Retain</td>\n",
              "      <td>our work suggests that signalling power improv...</td>\n",
              "      <td>Retain</td>\n",
              "      <td>Retain</td>\n",
              "    </tr>\n",
              "    <tr>\n",
              "      <th>5</th>\n",
              "      <td>Review</td>\n",
              "      <td>our work proves that signalling power improves...</td>\n",
              "      <td>Retain</td>\n",
              "      <td>Retain</td>\n",
              "    </tr>\n",
              "    <tr>\n",
              "      <th>6</th>\n",
              "      <td>Retain</td>\n",
              "      <td>Based on our analysis, Environmental Innovatio...</td>\n",
              "      <td>Retain</td>\n",
              "      <td>Retain</td>\n",
              "    </tr>\n",
              "    <tr>\n",
              "      <th>7</th>\n",
              "      <td>Review</td>\n",
              "      <td>Environmental Innovation (a Thomson Reuters sc...</td>\n",
              "      <td>Review</td>\n",
              "      <td>Retain</td>\n",
              "    </tr>\n",
              "    <tr>\n",
              "      <th>8</th>\n",
              "      <td>Retain</td>\n",
              "      <td>Trends in the US investment landscape indicate...</td>\n",
              "      <td>Retain</td>\n",
              "      <td>Retain</td>\n",
              "    </tr>\n",
              "    <tr>\n",
              "      <th>9</th>\n",
              "      <td>Review</td>\n",
              "      <td>Trends in the US investment landscape will mak...</td>\n",
              "      <td>Retain</td>\n",
              "      <td>Retain</td>\n",
              "    </tr>\n",
              "    <tr>\n",
              "      <th>10</th>\n",
              "      <td>Retain</td>\n",
              "      <td>Assuming an increase in wealth in the US of ar...</td>\n",
              "      <td>Retain</td>\n",
              "      <td>Retain</td>\n",
              "    </tr>\n",
              "    <tr>\n",
              "      <th>11</th>\n",
              "      <td>Review</td>\n",
              "      <td>Increase in wealth in the US of around $4tn pe...</td>\n",
              "      <td>Retain</td>\n",
              "      <td>Retain</td>\n",
              "    </tr>\n",
              "    <tr>\n",
              "      <th>12</th>\n",
              "      <td>Retain</td>\n",
              "      <td>Based on our analysis, investors would have in...</td>\n",
              "      <td>Retain</td>\n",
              "      <td>Retain</td>\n",
              "    </tr>\n",
              "    <tr>\n",
              "      <th>13</th>\n",
              "      <td>Retain</td>\n",
              "      <td>In our view, analyzing stocks using non-fundam...</td>\n",
              "      <td>Retain</td>\n",
              "      <td>Review</td>\n",
              "    </tr>\n",
              "    <tr>\n",
              "      <th>14</th>\n",
              "      <td>Retain</td>\n",
              "      <td>According to our surveys, US companies estimat...</td>\n",
              "      <td>Retain</td>\n",
              "      <td>Review</td>\n",
              "    </tr>\n",
              "    <tr>\n",
              "      <th>15</th>\n",
              "      <td>Retain</td>\n",
              "      <td>A 2016 PwC report revealed that 100% of corpor...</td>\n",
              "      <td>Retain</td>\n",
              "      <td>Retain</td>\n",
              "    </tr>\n",
              "    <tr>\n",
              "      <th>16</th>\n",
              "      <td>Retain</td>\n",
              "      <td>In our 2018 survey of institutional investors,...</td>\n",
              "      <td>Retain</td>\n",
              "      <td>Review</td>\n",
              "    </tr>\n",
              "    <tr>\n",
              "      <th>17</th>\n",
              "      <td>Retain</td>\n",
              "      <td>ESG saw a surge in popularity among our instit...</td>\n",
              "      <td>Review</td>\n",
              "      <td>Review</td>\n",
              "    </tr>\n",
              "    <tr>\n",
              "      <th>18</th>\n",
              "      <td>Review</td>\n",
              "      <td>Corporate America is waking up to ESG as it pe...</td>\n",
              "      <td>Review</td>\n",
              "      <td>Retain</td>\n",
              "    </tr>\n",
              "  </tbody>\n",
              "</table>\n",
              "</div>"
            ],
            "text/plain": [
              "   Actual_res                                           Sentence  \\\n",
              "0      Retain  we conservatively estimate that flows into ESG...   \n",
              "1      Review  we assure that the flows into ESG-type funds o...   \n",
              "2      Retain  Amid a rise in ESG investing, we could see a d...   \n",
              "3      Review  Amid a rise in ESG investing, there is a drama...   \n",
              "4      Retain  our work suggests that signalling power improv...   \n",
              "5      Review  our work proves that signalling power improves...   \n",
              "6      Retain  Based on our analysis, Environmental Innovatio...   \n",
              "7      Review  Environmental Innovation (a Thomson Reuters sc...   \n",
              "8      Retain  Trends in the US investment landscape indicate...   \n",
              "9      Review  Trends in the US investment landscape will mak...   \n",
              "10     Retain  Assuming an increase in wealth in the US of ar...   \n",
              "11     Review  Increase in wealth in the US of around $4tn pe...   \n",
              "12     Retain  Based on our analysis, investors would have in...   \n",
              "13     Retain  In our view, analyzing stocks using non-fundam...   \n",
              "14     Retain  According to our surveys, US companies estimat...   \n",
              "15     Retain  A 2016 PwC report revealed that 100% of corpor...   \n",
              "16     Retain  In our 2018 survey of institutional investors,...   \n",
              "17     Retain  ESG saw a surge in popularity among our instit...   \n",
              "18     Review  Corporate America is waking up to ESG as it pe...   \n",
              "\n",
              "   predicted_res_naive predicted_svm  \n",
              "0               Retain        Retain  \n",
              "1               Retain        Retain  \n",
              "2               Retain        Review  \n",
              "3               Review        Review  \n",
              "4               Retain        Retain  \n",
              "5               Retain        Retain  \n",
              "6               Retain        Retain  \n",
              "7               Review        Retain  \n",
              "8               Retain        Retain  \n",
              "9               Retain        Retain  \n",
              "10              Retain        Retain  \n",
              "11              Retain        Retain  \n",
              "12              Retain        Retain  \n",
              "13              Retain        Review  \n",
              "14              Retain        Review  \n",
              "15              Retain        Retain  \n",
              "16              Retain        Review  \n",
              "17              Review        Review  \n",
              "18              Review        Retain  "
            ]
          },
          "metadata": {
            "tags": []
          },
          "execution_count": 131
        }
      ]
    },
    {
      "metadata": {
        "id": "QMSZvPWiI3XT",
        "colab_type": "code",
        "colab": {
          "base_uri": "https://localhost:8080/",
          "height": 34
        },
        "outputId": "3b8d15f4-08c6-409d-e53d-f038eaba44c3"
      },
      "cell_type": "code",
      "source": [
        "test_sent = ['we conservatively estimate that flows into ESG-type funds over the next few decades could be roughly equivalent to the size of the S&P 500 today.',\n",
        "             'we assure that the flows into ESG-type funds over the next few decades could be roughly equivalent to the size of the S&P 500 today.',\n",
        "             'Amid a rise in ESG investing, we could see a dramatic re-rating in top-ranked ESG stocks.',\n",
        "             'Amid a rise in ESG investing, there is a dramatic re-rating in top-ranked ESG stocks.',\n",
        "             'our work suggests that signalling power improves with transparency.',\n",
        "             'our work proves that signalling power improves with transparency.',\n",
        "             'Based on our analysis, Environmental Innovation (a Thomson Reuters score) was a strong signal of return in Materials and Energy.',\n",
        "             'Environmental Innovation (a Thomson Reuters score) was a strong signal of return in Materials and Energy.',\n",
        "             'Trends in the US investment landscape indicate that trillions of dollars could be allocated to ESG-oriented equity investments, and thus to stocks that are attractive on ESG metrics.',\n",
        "             'Trends in the US investment landscape will make trillions of dollars to ESG-oriented equity investments, and thus to stocks that are attractive on ESG metrics.',\n",
        "             'Assuming an increase in wealth in the US of around $4tn per decade (in line with historical trends), as well as the transfer of wealth from baby boomers to millennials beginning in the late 2020s of $30-40 trillion of financial and non-financial assets, inflows could become parabolic.',\n",
        "             'Increase in wealth in the US of around $4tn per decade (in line with historical trends), as well as the transfer of wealth from baby boomers to millennials beginning in the late 2020s of $30-40 trillion of financial and non-financial assets, inflows will become parabolic.',\n",
        "             'Based on our analysis, investors would have increased their alpha by 100bps per annum if they had combined low PE with ESG, using any of the three ESG ratings data vendors we analyzed.',\n",
        "             'In our view, analyzing stocks using non-fundamental attributes might be even more important for US stocks than ever, as S&P 500 asset transparency is at an all-time low, based on the intangible assets-to-book value ratio going back to 1998.',\n",
        "             'According to our surveys, US companies estimate that less than 5% of their shares outstanding are managed by ESG-aware investors.',\n",
        "             'A 2016 PwC report revealed that 100% of corporates polled felt confident in the quality of ESG information reported, but just 29% of investors polled were confident in the quality of ESG information they were receiving.',\n",
        "             'In our 2018 survey of institutional investors, ESG factors saw the thirdbiggest increase in usage.',\n",
        "             'ESG saw a surge in popularity among our institutional clients over the past year.',\n",
        "             'Corporate America is waking up to ESG as it pertains to sustainable growth, and the role of ESG in investing is fast becoming institutionalized via regulators, indices, exchanges and consultants.']\n",
        "\n",
        "\n",
        "labelstest = [0, 1, 0, 1, 0, 1, 0, 1, 0, 1, 0, 1, 0, 0, 0, 0, 0, 0, 1]\n",
        "len(test_sent)"
      ],
      "execution_count": 53,
      "outputs": [
        {
          "output_type": "execute_result",
          "data": {
            "text/plain": [
              "19"
            ]
          },
          "metadata": {
            "tags": []
          },
          "execution_count": 53
        }
      ]
    },
    {
      "metadata": {
        "id": "idH8LQ-bJj3Q",
        "colab_type": "code",
        "colab": {
          "base_uri": "https://localhost:8080/",
          "height": 34
        },
        "outputId": "26fe53c0-93f0-4d2f-83ac-fa7152aeb635"
      },
      "cell_type": "code",
      "source": [
        ""
      ],
      "execution_count": 54,
      "outputs": [
        {
          "output_type": "execute_result",
          "data": {
            "text/plain": [
              "19"
            ]
          },
          "metadata": {
            "tags": []
          },
          "execution_count": 54
        }
      ]
    },
    {
      "metadata": {
        "id": "Stmy2lqRIv3E",
        "colab_type": "code",
        "colab": {
          "base_uri": "https://localhost:8080/",
          "height": 34
        },
        "outputId": "618114a3-deaf-4548-8e9f-8f3e6443697c"
      },
      "cell_type": "code",
      "source": [
        ""
      ],
      "execution_count": 75,
      "outputs": [
        {
          "output_type": "execute_result",
          "data": {
            "text/plain": [
              "0"
            ]
          },
          "metadata": {
            "tags": []
          },
          "execution_count": 75
        }
      ]
    },
    {
      "metadata": {
        "id": "qItxjmLXIzRP",
        "colab_type": "code",
        "colab": {
          "base_uri": "https://localhost:8080/",
          "height": 34
        },
        "outputId": "65f4d131-0399-4b64-fe22-88929bcfb0db"
      },
      "cell_type": "code",
      "source": [
        ""
      ],
      "execution_count": 78,
      "outputs": [
        {
          "output_type": "execute_result",
          "data": {
            "text/plain": [
              "0"
            ]
          },
          "metadata": {
            "tags": []
          },
          "execution_count": 78
        }
      ]
    }
  ]
}