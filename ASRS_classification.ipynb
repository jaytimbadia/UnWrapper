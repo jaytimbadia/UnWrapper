{
  "nbformat": 4,
  "nbformat_minor": 0,
  "metadata": {
    "colab": {
      "name": "ASRS classification.ipynb",
      "provenance": [],
      "mount_file_id": "1k2_nscpeUTZabpNsU6ne7sJ6wJZEZqFq",
      "authorship_tag": "ABX9TyNHBMgYvrGbAIUiXYf5si3m",
      "include_colab_link": true
    },
    "kernelspec": {
      "name": "python3",
      "display_name": "Python 3"
    },
    "accelerator": "GPU",
    "widgets": {
      "application/vnd.jupyter.widget-state+json": {
        "d5c0e957584f4827b612519ffa6301b2": {
          "model_module": "@jupyter-widgets/controls",
          "model_name": "HBoxModel",
          "state": {
            "_view_name": "HBoxView",
            "_dom_classes": [],
            "_model_name": "HBoxModel",
            "_view_module": "@jupyter-widgets/controls",
            "_model_module_version": "1.5.0",
            "_view_count": null,
            "_view_module_version": "1.5.0",
            "box_style": "",
            "layout": "IPY_MODEL_37ca7a81424f494f8a0f7d1b030647cf",
            "_model_module": "@jupyter-widgets/controls",
            "children": [
              "IPY_MODEL_58d5cfe4cb0f41239defbfcba119497f",
              "IPY_MODEL_96179f3462f84dcc909639c726dc8059"
            ]
          }
        },
        "37ca7a81424f494f8a0f7d1b030647cf": {
          "model_module": "@jupyter-widgets/base",
          "model_name": "LayoutModel",
          "state": {
            "_view_name": "LayoutView",
            "grid_template_rows": null,
            "right": null,
            "justify_content": null,
            "_view_module": "@jupyter-widgets/base",
            "overflow": null,
            "_model_module_version": "1.2.0",
            "_view_count": null,
            "flex_flow": null,
            "width": null,
            "min_width": null,
            "border": null,
            "align_items": null,
            "bottom": null,
            "_model_module": "@jupyter-widgets/base",
            "top": null,
            "grid_column": null,
            "overflow_y": null,
            "overflow_x": null,
            "grid_auto_flow": null,
            "grid_area": null,
            "grid_template_columns": null,
            "flex": null,
            "_model_name": "LayoutModel",
            "justify_items": null,
            "grid_row": null,
            "max_height": null,
            "align_content": null,
            "visibility": null,
            "align_self": null,
            "height": null,
            "min_height": null,
            "padding": null,
            "grid_auto_rows": null,
            "grid_gap": null,
            "max_width": null,
            "order": null,
            "_view_module_version": "1.2.0",
            "grid_template_areas": null,
            "object_position": null,
            "object_fit": null,
            "grid_auto_columns": null,
            "margin": null,
            "display": null,
            "left": null
          }
        },
        "58d5cfe4cb0f41239defbfcba119497f": {
          "model_module": "@jupyter-widgets/controls",
          "model_name": "FloatProgressModel",
          "state": {
            "_view_name": "ProgressView",
            "style": "IPY_MODEL_d17177d8262941b699eb9de63268ac89",
            "_dom_classes": [],
            "description": "Downloading: 100%",
            "_model_name": "FloatProgressModel",
            "bar_style": "success",
            "max": 798011,
            "_view_module": "@jupyter-widgets/controls",
            "_model_module_version": "1.5.0",
            "value": 798011,
            "_view_count": null,
            "_view_module_version": "1.5.0",
            "orientation": "horizontal",
            "min": 0,
            "description_tooltip": null,
            "_model_module": "@jupyter-widgets/controls",
            "layout": "IPY_MODEL_ae89d5ce25774f21a4ec0ae5792d4d41"
          }
        },
        "96179f3462f84dcc909639c726dc8059": {
          "model_module": "@jupyter-widgets/controls",
          "model_name": "HTMLModel",
          "state": {
            "_view_name": "HTMLView",
            "style": "IPY_MODEL_1853394880724b2e9929f5226ec7923d",
            "_dom_classes": [],
            "description": "",
            "_model_name": "HTMLModel",
            "placeholder": "​",
            "_view_module": "@jupyter-widgets/controls",
            "_model_module_version": "1.5.0",
            "value": " 798k/798k [00:49&lt;00:00, 16.3kB/s]",
            "_view_count": null,
            "_view_module_version": "1.5.0",
            "description_tooltip": null,
            "_model_module": "@jupyter-widgets/controls",
            "layout": "IPY_MODEL_22539401210c4884901daafe5be27951"
          }
        },
        "d17177d8262941b699eb9de63268ac89": {
          "model_module": "@jupyter-widgets/controls",
          "model_name": "ProgressStyleModel",
          "state": {
            "_view_name": "StyleView",
            "_model_name": "ProgressStyleModel",
            "description_width": "initial",
            "_view_module": "@jupyter-widgets/base",
            "_model_module_version": "1.5.0",
            "_view_count": null,
            "_view_module_version": "1.2.0",
            "bar_color": null,
            "_model_module": "@jupyter-widgets/controls"
          }
        },
        "ae89d5ce25774f21a4ec0ae5792d4d41": {
          "model_module": "@jupyter-widgets/base",
          "model_name": "LayoutModel",
          "state": {
            "_view_name": "LayoutView",
            "grid_template_rows": null,
            "right": null,
            "justify_content": null,
            "_view_module": "@jupyter-widgets/base",
            "overflow": null,
            "_model_module_version": "1.2.0",
            "_view_count": null,
            "flex_flow": null,
            "width": null,
            "min_width": null,
            "border": null,
            "align_items": null,
            "bottom": null,
            "_model_module": "@jupyter-widgets/base",
            "top": null,
            "grid_column": null,
            "overflow_y": null,
            "overflow_x": null,
            "grid_auto_flow": null,
            "grid_area": null,
            "grid_template_columns": null,
            "flex": null,
            "_model_name": "LayoutModel",
            "justify_items": null,
            "grid_row": null,
            "max_height": null,
            "align_content": null,
            "visibility": null,
            "align_self": null,
            "height": null,
            "min_height": null,
            "padding": null,
            "grid_auto_rows": null,
            "grid_gap": null,
            "max_width": null,
            "order": null,
            "_view_module_version": "1.2.0",
            "grid_template_areas": null,
            "object_position": null,
            "object_fit": null,
            "grid_auto_columns": null,
            "margin": null,
            "display": null,
            "left": null
          }
        },
        "1853394880724b2e9929f5226ec7923d": {
          "model_module": "@jupyter-widgets/controls",
          "model_name": "DescriptionStyleModel",
          "state": {
            "_view_name": "StyleView",
            "_model_name": "DescriptionStyleModel",
            "description_width": "",
            "_view_module": "@jupyter-widgets/base",
            "_model_module_version": "1.5.0",
            "_view_count": null,
            "_view_module_version": "1.2.0",
            "_model_module": "@jupyter-widgets/controls"
          }
        },
        "22539401210c4884901daafe5be27951": {
          "model_module": "@jupyter-widgets/base",
          "model_name": "LayoutModel",
          "state": {
            "_view_name": "LayoutView",
            "grid_template_rows": null,
            "right": null,
            "justify_content": null,
            "_view_module": "@jupyter-widgets/base",
            "overflow": null,
            "_model_module_version": "1.2.0",
            "_view_count": null,
            "flex_flow": null,
            "width": null,
            "min_width": null,
            "border": null,
            "align_items": null,
            "bottom": null,
            "_model_module": "@jupyter-widgets/base",
            "top": null,
            "grid_column": null,
            "overflow_y": null,
            "overflow_x": null,
            "grid_auto_flow": null,
            "grid_area": null,
            "grid_template_columns": null,
            "flex": null,
            "_model_name": "LayoutModel",
            "justify_items": null,
            "grid_row": null,
            "max_height": null,
            "align_content": null,
            "visibility": null,
            "align_self": null,
            "height": null,
            "min_height": null,
            "padding": null,
            "grid_auto_rows": null,
            "grid_gap": null,
            "max_width": null,
            "order": null,
            "_view_module_version": "1.2.0",
            "grid_template_areas": null,
            "object_position": null,
            "object_fit": null,
            "grid_auto_columns": null,
            "margin": null,
            "display": null,
            "left": null
          }
        },
        "2665412b59d74b238c9b088265e532b1": {
          "model_module": "@jupyter-widgets/controls",
          "model_name": "HBoxModel",
          "state": {
            "_view_name": "HBoxView",
            "_dom_classes": [],
            "_model_name": "HBoxModel",
            "_view_module": "@jupyter-widgets/controls",
            "_model_module_version": "1.5.0",
            "_view_count": null,
            "_view_module_version": "1.5.0",
            "box_style": "",
            "layout": "IPY_MODEL_80bb6824663a49729fedd80cf481eef3",
            "_model_module": "@jupyter-widgets/controls",
            "children": [
              "IPY_MODEL_59363e00f3a141ac803f808f8786af21",
              "IPY_MODEL_1813a06a1b1e432a8d06c8decfe2e470"
            ]
          }
        },
        "80bb6824663a49729fedd80cf481eef3": {
          "model_module": "@jupyter-widgets/base",
          "model_name": "LayoutModel",
          "state": {
            "_view_name": "LayoutView",
            "grid_template_rows": null,
            "right": null,
            "justify_content": null,
            "_view_module": "@jupyter-widgets/base",
            "overflow": null,
            "_model_module_version": "1.2.0",
            "_view_count": null,
            "flex_flow": null,
            "width": null,
            "min_width": null,
            "border": null,
            "align_items": null,
            "bottom": null,
            "_model_module": "@jupyter-widgets/base",
            "top": null,
            "grid_column": null,
            "overflow_y": null,
            "overflow_x": null,
            "grid_auto_flow": null,
            "grid_area": null,
            "grid_template_columns": null,
            "flex": null,
            "_model_name": "LayoutModel",
            "justify_items": null,
            "grid_row": null,
            "max_height": null,
            "align_content": null,
            "visibility": null,
            "align_self": null,
            "height": null,
            "min_height": null,
            "padding": null,
            "grid_auto_rows": null,
            "grid_gap": null,
            "max_width": null,
            "order": null,
            "_view_module_version": "1.2.0",
            "grid_template_areas": null,
            "object_position": null,
            "object_fit": null,
            "grid_auto_columns": null,
            "margin": null,
            "display": null,
            "left": null
          }
        },
        "59363e00f3a141ac803f808f8786af21": {
          "model_module": "@jupyter-widgets/controls",
          "model_name": "FloatProgressModel",
          "state": {
            "_view_name": "ProgressView",
            "style": "IPY_MODEL_02abafd3f9f3447fbdb27d275c1f1eec",
            "_dom_classes": [],
            "description": "Downloading: 100%",
            "_model_name": "FloatProgressModel",
            "bar_style": "success",
            "max": 760,
            "_view_module": "@jupyter-widgets/controls",
            "_model_module_version": "1.5.0",
            "value": 760,
            "_view_count": null,
            "_view_module_version": "1.5.0",
            "orientation": "horizontal",
            "min": 0,
            "description_tooltip": null,
            "_model_module": "@jupyter-widgets/controls",
            "layout": "IPY_MODEL_1f8dacbea60c4a308f1feeb6d95db064"
          }
        },
        "1813a06a1b1e432a8d06c8decfe2e470": {
          "model_module": "@jupyter-widgets/controls",
          "model_name": "HTMLModel",
          "state": {
            "_view_name": "HTMLView",
            "style": "IPY_MODEL_faa6b837780349539677fe23e3dec212",
            "_dom_classes": [],
            "description": "",
            "_model_name": "HTMLModel",
            "placeholder": "​",
            "_view_module": "@jupyter-widgets/controls",
            "_model_module_version": "1.5.0",
            "value": " 760/760 [00:00&lt;00:00, 4.42kB/s]",
            "_view_count": null,
            "_view_module_version": "1.5.0",
            "description_tooltip": null,
            "_model_module": "@jupyter-widgets/controls",
            "layout": "IPY_MODEL_afd146581a3842c8995e17100795c874"
          }
        },
        "02abafd3f9f3447fbdb27d275c1f1eec": {
          "model_module": "@jupyter-widgets/controls",
          "model_name": "ProgressStyleModel",
          "state": {
            "_view_name": "StyleView",
            "_model_name": "ProgressStyleModel",
            "description_width": "initial",
            "_view_module": "@jupyter-widgets/base",
            "_model_module_version": "1.5.0",
            "_view_count": null,
            "_view_module_version": "1.2.0",
            "bar_color": null,
            "_model_module": "@jupyter-widgets/controls"
          }
        },
        "1f8dacbea60c4a308f1feeb6d95db064": {
          "model_module": "@jupyter-widgets/base",
          "model_name": "LayoutModel",
          "state": {
            "_view_name": "LayoutView",
            "grid_template_rows": null,
            "right": null,
            "justify_content": null,
            "_view_module": "@jupyter-widgets/base",
            "overflow": null,
            "_model_module_version": "1.2.0",
            "_view_count": null,
            "flex_flow": null,
            "width": null,
            "min_width": null,
            "border": null,
            "align_items": null,
            "bottom": null,
            "_model_module": "@jupyter-widgets/base",
            "top": null,
            "grid_column": null,
            "overflow_y": null,
            "overflow_x": null,
            "grid_auto_flow": null,
            "grid_area": null,
            "grid_template_columns": null,
            "flex": null,
            "_model_name": "LayoutModel",
            "justify_items": null,
            "grid_row": null,
            "max_height": null,
            "align_content": null,
            "visibility": null,
            "align_self": null,
            "height": null,
            "min_height": null,
            "padding": null,
            "grid_auto_rows": null,
            "grid_gap": null,
            "max_width": null,
            "order": null,
            "_view_module_version": "1.2.0",
            "grid_template_areas": null,
            "object_position": null,
            "object_fit": null,
            "grid_auto_columns": null,
            "margin": null,
            "display": null,
            "left": null
          }
        },
        "faa6b837780349539677fe23e3dec212": {
          "model_module": "@jupyter-widgets/controls",
          "model_name": "DescriptionStyleModel",
          "state": {
            "_view_name": "StyleView",
            "_model_name": "DescriptionStyleModel",
            "description_width": "",
            "_view_module": "@jupyter-widgets/base",
            "_model_module_version": "1.5.0",
            "_view_count": null,
            "_view_module_version": "1.2.0",
            "_model_module": "@jupyter-widgets/controls"
          }
        },
        "afd146581a3842c8995e17100795c874": {
          "model_module": "@jupyter-widgets/base",
          "model_name": "LayoutModel",
          "state": {
            "_view_name": "LayoutView",
            "grid_template_rows": null,
            "right": null,
            "justify_content": null,
            "_view_module": "@jupyter-widgets/base",
            "overflow": null,
            "_model_module_version": "1.2.0",
            "_view_count": null,
            "flex_flow": null,
            "width": null,
            "min_width": null,
            "border": null,
            "align_items": null,
            "bottom": null,
            "_model_module": "@jupyter-widgets/base",
            "top": null,
            "grid_column": null,
            "overflow_y": null,
            "overflow_x": null,
            "grid_auto_flow": null,
            "grid_area": null,
            "grid_template_columns": null,
            "flex": null,
            "_model_name": "LayoutModel",
            "justify_items": null,
            "grid_row": null,
            "max_height": null,
            "align_content": null,
            "visibility": null,
            "align_self": null,
            "height": null,
            "min_height": null,
            "padding": null,
            "grid_auto_rows": null,
            "grid_gap": null,
            "max_width": null,
            "order": null,
            "_view_module_version": "1.2.0",
            "grid_template_areas": null,
            "object_position": null,
            "object_fit": null,
            "grid_auto_columns": null,
            "margin": null,
            "display": null,
            "left": null
          }
        },
        "b1416bcb2a714f9baf43a9e59ad2c391": {
          "model_module": "@jupyter-widgets/controls",
          "model_name": "HBoxModel",
          "state": {
            "_view_name": "HBoxView",
            "_dom_classes": [],
            "_model_name": "HBoxModel",
            "_view_module": "@jupyter-widgets/controls",
            "_model_module_version": "1.5.0",
            "_view_count": null,
            "_view_module_version": "1.5.0",
            "box_style": "",
            "layout": "IPY_MODEL_5fa49d36f410414b813b74e062fdb8a6",
            "_model_module": "@jupyter-widgets/controls",
            "children": [
              "IPY_MODEL_c5baf5f84fee44b7a5239e23929fd0d1",
              "IPY_MODEL_5ff7547a30294acfbe1660bfa1ec2f31"
            ]
          }
        },
        "5fa49d36f410414b813b74e062fdb8a6": {
          "model_module": "@jupyter-widgets/base",
          "model_name": "LayoutModel",
          "state": {
            "_view_name": "LayoutView",
            "grid_template_rows": null,
            "right": null,
            "justify_content": null,
            "_view_module": "@jupyter-widgets/base",
            "overflow": null,
            "_model_module_version": "1.2.0",
            "_view_count": null,
            "flex_flow": null,
            "width": null,
            "min_width": null,
            "border": null,
            "align_items": null,
            "bottom": null,
            "_model_module": "@jupyter-widgets/base",
            "top": null,
            "grid_column": null,
            "overflow_y": null,
            "overflow_x": null,
            "grid_auto_flow": null,
            "grid_area": null,
            "grid_template_columns": null,
            "flex": null,
            "_model_name": "LayoutModel",
            "justify_items": null,
            "grid_row": null,
            "max_height": null,
            "align_content": null,
            "visibility": null,
            "align_self": null,
            "height": null,
            "min_height": null,
            "padding": null,
            "grid_auto_rows": null,
            "grid_gap": null,
            "max_width": null,
            "order": null,
            "_view_module_version": "1.2.0",
            "grid_template_areas": null,
            "object_position": null,
            "object_fit": null,
            "grid_auto_columns": null,
            "margin": null,
            "display": null,
            "left": null
          }
        },
        "c5baf5f84fee44b7a5239e23929fd0d1": {
          "model_module": "@jupyter-widgets/controls",
          "model_name": "FloatProgressModel",
          "state": {
            "_view_name": "ProgressView",
            "style": "IPY_MODEL_6efa93678f6446ac99c04e87b7652813",
            "_dom_classes": [],
            "description": "Downloading: 100%",
            "_model_name": "FloatProgressModel",
            "bar_style": "success",
            "max": 467042463,
            "_view_module": "@jupyter-widgets/controls",
            "_model_module_version": "1.5.0",
            "value": 467042463,
            "_view_count": null,
            "_view_module_version": "1.5.0",
            "orientation": "horizontal",
            "min": 0,
            "description_tooltip": null,
            "_model_module": "@jupyter-widgets/controls",
            "layout": "IPY_MODEL_af6a899406474400a0cbc2cd00dfc17d"
          }
        },
        "5ff7547a30294acfbe1660bfa1ec2f31": {
          "model_module": "@jupyter-widgets/controls",
          "model_name": "HTMLModel",
          "state": {
            "_view_name": "HTMLView",
            "style": "IPY_MODEL_dff2cbe3d14d424ca5d863c8f59e74c9",
            "_dom_classes": [],
            "description": "",
            "_model_name": "HTMLModel",
            "placeholder": "​",
            "_view_module": "@jupyter-widgets/controls",
            "_model_module_version": "1.5.0",
            "value": " 467M/467M [00:16&lt;00:00, 28.8MB/s]",
            "_view_count": null,
            "_view_module_version": "1.5.0",
            "description_tooltip": null,
            "_model_module": "@jupyter-widgets/controls",
            "layout": "IPY_MODEL_03ea15758e0945029565e88b5187d369"
          }
        },
        "6efa93678f6446ac99c04e87b7652813": {
          "model_module": "@jupyter-widgets/controls",
          "model_name": "ProgressStyleModel",
          "state": {
            "_view_name": "StyleView",
            "_model_name": "ProgressStyleModel",
            "description_width": "initial",
            "_view_module": "@jupyter-widgets/base",
            "_model_module_version": "1.5.0",
            "_view_count": null,
            "_view_module_version": "1.2.0",
            "bar_color": null,
            "_model_module": "@jupyter-widgets/controls"
          }
        },
        "af6a899406474400a0cbc2cd00dfc17d": {
          "model_module": "@jupyter-widgets/base",
          "model_name": "LayoutModel",
          "state": {
            "_view_name": "LayoutView",
            "grid_template_rows": null,
            "right": null,
            "justify_content": null,
            "_view_module": "@jupyter-widgets/base",
            "overflow": null,
            "_model_module_version": "1.2.0",
            "_view_count": null,
            "flex_flow": null,
            "width": null,
            "min_width": null,
            "border": null,
            "align_items": null,
            "bottom": null,
            "_model_module": "@jupyter-widgets/base",
            "top": null,
            "grid_column": null,
            "overflow_y": null,
            "overflow_x": null,
            "grid_auto_flow": null,
            "grid_area": null,
            "grid_template_columns": null,
            "flex": null,
            "_model_name": "LayoutModel",
            "justify_items": null,
            "grid_row": null,
            "max_height": null,
            "align_content": null,
            "visibility": null,
            "align_self": null,
            "height": null,
            "min_height": null,
            "padding": null,
            "grid_auto_rows": null,
            "grid_gap": null,
            "max_width": null,
            "order": null,
            "_view_module_version": "1.2.0",
            "grid_template_areas": null,
            "object_position": null,
            "object_fit": null,
            "grid_auto_columns": null,
            "margin": null,
            "display": null,
            "left": null
          }
        },
        "dff2cbe3d14d424ca5d863c8f59e74c9": {
          "model_module": "@jupyter-widgets/controls",
          "model_name": "DescriptionStyleModel",
          "state": {
            "_view_name": "StyleView",
            "_model_name": "DescriptionStyleModel",
            "description_width": "",
            "_view_module": "@jupyter-widgets/base",
            "_model_module_version": "1.5.0",
            "_view_count": null,
            "_view_module_version": "1.2.0",
            "_model_module": "@jupyter-widgets/controls"
          }
        },
        "03ea15758e0945029565e88b5187d369": {
          "model_module": "@jupyter-widgets/base",
          "model_name": "LayoutModel",
          "state": {
            "_view_name": "LayoutView",
            "grid_template_rows": null,
            "right": null,
            "justify_content": null,
            "_view_module": "@jupyter-widgets/base",
            "overflow": null,
            "_model_module_version": "1.2.0",
            "_view_count": null,
            "flex_flow": null,
            "width": null,
            "min_width": null,
            "border": null,
            "align_items": null,
            "bottom": null,
            "_model_module": "@jupyter-widgets/base",
            "top": null,
            "grid_column": null,
            "overflow_y": null,
            "overflow_x": null,
            "grid_auto_flow": null,
            "grid_area": null,
            "grid_template_columns": null,
            "flex": null,
            "_model_name": "LayoutModel",
            "justify_items": null,
            "grid_row": null,
            "max_height": null,
            "align_content": null,
            "visibility": null,
            "align_self": null,
            "height": null,
            "min_height": null,
            "padding": null,
            "grid_auto_rows": null,
            "grid_gap": null,
            "max_width": null,
            "order": null,
            "_view_module_version": "1.2.0",
            "grid_template_areas": null,
            "object_position": null,
            "object_fit": null,
            "grid_auto_columns": null,
            "margin": null,
            "display": null,
            "left": null
          }
        }
      }
    }
  },
  "cells": [
    {
      "cell_type": "markdown",
      "metadata": {
        "id": "view-in-github",
        "colab_type": "text"
      },
      "source": [
        "<a href=\"https://colab.research.google.com/github/jaytimbadia/UnWrapper/blob/master/ASRS_classification.ipynb\" target=\"_parent\"><img src=\"https://colab.research.google.com/assets/colab-badge.svg\" alt=\"Open In Colab\"/></a>"
      ]
    },
    {
      "cell_type": "code",
      "metadata": {
        "colab": {
          "base_uri": "https://localhost:8080/"
        },
        "id": "PS6tZPX8IkLc",
        "outputId": "c8d8c99a-af79-406b-fc92-20c5ab279577"
      },
      "source": [
        "!pip install sentencepiece\r\n",
        "!pip install transformers"
      ],
      "execution_count": 1,
      "outputs": [
        {
          "output_type": "stream",
          "text": [
            "Collecting sentencepiece\n",
            "\u001b[?25l  Downloading https://files.pythonhosted.org/packages/e5/2d/6d4ca4bef9a67070fa1cac508606328329152b1df10bdf31fb6e4e727894/sentencepiece-0.1.94-cp36-cp36m-manylinux2014_x86_64.whl (1.1MB)\n",
            "\r\u001b[K     |▎                               | 10kB 24.6MB/s eta 0:00:01\r\u001b[K     |▋                               | 20kB 30.8MB/s eta 0:00:01\r\u001b[K     |▉                               | 30kB 21.7MB/s eta 0:00:01\r\u001b[K     |█▏                              | 40kB 16.6MB/s eta 0:00:01\r\u001b[K     |█▌                              | 51kB 13.3MB/s eta 0:00:01\r\u001b[K     |█▊                              | 61kB 13.3MB/s eta 0:00:01\r\u001b[K     |██                              | 71kB 14.0MB/s eta 0:00:01\r\u001b[K     |██▍                             | 81kB 13.9MB/s eta 0:00:01\r\u001b[K     |██▋                             | 92kB 13.2MB/s eta 0:00:01\r\u001b[K     |███                             | 102kB 13.6MB/s eta 0:00:01\r\u001b[K     |███▎                            | 112kB 13.6MB/s eta 0:00:01\r\u001b[K     |███▌                            | 122kB 13.6MB/s eta 0:00:01\r\u001b[K     |███▉                            | 133kB 13.6MB/s eta 0:00:01\r\u001b[K     |████▏                           | 143kB 13.6MB/s eta 0:00:01\r\u001b[K     |████▍                           | 153kB 13.6MB/s eta 0:00:01\r\u001b[K     |████▊                           | 163kB 13.6MB/s eta 0:00:01\r\u001b[K     |█████                           | 174kB 13.6MB/s eta 0:00:01\r\u001b[K     |█████▎                          | 184kB 13.6MB/s eta 0:00:01\r\u001b[K     |█████▋                          | 194kB 13.6MB/s eta 0:00:01\r\u001b[K     |█████▉                          | 204kB 13.6MB/s eta 0:00:01\r\u001b[K     |██████▏                         | 215kB 13.6MB/s eta 0:00:01\r\u001b[K     |██████▌                         | 225kB 13.6MB/s eta 0:00:01\r\u001b[K     |██████▊                         | 235kB 13.6MB/s eta 0:00:01\r\u001b[K     |███████                         | 245kB 13.6MB/s eta 0:00:01\r\u001b[K     |███████▍                        | 256kB 13.6MB/s eta 0:00:01\r\u001b[K     |███████▋                        | 266kB 13.6MB/s eta 0:00:01\r\u001b[K     |████████                        | 276kB 13.6MB/s eta 0:00:01\r\u001b[K     |████████▎                       | 286kB 13.6MB/s eta 0:00:01\r\u001b[K     |████████▌                       | 296kB 13.6MB/s eta 0:00:01\r\u001b[K     |████████▉                       | 307kB 13.6MB/s eta 0:00:01\r\u001b[K     |█████████                       | 317kB 13.6MB/s eta 0:00:01\r\u001b[K     |█████████▍                      | 327kB 13.6MB/s eta 0:00:01\r\u001b[K     |█████████▊                      | 337kB 13.6MB/s eta 0:00:01\r\u001b[K     |██████████                      | 348kB 13.6MB/s eta 0:00:01\r\u001b[K     |██████████▎                     | 358kB 13.6MB/s eta 0:00:01\r\u001b[K     |██████████▋                     | 368kB 13.6MB/s eta 0:00:01\r\u001b[K     |██████████▉                     | 378kB 13.6MB/s eta 0:00:01\r\u001b[K     |███████████▏                    | 389kB 13.6MB/s eta 0:00:01\r\u001b[K     |███████████▌                    | 399kB 13.6MB/s eta 0:00:01\r\u001b[K     |███████████▊                    | 409kB 13.6MB/s eta 0:00:01\r\u001b[K     |████████████                    | 419kB 13.6MB/s eta 0:00:01\r\u001b[K     |████████████▍                   | 430kB 13.6MB/s eta 0:00:01\r\u001b[K     |████████████▋                   | 440kB 13.6MB/s eta 0:00:01\r\u001b[K     |█████████████                   | 450kB 13.6MB/s eta 0:00:01\r\u001b[K     |█████████████▎                  | 460kB 13.6MB/s eta 0:00:01\r\u001b[K     |█████████████▌                  | 471kB 13.6MB/s eta 0:00:01\r\u001b[K     |█████████████▉                  | 481kB 13.6MB/s eta 0:00:01\r\u001b[K     |██████████████                  | 491kB 13.6MB/s eta 0:00:01\r\u001b[K     |██████████████▍                 | 501kB 13.6MB/s eta 0:00:01\r\u001b[K     |██████████████▊                 | 512kB 13.6MB/s eta 0:00:01\r\u001b[K     |███████████████                 | 522kB 13.6MB/s eta 0:00:01\r\u001b[K     |███████████████▎                | 532kB 13.6MB/s eta 0:00:01\r\u001b[K     |███████████████▋                | 542kB 13.6MB/s eta 0:00:01\r\u001b[K     |███████████████▉                | 552kB 13.6MB/s eta 0:00:01\r\u001b[K     |████████████████▏               | 563kB 13.6MB/s eta 0:00:01\r\u001b[K     |████████████████▌               | 573kB 13.6MB/s eta 0:00:01\r\u001b[K     |████████████████▊               | 583kB 13.6MB/s eta 0:00:01\r\u001b[K     |█████████████████               | 593kB 13.6MB/s eta 0:00:01\r\u001b[K     |█████████████████▍              | 604kB 13.6MB/s eta 0:00:01\r\u001b[K     |█████████████████▋              | 614kB 13.6MB/s eta 0:00:01\r\u001b[K     |██████████████████              | 624kB 13.6MB/s eta 0:00:01\r\u001b[K     |██████████████████▏             | 634kB 13.6MB/s eta 0:00:01\r\u001b[K     |██████████████████▌             | 645kB 13.6MB/s eta 0:00:01\r\u001b[K     |██████████████████▉             | 655kB 13.6MB/s eta 0:00:01\r\u001b[K     |███████████████████             | 665kB 13.6MB/s eta 0:00:01\r\u001b[K     |███████████████████▍            | 675kB 13.6MB/s eta 0:00:01\r\u001b[K     |███████████████████▊            | 686kB 13.6MB/s eta 0:00:01\r\u001b[K     |████████████████████            | 696kB 13.6MB/s eta 0:00:01\r\u001b[K     |████████████████████▎           | 706kB 13.6MB/s eta 0:00:01\r\u001b[K     |████████████████████▋           | 716kB 13.6MB/s eta 0:00:01\r\u001b[K     |████████████████████▉           | 727kB 13.6MB/s eta 0:00:01\r\u001b[K     |█████████████████████▏          | 737kB 13.6MB/s eta 0:00:01\r\u001b[K     |█████████████████████▌          | 747kB 13.6MB/s eta 0:00:01\r\u001b[K     |█████████████████████▊          | 757kB 13.6MB/s eta 0:00:01\r\u001b[K     |██████████████████████          | 768kB 13.6MB/s eta 0:00:01\r\u001b[K     |██████████████████████▎         | 778kB 13.6MB/s eta 0:00:01\r\u001b[K     |██████████████████████▋         | 788kB 13.6MB/s eta 0:00:01\r\u001b[K     |███████████████████████         | 798kB 13.6MB/s eta 0:00:01\r\u001b[K     |███████████████████████▏        | 808kB 13.6MB/s eta 0:00:01\r\u001b[K     |███████████████████████▌        | 819kB 13.6MB/s eta 0:00:01\r\u001b[K     |███████████████████████▉        | 829kB 13.6MB/s eta 0:00:01\r\u001b[K     |████████████████████████        | 839kB 13.6MB/s eta 0:00:01\r\u001b[K     |████████████████████████▍       | 849kB 13.6MB/s eta 0:00:01\r\u001b[K     |████████████████████████▊       | 860kB 13.6MB/s eta 0:00:01\r\u001b[K     |█████████████████████████       | 870kB 13.6MB/s eta 0:00:01\r\u001b[K     |█████████████████████████▎      | 880kB 13.6MB/s eta 0:00:01\r\u001b[K     |█████████████████████████▋      | 890kB 13.6MB/s eta 0:00:01\r\u001b[K     |█████████████████████████▉      | 901kB 13.6MB/s eta 0:00:01\r\u001b[K     |██████████████████████████▏     | 911kB 13.6MB/s eta 0:00:01\r\u001b[K     |██████████████████████████▌     | 921kB 13.6MB/s eta 0:00:01\r\u001b[K     |██████████████████████████▊     | 931kB 13.6MB/s eta 0:00:01\r\u001b[K     |███████████████████████████     | 942kB 13.6MB/s eta 0:00:01\r\u001b[K     |███████████████████████████▎    | 952kB 13.6MB/s eta 0:00:01\r\u001b[K     |███████████████████████████▋    | 962kB 13.6MB/s eta 0:00:01\r\u001b[K     |████████████████████████████    | 972kB 13.6MB/s eta 0:00:01\r\u001b[K     |████████████████████████████▏   | 983kB 13.6MB/s eta 0:00:01\r\u001b[K     |████████████████████████████▌   | 993kB 13.6MB/s eta 0:00:01\r\u001b[K     |████████████████████████████▉   | 1.0MB 13.6MB/s eta 0:00:01\r\u001b[K     |█████████████████████████████   | 1.0MB 13.6MB/s eta 0:00:01\r\u001b[K     |█████████████████████████████▍  | 1.0MB 13.6MB/s eta 0:00:01\r\u001b[K     |█████████████████████████████▊  | 1.0MB 13.6MB/s eta 0:00:01\r\u001b[K     |██████████████████████████████  | 1.0MB 13.6MB/s eta 0:00:01\r\u001b[K     |██████████████████████████████▎ | 1.1MB 13.6MB/s eta 0:00:01\r\u001b[K     |██████████████████████████████▋ | 1.1MB 13.6MB/s eta 0:00:01\r\u001b[K     |██████████████████████████████▉ | 1.1MB 13.6MB/s eta 0:00:01\r\u001b[K     |███████████████████████████████▏| 1.1MB 13.6MB/s eta 0:00:01\r\u001b[K     |███████████████████████████████▍| 1.1MB 13.6MB/s eta 0:00:01\r\u001b[K     |███████████████████████████████▊| 1.1MB 13.6MB/s eta 0:00:01\r\u001b[K     |████████████████████████████████| 1.1MB 13.6MB/s \n",
            "\u001b[?25hInstalling collected packages: sentencepiece\n",
            "Successfully installed sentencepiece-0.1.94\n",
            "Collecting transformers\n",
            "\u001b[?25l  Downloading https://files.pythonhosted.org/packages/50/0c/7d5950fcd80b029be0a8891727ba21e0cd27692c407c51261c3c921f6da3/transformers-4.1.1-py3-none-any.whl (1.5MB)\n",
            "\u001b[K     |████████████████████████████████| 1.5MB 13.9MB/s \n",
            "\u001b[?25hCollecting tokenizers==0.9.4\n",
            "\u001b[?25l  Downloading https://files.pythonhosted.org/packages/0f/1c/e789a8b12e28be5bc1ce2156cf87cb522b379be9cadc7ad8091a4cc107c4/tokenizers-0.9.4-cp36-cp36m-manylinux2010_x86_64.whl (2.9MB)\n",
            "\u001b[K     |████████████████████████████████| 2.9MB 56.8MB/s \n",
            "\u001b[?25hRequirement already satisfied: packaging in /usr/local/lib/python3.6/dist-packages (from transformers) (20.8)\n",
            "Requirement already satisfied: filelock in /usr/local/lib/python3.6/dist-packages (from transformers) (3.0.12)\n",
            "Requirement already satisfied: tqdm>=4.27 in /usr/local/lib/python3.6/dist-packages (from transformers) (4.41.1)\n",
            "Requirement already satisfied: dataclasses; python_version < \"3.7\" in /usr/local/lib/python3.6/dist-packages (from transformers) (0.8)\n",
            "Collecting sacremoses\n",
            "\u001b[?25l  Downloading https://files.pythonhosted.org/packages/7d/34/09d19aff26edcc8eb2a01bed8e98f13a1537005d31e95233fd48216eed10/sacremoses-0.0.43.tar.gz (883kB)\n",
            "\u001b[K     |████████████████████████████████| 890kB 60.6MB/s \n",
            "\u001b[?25hRequirement already satisfied: regex!=2019.12.17 in /usr/local/lib/python3.6/dist-packages (from transformers) (2019.12.20)\n",
            "Requirement already satisfied: numpy in /usr/local/lib/python3.6/dist-packages (from transformers) (1.19.4)\n",
            "Requirement already satisfied: requests in /usr/local/lib/python3.6/dist-packages (from transformers) (2.23.0)\n",
            "Requirement already satisfied: pyparsing>=2.0.2 in /usr/local/lib/python3.6/dist-packages (from packaging->transformers) (2.4.7)\n",
            "Requirement already satisfied: six in /usr/local/lib/python3.6/dist-packages (from sacremoses->transformers) (1.15.0)\n",
            "Requirement already satisfied: click in /usr/local/lib/python3.6/dist-packages (from sacremoses->transformers) (7.1.2)\n",
            "Requirement already satisfied: joblib in /usr/local/lib/python3.6/dist-packages (from sacremoses->transformers) (1.0.0)\n",
            "Requirement already satisfied: certifi>=2017.4.17 in /usr/local/lib/python3.6/dist-packages (from requests->transformers) (2020.12.5)\n",
            "Requirement already satisfied: urllib3!=1.25.0,!=1.25.1,<1.26,>=1.21.1 in /usr/local/lib/python3.6/dist-packages (from requests->transformers) (1.24.3)\n",
            "Requirement already satisfied: chardet<4,>=3.0.2 in /usr/local/lib/python3.6/dist-packages (from requests->transformers) (3.0.4)\n",
            "Requirement already satisfied: idna<3,>=2.5 in /usr/local/lib/python3.6/dist-packages (from requests->transformers) (2.10)\n",
            "Building wheels for collected packages: sacremoses\n",
            "  Building wheel for sacremoses (setup.py) ... \u001b[?25l\u001b[?25hdone\n",
            "  Created wheel for sacremoses: filename=sacremoses-0.0.43-cp36-none-any.whl size=893261 sha256=38a3c90dc714cb69494cf604b3d856eb7946465eb8c364f6198dbcfd57018855\n",
            "  Stored in directory: /root/.cache/pip/wheels/29/3c/fd/7ce5c3f0666dab31a50123635e6fb5e19ceb42ce38d4e58f45\n",
            "Successfully built sacremoses\n",
            "Installing collected packages: tokenizers, sacremoses, transformers\n",
            "Successfully installed sacremoses-0.0.43 tokenizers-0.9.4 transformers-4.1.1\n"
          ],
          "name": "stdout"
        }
      ]
    },
    {
      "cell_type": "code",
      "metadata": {
        "colab": {
          "base_uri": "https://localhost:8080/"
        },
        "id": "afF7QX7L36T3",
        "outputId": "7696e770-7436-4372-8d52-e38e1f83d609"
      },
      "source": [
        "import json\r\n",
        "import pandas as pd\r\n",
        "import nltk\r\n",
        "nltk.download('stopwords')\r\n",
        "from nltk.corpus import stopwords\r\n",
        "import re\r\n",
        "from keras.preprocessing.sequence import pad_sequences\r\n",
        "from sklearn.model_selection import train_test_split\r\n",
        "import matplotlib.pyplot as plt\r\n",
        "import math\r\n",
        "import numpy as np\r\n",
        "from transformers import AdamW, XLNetTokenizer, XLNetModel, XLNetLMHeadModel, XLNetConfig\r\n",
        "import torch\r\n",
        "from torch.nn import BCEWithLogitsLoss\r\n",
        "from torch.utils.data import TensorDataset, DataLoader, RandomSampler, SequentialSampler\r\n",
        "import os"
      ],
      "execution_count": 2,
      "outputs": [
        {
          "output_type": "stream",
          "text": [
            "[nltk_data] Downloading package stopwords to /root/nltk_data...\n",
            "[nltk_data]   Unzipping corpora/stopwords.zip.\n"
          ],
          "name": "stdout"
        }
      ]
    },
    {
      "cell_type": "code",
      "metadata": {
        "colab": {
          "base_uri": "https://localhost:8080/"
        },
        "id": "pyfKstsIInK5",
        "outputId": "adc7cd61-8b15-46b9-91de-96dfdc18ca66"
      },
      "source": [
        "# Loading training and testing data json\r\n",
        "\r\n",
        "with open('drive/MyDrive/data/train.json', 'r') as f:\r\n",
        "    input_data = json.load(f)\r\n",
        "\r\n",
        "with open('drive/MyDrive/data/test.json', 'r') as f1:\r\n",
        "    testing_data = json.load(f1)\r\n",
        "\r\n",
        "train_labels = pd.read_csv('drive/MyDrive/data/training_labels.csv', header=None)\r\n",
        "\r\n",
        "train_data = pd.DataFrame(input_data)\r\n",
        "test_data = pd.DataFrame(testing_data)\r\n",
        "\r\n",
        "print('Number of data points in train text : ', train_data.shape[0])\r\n",
        "print('Number of features in train text: ', train_data.shape[1])\r\n",
        "print(\"Shape of train labels : \", train_labels.shape)"
      ],
      "execution_count": 3,
      "outputs": [
        {
          "output_type": "stream",
          "text": [
            "Number of data points in train text :  21519\n",
            "Number of features in train text:  2\n",
            "Shape of train labels :  (21519, 22)\n"
          ],
          "name": "stdout"
        }
      ]
    },
    {
      "cell_type": "code",
      "metadata": {
        "id": "AqPz4RIXIzaD"
      },
      "source": [
        "# converting -1 label to 0 since we use sigmoid for multilabel instead of softmax and it lies in 0 to 1\r\n",
        "train_labels = train_labels.applymap(lambda x: 0 if x<0 else 1)"
      ],
      "execution_count": 4,
      "outputs": []
    },
    {
      "cell_type": "code",
      "metadata": {
        "id": "R-Fp9gtwI4cF"
      },
      "source": [
        "stop_words = set(stopwords.words('english'))\r\n",
        "\r\n",
        "def preprocess(total_text, use_stopwords=False):\r\n",
        "    if type(total_text) is not int:\r\n",
        "        string = \"\"\r\n",
        "        # replace every special char with space\r\n",
        "        total_text = re.sub('[^a-zA-Z0-9\\n]', ' ', str(total_text))\r\n",
        "        # replace multiple spaces with single space\r\n",
        "        total_text = re.sub('\\s+',' ', str(total_text))\r\n",
        "        # converting all the chars into lower-case.\r\n",
        "        total_text = total_text.lower()\r\n",
        "        \r\n",
        "        if use_stopwords:\r\n",
        "            for word in total_text.split():\r\n",
        "            # if the word is a not a stop word then retain that word from the data\r\n",
        "                if not word in stop_words:\r\n",
        "                    string += word + \" \"\r\n",
        "        \r\n",
        "            return string\r\n",
        "        else:\r\n",
        "            return total_text\r\n",
        "\r\n",
        "train_data['cleaned_text'] = train_data.apply(lambda row: preprocess(row['text'], False), axis=1)\r\n",
        "test_data['cleaned_text'] = test_data.apply(lambda row: preprocess(row['text'], False), axis=1)"
      ],
      "execution_count": 5,
      "outputs": []
    },
    {
      "cell_type": "code",
      "metadata": {
        "colab": {
          "base_uri": "https://localhost:8080/",
          "height": 66,
          "referenced_widgets": [
            "d5c0e957584f4827b612519ffa6301b2",
            "37ca7a81424f494f8a0f7d1b030647cf",
            "58d5cfe4cb0f41239defbfcba119497f",
            "96179f3462f84dcc909639c726dc8059",
            "d17177d8262941b699eb9de63268ac89",
            "ae89d5ce25774f21a4ec0ae5792d4d41",
            "1853394880724b2e9929f5226ec7923d",
            "22539401210c4884901daafe5be27951"
          ]
        },
        "id": "SxXV0r82I_1u",
        "outputId": "2ded51f1-2f65-4cd2-9801-2ec32e98710e"
      },
      "source": [
        "tokenizer = XLNetTokenizer.from_pretrained('xlnet-base-cased', do_lower_case=True)"
      ],
      "execution_count": 6,
      "outputs": [
        {
          "output_type": "display_data",
          "data": {
            "application/vnd.jupyter.widget-view+json": {
              "model_id": "d5c0e957584f4827b612519ffa6301b2",
              "version_minor": 0,
              "version_major": 2
            },
            "text/plain": [
              "HBox(children=(FloatProgress(value=0.0, description='Downloading', max=798011.0, style=ProgressStyle(descripti…"
            ]
          },
          "metadata": {
            "tags": []
          }
        },
        {
          "output_type": "stream",
          "text": [
            "\n"
          ],
          "name": "stdout"
        }
      ]
    },
    {
      "cell_type": "code",
      "metadata": {
        "id": "hGHYakZNL7nD"
      },
      "source": [
        "train_text_list = train_data[\"cleaned_text\"].values\r\n",
        "test_text_list = test_data[\"cleaned_text\"].values"
      ],
      "execution_count": 7,
      "outputs": []
    },
    {
      "cell_type": "code",
      "metadata": {
        "id": "xc2sCmNB6ott"
      },
      "source": [
        "# embedding size determination\r\n",
        "text_length = []\r\n",
        "for i in (train_text_list):\r\n",
        "    if 100 < len(i.split()) < 700:\r\n",
        "        text_length.append(len(i.split()))\r\n",
        "\r\n",
        "print(np.mean(text_length))\r\n",
        "plt.hist(text_length)"
      ],
      "execution_count": 16,
      "outputs": []
    },
    {
      "cell_type": "code",
      "metadata": {
        "id": "6RiNsz6GPJNL"
      },
      "source": [
        "def tokenize_inputs(text_list, tokenizer, num_embeddings=512):\r\n",
        "    \"\"\"\r\n",
        "    Tokenizes the input text input into ids. Appends the appropriate special\r\n",
        "    characters to the end of the text to denote end of sentence. Truncate or pad\r\n",
        "    the appropriate sequence length.\r\n",
        "    \"\"\"\r\n",
        "    # tokenize the text, then truncate sequence to the desired length minus 2 for\r\n",
        "    # the 2 special characters\r\n",
        "    tokenized_texts = list(map(lambda t: tokenizer.tokenize(t)[:num_embeddings-2], text_list))\r\n",
        "    # convert tokenized text into numeric ids for the appropriate LM\r\n",
        "    input_ids = [tokenizer.convert_tokens_to_ids(x) for x in tokenized_texts]\r\n",
        "    # append special token \"<s>\" and </s> to end of sentence\r\n",
        "    input_ids = [tokenizer.build_inputs_with_special_tokens(x) for x in input_ids]\r\n",
        "    # pad sequences\r\n",
        "    input_ids = pad_sequences(input_ids, maxlen=num_embeddings, dtype=\"long\", truncating=\"post\", padding=\"post\")\r\n",
        "    return input_ids\r\n",
        "\r\n",
        "def create_attn_masks(input_ids):\r\n",
        "    \"\"\"\r\n",
        "    Create attention masks to tell model whether attention should be applied to\r\n",
        "    the input id tokens. Do not want to perform attention on padding tokens.\r\n",
        "    \"\"\"\r\n",
        "    # Create attention masks\r\n",
        "    attention_masks = []\r\n",
        "\r\n",
        "    # Create a mask of 1s for each token followed by 0s for padding\r\n",
        "    for seq in input_ids:\r\n",
        "        seq_mask = [float(i>0) for i in seq]\r\n",
        "        attention_masks.append(seq_mask)\r\n",
        "    return attention_masks"
      ],
      "execution_count": 8,
      "outputs": []
    },
    {
      "cell_type": "code",
      "metadata": {
        "id": "zfyKz5qzMnNc"
      },
      "source": [
        "# truncating seq between 100 and 700 since others are less in numbers and can act as an outlier.\r\n",
        "v= []\r\n",
        "v_tst = []\r\n",
        "filtered_labels = []\r\n",
        "list_labels = train_labels.values\r\n",
        "for i, j in zip(train_text_list, list_labels):\r\n",
        "    if 100 < len(i.split()) < 700:\r\n",
        "        v.append(i)\r\n",
        "        filtered_labels.append(j)\r\n",
        "\r\n",
        "for k in test_text_list:\r\n",
        "    if 100 < len(k.split()) < 700:\r\n",
        "        v_tst.append(k)        "
      ],
      "execution_count": 9,
      "outputs": []
    },
    {
      "cell_type": "code",
      "metadata": {
        "id": "w276cf9LNZQ4"
      },
      "source": [
        "# converting to dataframe\r\n",
        "train_df = pd.DataFrame(v)\r\n",
        "train_df = train_df.rename(columns={0: \"raw_text\"})\r\n",
        "\r\n",
        "test_df = pd.DataFrame(v_tst)\r\n",
        "test_df = test_df.rename(columns={0: \"raw_text\"})"
      ],
      "execution_count": 10,
      "outputs": []
    },
    {
      "cell_type": "code",
      "metadata": {
        "id": "8U1j_AmDOrZ1"
      },
      "source": [
        "train_text_list_ = train_df[\"raw_text\"].values\r\n",
        "test_text_list_ = test_df[\"raw_text\"].values"
      ],
      "execution_count": 11,
      "outputs": []
    },
    {
      "cell_type": "code",
      "metadata": {
        "id": "KsJXD0rYNkT8"
      },
      "source": [
        "train_input_ids = tokenize_inputs(train_text_list_, tokenizer, num_embeddings=250)\r\n",
        "test_input_ids = tokenize_inputs(test_text_list_, tokenizer, num_embeddings=250)\r\n",
        "train_attention_masks = create_attn_masks(train_input_ids)\r\n",
        "test_attention_masks = create_attn_masks(test_input_ids)"
      ],
      "execution_count": 12,
      "outputs": []
    },
    {
      "cell_type": "code",
      "metadata": {
        "id": "1XDxeuquO6bm"
      },
      "source": [
        "# add input ids and attention masks to the dataframe\r\n",
        "train_df[\"features\"] = train_input_ids.tolist()\r\n",
        "train_df[\"masks\"] = train_attention_masks\r\n",
        "\r\n",
        "test_df[\"features\"] = test_input_ids.tolist()\r\n",
        "test_df[\"masks\"] = test_attention_masks"
      ],
      "execution_count": 15,
      "outputs": []
    },
    {
      "cell_type": "code",
      "metadata": {
        "id": "OFfKONAOaMEa"
      },
      "source": [
        "filtered_labels = np.array(filtered_labels)"
      ],
      "execution_count": 16,
      "outputs": []
    },
    {
      "cell_type": "code",
      "metadata": {
        "id": "PIXq2GjAPq9K"
      },
      "source": [
        "train, valid, y_train, y_val = train_test_split(train_df, filtered_labels, test_size=0.2, random_state=42)"
      ],
      "execution_count": 17,
      "outputs": []
    },
    {
      "cell_type": "code",
      "metadata": {
        "colab": {
          "base_uri": "https://localhost:8080/"
        },
        "id": "VFd7wVYIZwcr",
        "outputId": "74f7cb15-36bc-4428-b1c6-367865f586f0"
      },
      "source": [
        "y_train.shape"
      ],
      "execution_count": 18,
      "outputs": [
        {
          "output_type": "execute_result",
          "data": {
            "text/plain": [
              "(12692, 22)"
            ]
          },
          "metadata": {
            "tags": []
          },
          "execution_count": 18
        }
      ]
    },
    {
      "cell_type": "code",
      "metadata": {
        "id": "XDrxM8NQaU_K"
      },
      "source": [
        "X_train = train[\"features\"].values.tolist()\r\n",
        "X_valid = valid[\"features\"].values.tolist()\r\n",
        "\r\n",
        "train_masks = train[\"masks\"].values.tolist()\r\n",
        "valid_masks = valid[\"masks\"].values.tolist()\r\n",
        "\r\n",
        "Y_train = y_train.tolist()\r\n",
        "Y_valid = y_val.tolist()"
      ],
      "execution_count": 19,
      "outputs": []
    },
    {
      "cell_type": "code",
      "metadata": {
        "id": "GzqEu1iVa4k7"
      },
      "source": [
        "X_train = torch.tensor(X_train)\r\n",
        "X_valid = torch.tensor(X_valid)\r\n",
        "\r\n",
        "Y_train = torch.tensor(Y_train, dtype=torch.float32)\r\n",
        "Y_valid = torch.tensor(Y_valid, dtype=torch.float32)\r\n",
        "\r\n",
        "train_masks = torch.tensor(train_masks, dtype=torch.long)\r\n",
        "valid_masks = torch.tensor(valid_masks, dtype=torch.long)"
      ],
      "execution_count": 20,
      "outputs": []
    },
    {
      "cell_type": "code",
      "metadata": {
        "id": "te6CbqBybb4O"
      },
      "source": [
        "batch_size = 16\r\n",
        "\r\n",
        "# Create an iterator of our data with torch DataLoader. This helps save on \r\n",
        "# memory during training because, unlike a for loop, \r\n",
        "# with an iterator the entire dataset does not need to be loaded into memory\r\n",
        "\r\n",
        "train_data = TensorDataset(X_train, train_masks, Y_train)\r\n",
        "train_sampler = RandomSampler(train_data)\r\n",
        "train_dataloader = DataLoader(train_data,\\\r\n",
        "                              sampler=train_sampler,\\\r\n",
        "                              batch_size=batch_size)\r\n",
        "\r\n",
        "validation_data = TensorDataset(X_valid, valid_masks, Y_valid)\r\n",
        "validation_sampler = SequentialSampler(validation_data)\r\n",
        "validation_dataloader = DataLoader(validation_data,\\\r\n",
        "                                   sampler=validation_sampler,\\\r\n",
        "                                   batch_size=batch_size)"
      ],
      "execution_count": 21,
      "outputs": []
    },
    {
      "cell_type": "code",
      "metadata": {
        "id": "WQ-7HK2abikT"
      },
      "source": [
        "def train(model, num_epochs,\\\r\n",
        "          optimizer,\\\r\n",
        "          train_dataloader, valid_dataloader,\\\r\n",
        "          model_save_path,\\\r\n",
        "          train_loss_set=[], valid_loss_set = [],\\\r\n",
        "          lowest_eval_loss=None, start_epoch=0,\\\r\n",
        "          device=\"cpu\"\r\n",
        "          ):\r\n",
        "  \"\"\"\r\n",
        "  Train the model and save the model with the lowest validation loss\r\n",
        "  \"\"\"\r\n",
        "\r\n",
        "  model.to(device)\r\n",
        "\r\n",
        "  # trange is a tqdm wrapper around the normal python range\r\n",
        "  for i in trange(num_epochs, desc=\"Epoch\"):\r\n",
        "    # if continue training from saved model\r\n",
        "    actual_epoch = start_epoch + i\r\n",
        "\r\n",
        "    # Training\r\n",
        "\r\n",
        "    # Set our model to training mode (as opposed to evaluation mode)\r\n",
        "    model.train()\r\n",
        "\r\n",
        "    # Tracking variables\r\n",
        "    tr_loss = 0\r\n",
        "    num_train_samples = 0\r\n",
        "\r\n",
        "    # Train the data for one epoch\r\n",
        "    for step, batch in enumerate(train_dataloader):\r\n",
        "      # Add batch to GPU\r\n",
        "      batch = tuple(t.to(device) for t in batch)\r\n",
        "      # Unpack the inputs from our dataloader\r\n",
        "      b_input_ids, b_input_mask, b_labels = batch\r\n",
        "      # Clear out the gradients (by default they accumulate)\r\n",
        "      optimizer.zero_grad()\r\n",
        "      # Forward pass\r\n",
        "      loss = model(b_input_ids, attention_mask=b_input_mask, labels=b_labels)\r\n",
        "      # store train loss\r\n",
        "      tr_loss += loss.item()\r\n",
        "      num_train_samples += b_labels.size(0)\r\n",
        "      # Backward pass\r\n",
        "      loss.backward()\r\n",
        "      # Update parameters and take a step using the computed gradient\r\n",
        "      optimizer.step()\r\n",
        "      #scheduler.step()\r\n",
        "\r\n",
        "    # Update tracking variables\r\n",
        "    epoch_train_loss = tr_loss/num_train_samples\r\n",
        "    train_loss_set.append(epoch_train_loss)\r\n",
        "\r\n",
        "    print(\"Train loss: {}\".format(epoch_train_loss))\r\n",
        "\r\n",
        "    # Validation\r\n",
        "\r\n",
        "    # Put model in evaluation mode to evaluate loss on the validation set\r\n",
        "    model.eval()\r\n",
        "\r\n",
        "    # Tracking variables \r\n",
        "    eval_loss = 0\r\n",
        "    num_eval_samples = 0\r\n",
        "\r\n",
        "    # Evaluate data for one epoch\r\n",
        "    for batch in valid_dataloader:\r\n",
        "      # Add batch to GPU\r\n",
        "      batch = tuple(t.to(device) for t in batch)\r\n",
        "      # Unpack the inputs from our dataloader\r\n",
        "      b_input_ids, b_input_mask, b_labels = batch\r\n",
        "      # Telling the model not to compute or store gradients,\r\n",
        "      # saving memory and speeding up validation\r\n",
        "      with torch.no_grad():\r\n",
        "        # Forward pass, calculate validation loss\r\n",
        "        loss = model(b_input_ids, attention_mask=b_input_mask, labels=b_labels)\r\n",
        "        # store valid loss\r\n",
        "        eval_loss += loss.item()\r\n",
        "        num_eval_samples += b_labels.size(0)\r\n",
        "\r\n",
        "    epoch_eval_loss = eval_loss/num_eval_samples\r\n",
        "    valid_loss_set.append(epoch_eval_loss)\r\n",
        "\r\n",
        "    print(\"Valid loss: {}\".format(epoch_eval_loss))\r\n",
        "\r\n",
        "    if lowest_eval_loss == None:\r\n",
        "      lowest_eval_loss = epoch_eval_loss\r\n",
        "      # save model\r\n",
        "      save_model(model, model_save_path, actual_epoch,\\\r\n",
        "                 lowest_eval_loss, train_loss_set, valid_loss_set)\r\n",
        "    else:\r\n",
        "      if epoch_eval_loss < lowest_eval_loss:\r\n",
        "        lowest_eval_loss = epoch_eval_loss\r\n",
        "        # save model\r\n",
        "        save_model(model, model_save_path, actual_epoch,\\\r\n",
        "                   lowest_eval_loss, train_loss_set, valid_loss_set)\r\n",
        "    print(\"\\n\")\r\n",
        "\r\n",
        "  return model, train_loss_set, valid_loss_set\r\n",
        "\r\n",
        "\r\n",
        "def save_model(model, save_path, epochs, lowest_eval_loss, train_loss_hist, valid_loss_hist):\r\n",
        "  \"\"\"\r\n",
        "  Save the model to the path directory provided\r\n",
        "  \"\"\"\r\n",
        "  model_to_save = model.module if hasattr(model, 'module') else model\r\n",
        "  checkpoint = {'epochs': epochs, \\\r\n",
        "                'lowest_eval_loss': lowest_eval_loss,\\\r\n",
        "                'state_dict': model_to_save.state_dict(),\\\r\n",
        "                'train_loss_hist': train_loss_hist,\\\r\n",
        "                'valid_loss_hist': valid_loss_hist\r\n",
        "               }\r\n",
        "  torch.save(checkpoint, save_path)\r\n",
        "  print(\"Saving model at epoch {} with validation loss of {}\".format(epochs,\\\r\n",
        "                                                                     lowest_eval_loss))\r\n",
        "  return"
      ],
      "execution_count": null,
      "outputs": []
    },
    {
      "cell_type": "code",
      "metadata": {
        "colab": {
          "base_uri": "https://localhost:8080/",
          "height": 115,
          "referenced_widgets": [
            "2665412b59d74b238c9b088265e532b1",
            "80bb6824663a49729fedd80cf481eef3",
            "59363e00f3a141ac803f808f8786af21",
            "1813a06a1b1e432a8d06c8decfe2e470",
            "02abafd3f9f3447fbdb27d275c1f1eec",
            "1f8dacbea60c4a308f1feeb6d95db064",
            "faa6b837780349539677fe23e3dec212",
            "afd146581a3842c8995e17100795c874",
            "b1416bcb2a714f9baf43a9e59ad2c391",
            "5fa49d36f410414b813b74e062fdb8a6",
            "c5baf5f84fee44b7a5239e23929fd0d1",
            "5ff7547a30294acfbe1660bfa1ec2f31",
            "6efa93678f6446ac99c04e87b7652813",
            "af6a899406474400a0cbc2cd00dfc17d",
            "dff2cbe3d14d424ca5d863c8f59e74c9",
            "03ea15758e0945029565e88b5187d369"
          ]
        },
        "id": "uo18itAPcnnc",
        "outputId": "6467ada1-b1c0-4096-c006-b0e52624ce14"
      },
      "source": [
        "class XLNetForMultiLabelSequenceClassification(torch.nn.Module):\r\n",
        "  \r\n",
        "  def __init__(self, num_labels=2):\r\n",
        "    super(XLNetForMultiLabelSequenceClassification, self).__init__()\r\n",
        "    self.num_labels = num_labels\r\n",
        "    self.xlnet = XLNetModel.from_pretrained('xlnet-base-cased')\r\n",
        "    self.classifier = torch.nn.Linear(768, num_labels)\r\n",
        "\r\n",
        "    torch.nn.init.xavier_normal_(self.classifier.weight)\r\n",
        "\r\n",
        "  def forward(self, input_ids, token_type_ids=None,\\\r\n",
        "              attention_mask=None, labels=None):\r\n",
        "    # last hidden layer\r\n",
        "    last_hidden_state = self.xlnet(input_ids=input_ids,\\\r\n",
        "                                   attention_mask=attention_mask,\\\r\n",
        "                                   token_type_ids=token_type_ids)\r\n",
        "    # pool the outputs into a mean vector\r\n",
        "    mean_last_hidden_state = self.pool_hidden_state(last_hidden_state)\r\n",
        "    logits = self.classifier(mean_last_hidden_state)\r\n",
        "        \r\n",
        "    if labels is not None:\r\n",
        "      loss_fct = BCEWithLogitsLoss() # more stable than pure sigmoid\r\n",
        "      loss = loss_fct(logits.view(-1, self.num_labels),\\\r\n",
        "                      labels.view(-1, self.num_labels))\r\n",
        "      return loss\r\n",
        "    else:\r\n",
        "      return logits\r\n",
        "    \r\n",
        "  def freeze_xlnet_decoder(self):\r\n",
        "    \"\"\"\r\n",
        "    Freeze XLNet weight parameters. They will not be updated during training.\r\n",
        "    \"\"\"\r\n",
        "    for param in self.xlnet.parameters():\r\n",
        "      param.requires_grad = False\r\n",
        "    \r\n",
        "  def unfreeze_xlnet_decoder(self):\r\n",
        "    \"\"\"\r\n",
        "    Unfreeze XLNet weight parameters. They will be updated during training.\r\n",
        "    \"\"\"\r\n",
        "    for param in self.xlnet.parameters():\r\n",
        "      param.requires_grad = True\r\n",
        "    \r\n",
        "  def pool_hidden_state(self, last_hidden_state):\r\n",
        "    \"\"\"\r\n",
        "    Pool the output vectors into a single mean vector \r\n",
        "    \"\"\"\r\n",
        "    last_hidden_state = last_hidden_state[0]\r\n",
        "    mean_last_hidden_state = torch.mean(last_hidden_state, 1)\r\n",
        "    return mean_last_hidden_state\r\n",
        "    \r\n",
        "model = XLNetForMultiLabelSequenceClassification(num_labels=len(Y_train[0]))"
      ],
      "execution_count": 22,
      "outputs": [
        {
          "output_type": "display_data",
          "data": {
            "application/vnd.jupyter.widget-view+json": {
              "model_id": "2665412b59d74b238c9b088265e532b1",
              "version_minor": 0,
              "version_major": 2
            },
            "text/plain": [
              "HBox(children=(FloatProgress(value=0.0, description='Downloading', max=760.0, style=ProgressStyle(description_…"
            ]
          },
          "metadata": {
            "tags": []
          }
        },
        {
          "output_type": "stream",
          "text": [
            "\n"
          ],
          "name": "stdout"
        },
        {
          "output_type": "display_data",
          "data": {
            "application/vnd.jupyter.widget-view+json": {
              "model_id": "b1416bcb2a714f9baf43a9e59ad2c391",
              "version_minor": 0,
              "version_major": 2
            },
            "text/plain": [
              "HBox(children=(FloatProgress(value=0.0, description='Downloading', max=467042463.0, style=ProgressStyle(descri…"
            ]
          },
          "metadata": {
            "tags": []
          }
        },
        {
          "output_type": "stream",
          "text": [
            "\n"
          ],
          "name": "stdout"
        }
      ]
    },
    {
      "cell_type": "code",
      "metadata": {
        "id": "x7B0j8EidHK2"
      },
      "source": [
        "optimizer = AdamW(model.parameters(), lr=2e-5, weight_decay=0.01, correct_bias=False)"
      ],
      "execution_count": null,
      "outputs": []
    },
    {
      "cell_type": "code",
      "metadata": {
        "colab": {
          "base_uri": "https://localhost:8080/"
        },
        "id": "ZQdeuDp0cw89",
        "outputId": "919061bb-ea4d-4362-ceb7-61fecfc98059"
      },
      "source": [
        "num_epochs=3\r\n",
        "import os\r\n",
        "from tqdm import tqdm, trange\r\n",
        "cwd = os.getcwd()\r\n",
        "model_save_path = output_model_file = os.path.join(cwd, \"drive/My Drive/Models/xlnet_asrs.bin\")\r\n",
        "model, train_loss_set, valid_loss_set = train(model=model,\\\r\n",
        "                                              num_epochs=num_epochs,\\\r\n",
        "                                              optimizer=optimizer,\\\r\n",
        "                                              train_dataloader=train_dataloader,\\\r\n",
        "                                              valid_dataloader=validation_dataloader,\\\r\n",
        "                                              model_save_path=model_save_path,\\\r\n",
        "                                              device=\"cuda\")\r\n",
        "# It takes an hour to train just 3 epochs with pretty workable loss"
      ],
      "execution_count": null,
      "outputs": [
        {
          "output_type": "stream",
          "text": [
            "\rEpoch:   0%|          | 0/3 [00:00<?, ?it/s]"
          ],
          "name": "stderr"
        },
        {
          "output_type": "stream",
          "text": [
            "Train loss: 0.01204084963888503\n",
            "Valid loss: 0.009389177575270686\n"
          ],
          "name": "stdout"
        },
        {
          "output_type": "stream",
          "text": [
            "\rEpoch:  33%|███▎      | 1/3 [17:12<34:24, 1032.14s/it]"
          ],
          "name": "stderr"
        },
        {
          "output_type": "stream",
          "text": [
            "Saving model at epoch 0 with validation loss of 0.009389177575270686\n",
            "\n",
            "\n",
            "Train loss: 0.00883569953340322\n",
            "Valid loss: 0.00870212494124759\n"
          ],
          "name": "stdout"
        },
        {
          "output_type": "stream",
          "text": [
            "\rEpoch:  67%|██████▋   | 2/3 [34:44<17:18, 1038.33s/it]"
          ],
          "name": "stderr"
        },
        {
          "output_type": "stream",
          "text": [
            "Saving model at epoch 1 with validation loss of 0.00870212494124759\n",
            "\n",
            "\n",
            "Train loss: 0.00799812485804101\n",
            "Valid loss: 0.008669619300257997\n"
          ],
          "name": "stdout"
        },
        {
          "output_type": "stream",
          "text": [
            "Epoch: 100%|██████████| 3/3 [52:16<00:00, 1045.59s/it]"
          ],
          "name": "stderr"
        },
        {
          "output_type": "stream",
          "text": [
            "Saving model at epoch 2 with validation loss of 0.008669619300257997\n",
            "\n",
            "\n"
          ],
          "name": "stdout"
        },
        {
          "output_type": "stream",
          "text": [
            "\n"
          ],
          "name": "stderr"
        }
      ]
    },
    {
      "cell_type": "code",
      "metadata": {
        "colab": {
          "base_uri": "https://localhost:8080/",
          "height": 367
        },
        "id": "LuJHs5GndCF_",
        "outputId": "394739da-d865-4328-879b-54c4f71e3747"
      },
      "source": [
        "num_epochs = np.arange(len(train_loss_set))\r\n",
        "\r\n",
        "fig, ax = plt.subplots(figsize=(10, 5));\r\n",
        "ax.plot(num_epochs, np.array(train_loss_set), label=\"Train Loss\")\r\n",
        "ax.plot(num_epochs, np.array(valid_loss_set), 'g-', label=\"Valid Loss\")\r\n",
        "#ax1.plot(episode_record, lose_record, 'r-', label=\"Lose %\")\r\n",
        "ax.set_xlabel(\"Number of Epochs\")\r\n",
        "ax.set_ylabel(\"Loss\")\r\n",
        "ax.set_title(\"Loss vs Number of Epochs\")"
      ],
      "execution_count": null,
      "outputs": [
        {
          "output_type": "execute_result",
          "data": {
            "text/plain": [
              "Text(0.5, 1.0, 'Loss vs Number of Epochs')"
            ]
          },
          "metadata": {
            "tags": []
          },
          "execution_count": 26
        },
        {
          "output_type": "display_data",
          "data": {
            "image/png": "[encoded data removed]",
            "text/plain": [
              "<Figure size 720x360 with 1 Axes>"
            ]
          },
          "metadata": {
            "tags": [],
            "needs_background": "light"
          }
        }
      ]
    },
    {
      "cell_type": "code",
      "metadata": {
        "colab": {
          "base_uri": "https://localhost:8080/",
          "height": 419
        },
        "id": "yUsMUqpLvrKA",
        "outputId": "836605d3-4eaa-491e-86d8-5992153c0231"
      },
      "source": [
        "test_df"
      ],
      "execution_count": null,
      "outputs": [
        {
          "output_type": "execute_result",
          "data": {
            "text/html": [
              "<div>\n",
              "<style scoped>\n",
              "    .dataframe tbody tr th:only-of-type {\n",
              "        vertical-align: middle;\n",
              "    }\n",
              "\n",
              "    .dataframe tbody tr th {\n",
              "        vertical-align: top;\n",
              "    }\n",
              "\n",
              "    .dataframe thead th {\n",
              "        text-align: right;\n",
              "    }\n",
              "</style>\n",
              "<table border=\"1\" class=\"dataframe\">\n",
              "  <thead>\n",
              "    <tr style=\"text-align: right;\">\n",
              "      <th></th>\n",
              "      <th>raw_text</th>\n",
              "      <th>features</th>\n",
              "      <th>masks</th>\n",
              "    </tr>\n",
              "  </thead>\n",
              "  <tbody>\n",
              "    <tr>\n",
              "      <th>0</th>\n",
              "      <td>after takeoff on runway a loudnoise was hear c...</td>\n",
              "      <td>[99, 182, 1372, 31, 11013, 24, 6037, 488, 2337...</td>\n",
              "      <td>[1.0, 1.0, 1.0, 1.0, 1.0, 1.0, 1.0, 1.0, 1.0, ...</td>\n",
              "    </tr>\n",
              "    <tr>\n",
              "      <th>1</th>\n",
              "      <td>taxi off the parkingramp the brake system fail...</td>\n",
              "      <td>[9507, 177, 18, 4169, 213, 1701, 18, 15878, 27...</td>\n",
              "      <td>[1.0, 1.0, 1.0, 1.0, 1.0, 1.0, 1.0, 1.0, 1.0, ...</td>\n",
              "    </tr>\n",
              "    <tr>\n",
              "      <th>2</th>\n",
              "      <td>just prior to depart of aircraft flight xxx ra...</td>\n",
              "      <td>[125, 2114, 22, 16085, 20, 2005, 2115, 17, 272...</td>\n",
              "      <td>[1.0, 1.0, 1.0, 1.0, 1.0, 1.0, 1.0, 1.0, 1.0, ...</td>\n",
              "    </tr>\n",
              "    <tr>\n",
              "      <th>3</th>\n",
              "      <td>selectivecalling from sfo airport commercialra...</td>\n",
              "      <td>[14140, 12611, 56, 40, 17, 23, 6571, 2212, 147...</td>\n",
              "      <td>[1.0, 1.0, 1.0, 1.0, 1.0, 1.0, 1.0, 1.0, 1.0, ...</td>\n",
              "    </tr>\n",
              "    <tr>\n",
              "      <th>4</th>\n",
              "      <td>had taxi out to runway for takeoff per prevail...</td>\n",
              "      <td>[54, 9507, 78, 22, 11013, 28, 182, 1372, 451, ...</td>\n",
              "      <td>[1.0, 1.0, 1.0, 1.0, 1.0, 1.0, 1.0, 1.0, 1.0, ...</td>\n",
              "    </tr>\n",
              "    <tr>\n",
              "      <th>...</th>\n",
              "      <td>...</td>\n",
              "      <td>...</td>\n",
              "      <td>...</td>\n",
              "    </tr>\n",
              "    <tr>\n",
              "      <th>5264</th>\n",
              "      <td>i was attempt to make a short mile flight to r...</td>\n",
              "      <td>[17, 150, 30, 1681, 22, 144, 24, 573, 5125, 21...</td>\n",
              "      <td>[1.0, 1.0, 1.0, 1.0, 1.0, 1.0, 1.0, 1.0, 1.0, ...</td>\n",
              "    </tr>\n",
              "    <tr>\n",
              "      <th>5265</th>\n",
              "      <td>this incident was a groundproximitywarningsyst...</td>\n",
              "      <td>[52, 2510, 30, 24, 881, 3143, 6269, 98, 769, 2...</td>\n",
              "      <td>[1.0, 1.0, 1.0, 1.0, 1.0, 1.0, 1.0, 1.0, 1.0, ...</td>\n",
              "    </tr>\n",
              "    <tr>\n",
              "      <th>5266</th>\n",
              "      <td>we encounter sever downdraft and microburst ca...</td>\n",
              "      <td>[80, 6961, 17, 23, 3079, 151, 24827, 21, 4012,...</td>\n",
              "      <td>[1.0, 1.0, 1.0, 1.0, 1.0, 1.0, 1.0, 1.0, 1.0, ...</td>\n",
              "    </tr>\n",
              "    <tr>\n",
              "      <th>5267</th>\n",
              "      <td>after a weather reroute and minute of hold wes...</td>\n",
              "      <td>[99, 24, 2194, 17, 88, 26685, 21, 1901, 20, 85...</td>\n",
              "      <td>[1.0, 1.0, 1.0, 1.0, 1.0, 1.0, 1.0, 1.0, 1.0, ...</td>\n",
              "    </tr>\n",
              "    <tr>\n",
              "      <th>5268</th>\n",
              "      <td>clear instrumentlandingsystemrunway wind degre...</td>\n",
              "      <td>[791, 7033, 729, 56, 11580, 2169, 1550, 2436, ...</td>\n",
              "      <td>[1.0, 1.0, 1.0, 1.0, 1.0, 1.0, 1.0, 1.0, 1.0, ...</td>\n",
              "    </tr>\n",
              "  </tbody>\n",
              "</table>\n",
              "<p>5269 rows × 3 columns</p>\n",
              "</div>"
            ],
            "text/plain": [
              "                                               raw_text  ...                                              masks\n",
              "0     after takeoff on runway a loudnoise was hear c...  ...  [1.0, 1.0, 1.0, 1.0, 1.0, 1.0, 1.0, 1.0, 1.0, ...\n",
              "1     taxi off the parkingramp the brake system fail...  ...  [1.0, 1.0, 1.0, 1.0, 1.0, 1.0, 1.0, 1.0, 1.0, ...\n",
              "2     just prior to depart of aircraft flight xxx ra...  ...  [1.0, 1.0, 1.0, 1.0, 1.0, 1.0, 1.0, 1.0, 1.0, ...\n",
              "3     selectivecalling from sfo airport commercialra...  ...  [1.0, 1.0, 1.0, 1.0, 1.0, 1.0, 1.0, 1.0, 1.0, ...\n",
              "4     had taxi out to runway for takeoff per prevail...  ...  [1.0, 1.0, 1.0, 1.0, 1.0, 1.0, 1.0, 1.0, 1.0, ...\n",
              "...                                                 ...  ...                                                ...\n",
              "5264  i was attempt to make a short mile flight to r...  ...  [1.0, 1.0, 1.0, 1.0, 1.0, 1.0, 1.0, 1.0, 1.0, ...\n",
              "5265  this incident was a groundproximitywarningsyst...  ...  [1.0, 1.0, 1.0, 1.0, 1.0, 1.0, 1.0, 1.0, 1.0, ...\n",
              "5266  we encounter sever downdraft and microburst ca...  ...  [1.0, 1.0, 1.0, 1.0, 1.0, 1.0, 1.0, 1.0, 1.0, ...\n",
              "5267  after a weather reroute and minute of hold wes...  ...  [1.0, 1.0, 1.0, 1.0, 1.0, 1.0, 1.0, 1.0, 1.0, ...\n",
              "5268  clear instrumentlandingsystemrunway wind degre...  ...  [1.0, 1.0, 1.0, 1.0, 1.0, 1.0, 1.0, 1.0, 1.0, ...\n",
              "\n",
              "[5269 rows x 3 columns]"
            ]
          },
          "metadata": {
            "tags": []
          },
          "execution_count": 27
        }
      ]
    },
    {
      "cell_type": "markdown",
      "metadata": {
        "id": "SuhI7GX7Qwea"
      },
      "source": [
        "Genarate predictions on test dataset and saving"
      ]
    },
    {
      "cell_type": "code",
      "metadata": {
        "id": "y2k5jIZUwDvZ"
      },
      "source": [
        "def generate_predictions(model, df, num_labels, device=\"cpu\", batch_size=32):\r\n",
        "  num_iter = math.ceil(df.shape[0]/batch_size)\r\n",
        "  \r\n",
        "  pred_probs = np.array([]).reshape(0, num_labels)\r\n",
        "  \r\n",
        "  model.to(device)\r\n",
        "  model.eval()\r\n",
        "  \r\n",
        "  for i in range(num_iter):\r\n",
        "    df_subset = df.iloc[i*batch_size:(i+1)*batch_size,:]\r\n",
        "    X = df_subset[\"features\"].values.tolist()\r\n",
        "    masks = df_subset[\"masks\"].values.tolist()\r\n",
        "    X = torch.tensor(X)\r\n",
        "    masks = torch.tensor(masks, dtype=torch.long)\r\n",
        "    X = X.to(device)\r\n",
        "    masks = masks.to(device)\r\n",
        "    with torch.no_grad():\r\n",
        "      logits = model(input_ids=X, attention_mask=masks)\r\n",
        "      logits = logits.sigmoid().detach().cpu().numpy()\r\n",
        "      pred_probs = np.vstack([pred_probs, logits])\r\n",
        "  \r\n",
        "  return pred_probs"
      ],
      "execution_count": 26,
      "outputs": []
    },
    {
      "cell_type": "code",
      "metadata": {
        "colab": {
          "base_uri": "https://localhost:8080/"
        },
        "id": "nPFHJoNuwXab",
        "outputId": "b207c7c8-d019-416d-cea4-fafad873920e"
      },
      "source": [
        "pred_probs = generate_predictions(model, test_df, 22, device=\"cuda\", batch_size=32)\r\n",
        "pred_probs"
      ],
      "execution_count": null,
      "outputs": [
        {
          "output_type": "execute_result",
          "data": {
            "text/plain": [
              "array([[8.69318284e-03, 8.13918859e-02, 4.42971755e-03, ...,\n",
              "        7.02843489e-03, 7.82357994e-03, 1.13871720e-04],\n",
              "       [1.29542202e-02, 3.94528091e-01, 1.83771420e-02, ...,\n",
              "        6.47024775e-04, 2.73428694e-03, 2.18123270e-04],\n",
              "       [8.12007859e-02, 9.83171821e-01, 6.89474808e-04, ...,\n",
              "        1.07658643e-03, 9.51244205e-04, 1.00453673e-02],\n",
              "       ...,\n",
              "       [2.51499098e-03, 4.63218465e-02, 7.59470422e-05, ...,\n",
              "        9.91543639e-04, 1.60006527e-02, 9.12326039e-04],\n",
              "       [1.29880512e-03, 9.95421857e-02, 7.54158769e-04, ...,\n",
              "        1.03548472e-03, 4.73000109e-03, 1.80090102e-03],\n",
              "       [5.08053834e-03, 1.19083516e-01, 1.59518828e-03, ...,\n",
              "        2.31891917e-03, 2.35915128e-02, 3.61341168e-03]])"
            ]
          },
          "metadata": {
            "tags": []
          },
          "execution_count": 39
        }
      ]
    },
    {
      "cell_type": "code",
      "metadata": {
        "colab": {
          "base_uri": "https://localhost:8080/",
          "height": 419
        },
        "id": "bhSJ3QP_wahD",
        "outputId": "58189873-c793-4340-a837-396fc244330a"
      },
      "source": [
        "u = pd.DataFrame(pred_probs)\r\n",
        "u = u.applymap(lambda x: 1 if x>=0.5 else 0)\r\n",
        "u"
      ],
      "execution_count": null,
      "outputs": [
        {
          "output_type": "execute_result",
          "data": {
            "text/html": [
              "<div>\n",
              "<style scoped>\n",
              "    .dataframe tbody tr th:only-of-type {\n",
              "        vertical-align: middle;\n",
              "    }\n",
              "\n",
              "    .dataframe tbody tr th {\n",
              "        vertical-align: top;\n",
              "    }\n",
              "\n",
              "    .dataframe thead th {\n",
              "        text-align: right;\n",
              "    }\n",
              "</style>\n",
              "<table border=\"1\" class=\"dataframe\">\n",
              "  <thead>\n",
              "    <tr style=\"text-align: right;\">\n",
              "      <th></th>\n",
              "      <th>0</th>\n",
              "      <th>1</th>\n",
              "      <th>2</th>\n",
              "      <th>3</th>\n",
              "      <th>4</th>\n",
              "      <th>5</th>\n",
              "      <th>6</th>\n",
              "      <th>7</th>\n",
              "      <th>8</th>\n",
              "      <th>9</th>\n",
              "      <th>10</th>\n",
              "      <th>11</th>\n",
              "      <th>12</th>\n",
              "      <th>13</th>\n",
              "      <th>14</th>\n",
              "      <th>15</th>\n",
              "      <th>16</th>\n",
              "      <th>17</th>\n",
              "      <th>18</th>\n",
              "      <th>19</th>\n",
              "      <th>20</th>\n",
              "      <th>21</th>\n",
              "    </tr>\n",
              "  </thead>\n",
              "  <tbody>\n",
              "    <tr>\n",
              "      <th>0</th>\n",
              "      <td>0</td>\n",
              "      <td>0</td>\n",
              "      <td>0</td>\n",
              "      <td>0</td>\n",
              "      <td>0</td>\n",
              "      <td>0</td>\n",
              "      <td>0</td>\n",
              "      <td>0</td>\n",
              "      <td>0</td>\n",
              "      <td>0</td>\n",
              "      <td>0</td>\n",
              "      <td>0</td>\n",
              "      <td>0</td>\n",
              "      <td>0</td>\n",
              "      <td>0</td>\n",
              "      <td>0</td>\n",
              "      <td>0</td>\n",
              "      <td>0</td>\n",
              "      <td>1</td>\n",
              "      <td>0</td>\n",
              "      <td>0</td>\n",
              "      <td>0</td>\n",
              "    </tr>\n",
              "    <tr>\n",
              "      <th>1</th>\n",
              "      <td>0</td>\n",
              "      <td>0</td>\n",
              "      <td>0</td>\n",
              "      <td>1</td>\n",
              "      <td>1</td>\n",
              "      <td>0</td>\n",
              "      <td>0</td>\n",
              "      <td>0</td>\n",
              "      <td>0</td>\n",
              "      <td>0</td>\n",
              "      <td>0</td>\n",
              "      <td>0</td>\n",
              "      <td>0</td>\n",
              "      <td>0</td>\n",
              "      <td>0</td>\n",
              "      <td>0</td>\n",
              "      <td>0</td>\n",
              "      <td>0</td>\n",
              "      <td>1</td>\n",
              "      <td>0</td>\n",
              "      <td>0</td>\n",
              "      <td>0</td>\n",
              "    </tr>\n",
              "    <tr>\n",
              "      <th>2</th>\n",
              "      <td>0</td>\n",
              "      <td>1</td>\n",
              "      <td>0</td>\n",
              "      <td>0</td>\n",
              "      <td>0</td>\n",
              "      <td>0</td>\n",
              "      <td>0</td>\n",
              "      <td>0</td>\n",
              "      <td>0</td>\n",
              "      <td>0</td>\n",
              "      <td>0</td>\n",
              "      <td>0</td>\n",
              "      <td>0</td>\n",
              "      <td>0</td>\n",
              "      <td>0</td>\n",
              "      <td>0</td>\n",
              "      <td>0</td>\n",
              "      <td>0</td>\n",
              "      <td>0</td>\n",
              "      <td>0</td>\n",
              "      <td>0</td>\n",
              "      <td>0</td>\n",
              "    </tr>\n",
              "    <tr>\n",
              "      <th>3</th>\n",
              "      <td>0</td>\n",
              "      <td>0</td>\n",
              "      <td>0</td>\n",
              "      <td>0</td>\n",
              "      <td>0</td>\n",
              "      <td>1</td>\n",
              "      <td>0</td>\n",
              "      <td>1</td>\n",
              "      <td>0</td>\n",
              "      <td>0</td>\n",
              "      <td>0</td>\n",
              "      <td>0</td>\n",
              "      <td>0</td>\n",
              "      <td>0</td>\n",
              "      <td>0</td>\n",
              "      <td>0</td>\n",
              "      <td>0</td>\n",
              "      <td>0</td>\n",
              "      <td>0</td>\n",
              "      <td>0</td>\n",
              "      <td>0</td>\n",
              "      <td>0</td>\n",
              "    </tr>\n",
              "    <tr>\n",
              "      <th>4</th>\n",
              "      <td>0</td>\n",
              "      <td>1</td>\n",
              "      <td>0</td>\n",
              "      <td>0</td>\n",
              "      <td>0</td>\n",
              "      <td>0</td>\n",
              "      <td>0</td>\n",
              "      <td>0</td>\n",
              "      <td>0</td>\n",
              "      <td>0</td>\n",
              "      <td>0</td>\n",
              "      <td>1</td>\n",
              "      <td>0</td>\n",
              "      <td>0</td>\n",
              "      <td>0</td>\n",
              "      <td>0</td>\n",
              "      <td>0</td>\n",
              "      <td>0</td>\n",
              "      <td>0</td>\n",
              "      <td>0</td>\n",
              "      <td>0</td>\n",
              "      <td>0</td>\n",
              "    </tr>\n",
              "    <tr>\n",
              "      <th>...</th>\n",
              "      <td>...</td>\n",
              "      <td>...</td>\n",
              "      <td>...</td>\n",
              "      <td>...</td>\n",
              "      <td>...</td>\n",
              "      <td>...</td>\n",
              "      <td>...</td>\n",
              "      <td>...</td>\n",
              "      <td>...</td>\n",
              "      <td>...</td>\n",
              "      <td>...</td>\n",
              "      <td>...</td>\n",
              "      <td>...</td>\n",
              "      <td>...</td>\n",
              "      <td>...</td>\n",
              "      <td>...</td>\n",
              "      <td>...</td>\n",
              "      <td>...</td>\n",
              "      <td>...</td>\n",
              "      <td>...</td>\n",
              "      <td>...</td>\n",
              "      <td>...</td>\n",
              "    </tr>\n",
              "    <tr>\n",
              "      <th>5264</th>\n",
              "      <td>0</td>\n",
              "      <td>0</td>\n",
              "      <td>0</td>\n",
              "      <td>0</td>\n",
              "      <td>0</td>\n",
              "      <td>0</td>\n",
              "      <td>0</td>\n",
              "      <td>0</td>\n",
              "      <td>0</td>\n",
              "      <td>1</td>\n",
              "      <td>0</td>\n",
              "      <td>0</td>\n",
              "      <td>1</td>\n",
              "      <td>0</td>\n",
              "      <td>0</td>\n",
              "      <td>1</td>\n",
              "      <td>0</td>\n",
              "      <td>1</td>\n",
              "      <td>0</td>\n",
              "      <td>0</td>\n",
              "      <td>0</td>\n",
              "      <td>0</td>\n",
              "    </tr>\n",
              "    <tr>\n",
              "      <th>5265</th>\n",
              "      <td>0</td>\n",
              "      <td>0</td>\n",
              "      <td>0</td>\n",
              "      <td>0</td>\n",
              "      <td>0</td>\n",
              "      <td>0</td>\n",
              "      <td>0</td>\n",
              "      <td>0</td>\n",
              "      <td>0</td>\n",
              "      <td>1</td>\n",
              "      <td>1</td>\n",
              "      <td>0</td>\n",
              "      <td>1</td>\n",
              "      <td>0</td>\n",
              "      <td>1</td>\n",
              "      <td>1</td>\n",
              "      <td>0</td>\n",
              "      <td>0</td>\n",
              "      <td>0</td>\n",
              "      <td>0</td>\n",
              "      <td>0</td>\n",
              "      <td>0</td>\n",
              "    </tr>\n",
              "    <tr>\n",
              "      <th>5266</th>\n",
              "      <td>0</td>\n",
              "      <td>0</td>\n",
              "      <td>0</td>\n",
              "      <td>0</td>\n",
              "      <td>0</td>\n",
              "      <td>0</td>\n",
              "      <td>0</td>\n",
              "      <td>0</td>\n",
              "      <td>0</td>\n",
              "      <td>0</td>\n",
              "      <td>0</td>\n",
              "      <td>0</td>\n",
              "      <td>1</td>\n",
              "      <td>0</td>\n",
              "      <td>0</td>\n",
              "      <td>0</td>\n",
              "      <td>0</td>\n",
              "      <td>0</td>\n",
              "      <td>0</td>\n",
              "      <td>0</td>\n",
              "      <td>0</td>\n",
              "      <td>0</td>\n",
              "    </tr>\n",
              "    <tr>\n",
              "      <th>5267</th>\n",
              "      <td>0</td>\n",
              "      <td>0</td>\n",
              "      <td>0</td>\n",
              "      <td>0</td>\n",
              "      <td>0</td>\n",
              "      <td>0</td>\n",
              "      <td>0</td>\n",
              "      <td>0</td>\n",
              "      <td>0</td>\n",
              "      <td>0</td>\n",
              "      <td>0</td>\n",
              "      <td>0</td>\n",
              "      <td>1</td>\n",
              "      <td>0</td>\n",
              "      <td>0</td>\n",
              "      <td>0</td>\n",
              "      <td>0</td>\n",
              "      <td>0</td>\n",
              "      <td>0</td>\n",
              "      <td>0</td>\n",
              "      <td>0</td>\n",
              "      <td>0</td>\n",
              "    </tr>\n",
              "    <tr>\n",
              "      <th>5268</th>\n",
              "      <td>0</td>\n",
              "      <td>0</td>\n",
              "      <td>0</td>\n",
              "      <td>0</td>\n",
              "      <td>0</td>\n",
              "      <td>0</td>\n",
              "      <td>1</td>\n",
              "      <td>0</td>\n",
              "      <td>0</td>\n",
              "      <td>1</td>\n",
              "      <td>0</td>\n",
              "      <td>0</td>\n",
              "      <td>1</td>\n",
              "      <td>0</td>\n",
              "      <td>0</td>\n",
              "      <td>1</td>\n",
              "      <td>0</td>\n",
              "      <td>0</td>\n",
              "      <td>1</td>\n",
              "      <td>0</td>\n",
              "      <td>0</td>\n",
              "      <td>0</td>\n",
              "    </tr>\n",
              "  </tbody>\n",
              "</table>\n",
              "<p>5269 rows × 22 columns</p>\n",
              "</div>"
            ],
            "text/plain": [
              "      0   1   2   3   4   5   6   7   8   ...  13  14  15  16  17  18  19  20  21\n",
              "0      0   0   0   0   0   0   0   0   0  ...   0   0   0   0   0   1   0   0   0\n",
              "1      0   0   0   1   1   0   0   0   0  ...   0   0   0   0   0   1   0   0   0\n",
              "2      0   1   0   0   0   0   0   0   0  ...   0   0   0   0   0   0   0   0   0\n",
              "3      0   0   0   0   0   1   0   1   0  ...   0   0   0   0   0   0   0   0   0\n",
              "4      0   1   0   0   0   0   0   0   0  ...   0   0   0   0   0   0   0   0   0\n",
              "...   ..  ..  ..  ..  ..  ..  ..  ..  ..  ...  ..  ..  ..  ..  ..  ..  ..  ..  ..\n",
              "5264   0   0   0   0   0   0   0   0   0  ...   0   0   1   0   1   0   0   0   0\n",
              "5265   0   0   0   0   0   0   0   0   0  ...   0   1   1   0   0   0   0   0   0\n",
              "5266   0   0   0   0   0   0   0   0   0  ...   0   0   0   0   0   0   0   0   0\n",
              "5267   0   0   0   0   0   0   0   0   0  ...   0   0   0   0   0   0   0   0   0\n",
              "5268   0   0   0   0   0   0   1   0   0  ...   0   0   1   0   0   1   0   0   0\n",
              "\n",
              "[5269 rows x 22 columns]"
            ]
          },
          "metadata": {
            "tags": []
          },
          "execution_count": 40
        }
      ]
    },
    {
      "cell_type": "code",
      "metadata": {
        "id": "iykPof9jxAd7"
      },
      "source": [
        "u['text'] = test_df['raw_text']"
      ],
      "execution_count": null,
      "outputs": []
    },
    {
      "cell_type": "code",
      "metadata": {
        "id": "LIXAgIDEyC1Q"
      },
      "source": [
        "u.to_csv(os.path.join(cwd, \"drive/My Drive/Output/result.csv\"))"
      ],
      "execution_count": null,
      "outputs": []
    },
    {
      "cell_type": "markdown",
      "metadata": {
        "id": "2N3_KVGdQp3K"
      },
      "source": [
        "Accuracy evaluation"
      ]
    },
    {
      "cell_type": "code",
      "metadata": {
        "id": "QF4xq3J_zvWD"
      },
      "source": [
        "def load_model(save_path):\r\n",
        "  \"\"\"\r\n",
        "  Load the model from the path directory provided\r\n",
        "  \"\"\"\r\n",
        "  checkpoint = torch.load(save_path)\r\n",
        "  model_state_dict = checkpoint['state_dict']\r\n",
        "  model = XLNetForMultiLabelSequenceClassification(num_labels=model_state_dict[\"classifier.weight\"].size()[0])\r\n",
        "  model.load_state_dict(model_state_dict)\r\n",
        "\r\n",
        "  epochs = checkpoint[\"epochs\"]\r\n",
        "  lowest_eval_loss = checkpoint[\"lowest_eval_loss\"]\r\n",
        "  train_loss_hist = checkpoint[\"train_loss_hist\"]\r\n",
        "  valid_loss_hist = checkpoint[\"valid_loss_hist\"]\r\n",
        "  \r\n",
        "  return model, epochs, lowest_eval_loss, train_loss_hist, valid_loss_hist"
      ],
      "execution_count": 13,
      "outputs": []
    },
    {
      "cell_type": "code",
      "metadata": {
        "id": "duwSFn9yNpEg"
      },
      "source": [
        "import os\r\n",
        "cwd = os.getcwd()\r\n",
        "model_save_path = output_model_file = os.path.join(cwd, \"drive/My Drive/Models/xlnet_asrs.bin\")\r\n",
        "model, start_epoch, lowest_eval_loss, train_loss_hist, valid_loss_hist = load_model(model_save_path)"
      ],
      "execution_count": 24,
      "outputs": []
    },
    {
      "cell_type": "code",
      "metadata": {
        "id": "OZSZg518OS6B"
      },
      "source": [
        "pred_probs = generate_predictions(model, train_df.head(5000), 22, device=\"cuda\", batch_size=32)"
      ],
      "execution_count": 27,
      "outputs": []
    },
    {
      "cell_type": "code",
      "metadata": {
        "colab": {
          "base_uri": "https://localhost:8080/"
        },
        "id": "Fe7JWiM3Owmj",
        "outputId": "5c971f58-91a2-4b9f-9d1a-7c7faf200e18"
      },
      "source": [
        "# u = u.applymap(lambda x: 1 if x>=0.5 else 0)\r\n",
        "tensor_filtered_labels = torch.Tensor(filtered_labels)\r\n",
        "tensor_filtered_labels = tensor_filtered_labels[:5000]\r\n",
        "tensor_filtered_labels.shape"
      ],
      "execution_count": 30,
      "outputs": [
        {
          "output_type": "execute_result",
          "data": {
            "text/plain": [
              "torch.Size([5000, 22])"
            ]
          },
          "metadata": {
            "tags": []
          },
          "execution_count": 30
        }
      ]
    },
    {
      "cell_type": "code",
      "metadata": {
        "colab": {
          "base_uri": "https://localhost:8080/"
        },
        "id": "JBBKdUmJPdMy",
        "outputId": "7dc8b214-3601-45e7-d39a-4cc823ae3d42"
      },
      "source": [
        "u_infer = pd.DataFrame(pred_probs)\r\n",
        "u_infer = u_infer.applymap(lambda x: 1 if x>=0.5 else 0)\r\n",
        "tensor_infer_pred = torch.Tensor(u_infer.values)\r\n",
        "tensor_infer_pred.shape"
      ],
      "execution_count": 29,
      "outputs": [
        {
          "output_type": "execute_result",
          "data": {
            "text/plain": [
              "torch.Size([5000, 22])"
            ]
          },
          "metadata": {
            "tags": []
          },
          "execution_count": 29
        }
      ]
    },
    {
      "cell_type": "code",
      "metadata": {
        "colab": {
          "base_uri": "https://localhost:8080/"
        },
        "id": "7B1ByQm7Ptw9",
        "outputId": "f26998a4-6150-4532-f18a-09c387fc3c9c"
      },
      "source": [
        "perf_sum = (tensor_filtered_labels == tensor_infer_pred).sum()\r\n",
        "accuracy = (perf_sum / (tensor_infer_pred.shape[0] * tensor_infer_pred.shape[1]) ) * 100\r\n",
        "print('Accuracy evaluated gives : {}'.format(accuracy.item()))"
      ],
      "execution_count": 33,
      "outputs": [
        {
          "output_type": "stream",
          "text": [
            "Accuracy evaluated gives : 95.24000549316406\n"
          ],
          "name": "stdout"
        }
      ]
    },
    {
      "cell_type": "code",
      "metadata": {
        "id": "ZtqA83SeQAd1"
      },
      "source": [
        ""
      ],
      "execution_count": null,
      "outputs": []
    }
  ]
}